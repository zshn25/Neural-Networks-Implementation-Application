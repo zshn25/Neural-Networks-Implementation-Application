{
 "cells": [
  {
   "cell_type": "code",
   "execution_count": 15,
   "metadata": {},
   "outputs": [],
   "source": [
    "from torch import tensor\n",
    "from pathlib import Path\n",
    "from IPython.core.debugger import set_trace\n",
    "import pickle, gzip, math, torch, matplotlib as mpl\n",
    "import matplotlib.pyplot as plt"
   ]
  },
  {
   "cell_type": "code",
   "execution_count": 16,
   "metadata": {},
   "outputs": [],
   "source": [
    "with gzip.open('mnist.pkl.gz', 'rb') as f:\n",
    "    ((x_train, y_train), (x_valid, y_valid), _) = pickle.load(f, encoding='latin-1')"
   ]
  },
  {
   "cell_type": "code",
   "execution_count": 17,
   "metadata": {},
   "outputs": [
    {
     "data": {
      "text/plain": [
       "(50000, 784)"
      ]
     },
     "execution_count": 17,
     "metadata": {},
     "output_type": "execute_result"
    }
   ],
   "source": [
    "# The data is numpy arrays. We map them to tensors (GPU arrays)\n",
    "x_train, y_train, x_valid, y_valid = map(tensor, (x_train, y_train, x_valid, y_valid))\n",
    "n,c= x_train.shape\n",
    "n,c"
   ]
  },
  {
   "cell_type": "code",
   "execution_count": 18,
   "metadata": {},
   "outputs": [
    {
     "data": {
      "image/png": "[encoded data removed]",
      "text/plain": [
       "<Figure size 432x288 with 1 Axes>"
      ]
     },
     "metadata": {
      "needs_background": "light"
     },
     "output_type": "display_data"
    }
   ],
   "source": [
    "mpl.rcParams['image.cmap'] = 'gray'\n",
    "img = x_train[0]\n",
    "img.view(28,28).type()\n",
    "plt.imshow(img.view((28,28))); # Reshape 784 into 28,28 array with view fn"
   ]
  },
  {
   "cell_type": "markdown",
   "metadata": {},
   "source": [
    "## Model"
   ]
  },
  {
   "cell_type": "code",
   "execution_count": 19,
   "metadata": {},
   "outputs": [],
   "source": [
    "weights = torch.randn(784,10)\n",
    "bias =torch.zeros(10)"
   ]
  },
  {
   "cell_type": "markdown",
   "metadata": {},
   "source": [
    "### Matrix multiplication"
   ]
  },
  {
   "cell_type": "code",
   "execution_count": 20,
   "metadata": {},
   "outputs": [],
   "source": [
    "# Naive matrix multiplication\n",
    "def matmul(a,b):\n",
    "    ar, ac = a.shape\n",
    "    br, bc = b.shape\n",
    "    assert ac == br\n",
    "    c = torch.zeros(ar,bc)\n",
    "    for i in range(ar):\n",
    "        for j in range(bc):\n",
    "            for k in range(ac):\n",
    "                c[i,j] += a[i,k] * b[k,j]\n",
    "    return c"
   ]
  },
  {
   "cell_type": "code",
   "execution_count": 21,
   "metadata": {},
   "outputs": [
    {
     "data": {
      "text/plain": [
       "(torch.Size([5, 784]), torch.Size([784, 10]))"
      ]
     },
     "execution_count": 21,
     "metadata": {},
     "output_type": "execute_result"
    }
   ],
   "source": [
    "m1 = x_valid[:5]\n",
    "m2 = weights\n",
    "m1.shape, m2.shape"
   ]
  },
  {
   "cell_type": "code",
   "execution_count": 22,
   "metadata": {},
   "outputs": [
    {
     "name": "stdout",
     "output_type": "stream",
     "text": [
      "Wall time: 1.4 s\n"
     ]
    }
   ],
   "source": [
    "%time t1=matmul(m1, m2)"
   ]
  },
  {
   "cell_type": "markdown",
   "metadata": {},
   "source": [
    "Naive is too slow : 1.2 s"
   ]
  },
  {
   "cell_type": "code",
   "execution_count": 23,
   "metadata": {},
   "outputs": [],
   "source": [
    "# Vectorized matrix multiplication\n",
    "def matmul(a,b):\n",
    "    ar, ac = a.shape\n",
    "    br, bc = b.shape\n",
    "    assert ac == br\n",
    "    c = torch.zeros(ar,bc)\n",
    "    for i in range(ar):\n",
    "        for j in range(bc):\n",
    "            c[i,j] = (a[i,:] * b[:,j]).sum()\n",
    "    return c"
   ]
  },
  {
   "cell_type": "code",
   "execution_count": 24,
   "metadata": {},
   "outputs": [
    {
     "name": "stdout",
     "output_type": "stream",
     "text": [
      "Wall time: 2 ms\n"
     ]
    }
   ],
   "source": [
    "%time t1=matmul(m1, m2)"
   ]
  },
  {
   "cell_type": "markdown",
   "metadata": {},
   "source": [
    "Vectorized one is : 3 ms"
   ]
  },
  {
   "cell_type": "code",
   "execution_count": 25,
   "metadata": {},
   "outputs": [],
   "source": [
    "# Broadcasted matrix multiplication\n",
    "def matmul(a,b):\n",
    "    ar, ac = a.shape\n",
    "    br, bc = b.shape\n",
    "    assert ac == br\n",
    "    c = torch.zeros(ar,bc)\n",
    "    for i in range(ar):\n",
    "            c[i,:] = (a[i,:].unsqueeze(-1) * b).sum(dim=0)\n",
    "    return c"
   ]
  },
  {
   "cell_type": "code",
   "execution_count": 26,
   "metadata": {},
   "outputs": [
    {
     "name": "stdout",
     "output_type": "stream",
     "text": [
      "Wall time: 1e+03 µs\n"
     ]
    }
   ],
   "source": [
    "%time t1=matmul(m1, m2)"
   ]
  },
  {
   "cell_type": "markdown",
   "metadata": {},
   "source": [
    "Broadcast matmul time: 1 ms"
   ]
  },
  {
   "cell_type": "code",
   "execution_count": 27,
   "metadata": {},
   "outputs": [
    {
     "name": "stdout",
     "output_type": "stream",
     "text": [
      "Wall time: 0 ns\n"
     ]
    },
    {
     "data": {
      "text/plain": [
       "array([[  5.691075  ,  16.28933   ,   2.0140808 ,   7.357096  ,\n",
       "          0.81534195,  21.364254  , -10.218528  ,   7.9916844 ,\n",
       "          3.7460508 ,   3.9860883 ],\n",
       "       [ -4.3225937 ,  18.572964  ,   1.515564  ,   2.6239016 ,\n",
       "         -1.7383683 ,  13.750866  ,  -7.2006044 ,  10.845543  ,\n",
       "        -11.297068  ,  -0.12869501],\n",
       "       [ -5.944226  ,  17.293951  ,   8.172461  ,   9.334679  ,\n",
       "         14.084606  ,   8.181305  ,  -9.832958  ,   2.4618044 ,\n",
       "          5.202966  ,  13.087377  ],\n",
       "       [ -0.97929037,   7.8528957 ,  -5.1944036 ,  16.07204   ,\n",
       "         11.829055  ,   7.6489954 ,   0.8262379 ,  10.302209  ,\n",
       "          0.73990095,   2.2615309 ],\n",
       "       [ -6.5095615 ,   3.6197429 ,  -7.1315413 ,   2.4847035 ,\n",
       "          1.4356837 ,   6.7887545 ,   5.331416  ,   6.3902407 ,\n",
       "          0.2979517 ,   8.059476  ]], dtype=float32)"
      ]
     },
     "execution_count": 27,
     "metadata": {},
     "output_type": "execute_result"
    }
   ],
   "source": [
    "%time m1.numpy()@m2.numpy()"
   ]
  },
  {
   "cell_type": "markdown",
   "metadata": {},
   "source": [
    "Numpy: 3ms"
   ]
  },
  {
   "cell_type": "code",
   "execution_count": 28,
   "metadata": {},
   "outputs": [
    {
     "name": "stdout",
     "output_type": "stream",
     "text": [
      "Wall time: 0 ns\n"
     ]
    },
    {
     "data": {
      "text/plain": [
       "tensor([[  5.6911,  16.2893,   2.0141,   7.3571,   0.8153,  21.3643, -10.2185,\n",
       "           7.9917,   3.7461,   3.9861],\n",
       "        [ -4.3226,  18.5730,   1.5156,   2.6239,  -1.7384,  13.7509,  -7.2006,\n",
       "          10.8455, -11.2971,  -0.1287],\n",
       "        [ -5.9442,  17.2940,   8.1725,   9.3347,  14.0846,   8.1813,  -9.8330,\n",
       "           2.4618,   5.2030,  13.0874],\n",
       "        [ -0.9793,   7.8529,  -5.1944,  16.0720,  11.8291,   7.6490,   0.8262,\n",
       "          10.3022,   0.7399,   2.2615],\n",
       "        [ -6.5096,   3.6197,  -7.1315,   2.4847,   1.4357,   6.7888,   5.3314,\n",
       "           6.3902,   0.2980,   8.0595]])"
      ]
     },
     "execution_count": 28,
     "metadata": {},
     "output_type": "execute_result"
    }
   ],
   "source": [
    "%time torch.mm(m1,m2)"
   ]
  },
  {
   "cell_type": "code",
   "execution_count": 29,
   "metadata": {},
   "outputs": [
    {
     "data": {
      "text/plain": [
       "tensor([[-0.1297, -0.6752,  0.6991,  ..., -1.1065,  0.8888, -0.3337],\n",
       "        [ 1.6245, -1.4033, -0.1889,  ...,  1.5594, -1.5090, -0.8083],\n",
       "        [ 0.1510,  0.9005, -0.3396,  ..., -0.5043, -0.1400, -0.6479],\n",
       "        ...,\n",
       "        [ 0.6361, -1.2299, -1.0664,  ..., -0.7709,  1.0842,  0.6286],\n",
       "        [-0.5253, -0.5351,  0.7478,  ..., -0.1662,  0.0318, -0.7482],\n",
       "        [ 1.5735,  0.6596, -1.2726,  ..., -1.7777,  0.2311,  0.6456]],\n",
       "       device='cuda:0')"
      ]
     },
     "execution_count": 29,
     "metadata": {},
     "output_type": "execute_result"
    }
   ],
   "source": [
    "m1.cuda()\n",
    "m2.cuda()"
   ]
  },
  {
   "cell_type": "code",
   "execution_count": 30,
   "metadata": {},
   "outputs": [
    {
     "name": "stdout",
     "output_type": "stream",
     "text": [
      "Wall time: 0 ns\n"
     ]
    },
    {
     "data": {
      "text/plain": [
       "tensor([[  5.6911,  16.2893,   2.0141,   7.3571,   0.8153,  21.3643, -10.2185,\n",
       "           7.9917,   3.7461,   3.9861],\n",
       "        [ -4.3226,  18.5730,   1.5156,   2.6239,  -1.7384,  13.7509,  -7.2006,\n",
       "          10.8455, -11.2971,  -0.1287],\n",
       "        [ -5.9442,  17.2940,   8.1725,   9.3347,  14.0846,   8.1813,  -9.8330,\n",
       "           2.4618,   5.2030,  13.0874],\n",
       "        [ -0.9793,   7.8529,  -5.1944,  16.0720,  11.8291,   7.6490,   0.8262,\n",
       "          10.3022,   0.7399,   2.2615],\n",
       "        [ -6.5096,   3.6197,  -7.1315,   2.4847,   1.4357,   6.7888,   5.3314,\n",
       "           6.3902,   0.2980,   8.0595]])"
      ]
     },
     "execution_count": 30,
     "metadata": {},
     "output_type": "execute_result"
    }
   ],
   "source": [
    "%time torch.mm(m1,m2)"
   ]
  }
 ],
 "metadata": {
  "kernelspec": {
   "display_name": "Python 3",
   "language": "python",
   "name": "python3"
  },
  "language_info": {
   "codemirror_mode": {
    "name": "ipython",
    "version": 3
   },
   "file_extension": ".py",
   "mimetype": "text/x-python",
   "name": "python",
   "nbconvert_exporter": "python",
   "pygments_lexer": "ipython3",
   "version": "3.7.3"
  }
 },
 "nbformat": 4,
 "nbformat_minor": 2
}
