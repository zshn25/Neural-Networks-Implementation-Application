{
 "cells": [
  {
   "cell_type": "markdown",
   "metadata": {},
   "source": [
    "# Assignment Sheet 5: Classification with TensorFlow (deadline: 8 Dec, 23:59)"
   ]
  },
  {
   "cell_type": "markdown",
   "metadata": {},
   "source": [
    "---"
   ]
  },
  {
   "cell_type": "markdown",
   "metadata": {},
   "source": [
    "## 1. Practicing Chain-Rule and Backpropagation (5.0 points)"
   ]
  },
  {
   "cell_type": "markdown",
   "metadata": {},
   "source": [
    "Given the following function $$ f(w, b) = \\frac{e^{w+b} w + \\sigma(w) + b}{(\\sigma(b) + \\sigma(w))²}$$ with $\\sigma(x) = \\frac{1}{1+e^{-x}}$ and $w, b \\in \\mathbb{R}$."
   ]
  },
  {
   "cell_type": "markdown",
   "metadata": {},
   "source": [
    "$a)$ Compute the partial derivatives of $f(w, b)$ with respect to $w$ and $b$ analytically. ($0.5$ points)\n",
    "\n",
    "#### Answer\n",
    "\n",
    "$A(w,b) := (\\sigma(b) + \\sigma(w))^{-2}$\n",
    "\n",
    "$B(w,b) := e^{w+b} w + \\sigma(w) + b$\n",
    "\n",
    "$\\frac{\\partial A(w,b)}{\\partial w} = -2(\\sigma(b)+\\sigma(w))^{-3}(\\sigma(w)(1-\\sigma(w)))$\n",
    "\n",
    "$\\frac{\\partial B(w,b)}{\\partial w} = e^{w+b} + we^{w+b} + \\sigma(w)(1-\\sigma(w))$\n",
    "\n",
    "$$\\frac{\\partial f(w,b)}{\\partial w} = \\frac{\\partial A(w,b)}{\\partial w} (B(w,b)) + \\frac{\\partial B(w,b)}{\\partial w} (A(w,b))$$\n",
    "\n",
    "$$ \\implies \\frac{-2(\\sigma(w)(1-\\sigma(w)))(e^{w+b} w + \\sigma(w) + b)}{(\\sigma(b)+\\sigma(w))^{3}} + \\frac{e^{w+b} + we^{w+b} + \\sigma(w)(1-\\sigma(w))}{(\\sigma(b) + \\sigma(w))^{2}}$$\n",
    "\n",
    "\n",
    "And taking the partial derivatives w.r.t. b gives\n",
    "\n",
    "\n",
    "$\\frac{\\partial A(w,b)}{\\partial b} = -2(\\sigma(b)+\\sigma(w))^{-3}(\\sigma(b)(1-\\sigma(b)))$\n",
    "\n",
    "$\\frac{\\partial B(w,b)}{\\partial b} = we^{w+b} + 1$\n",
    "\n",
    "$$\\frac{\\partial f(w,b)}{\\partial b} = \\frac{\\partial A(w,b)}{\\partial b} (B(w,b)) + \\frac{\\partial B(w,b)}{\\partial b} (A(w,b))$$\n",
    "\n",
    "$$ \\implies \\frac{-2(\\sigma(b)(1-\\sigma(b)))(e^{w+b} w + \\sigma(w) + b)}{(\\sigma(b)+\\sigma(w))^{3}} + \\frac{we^{w+b} + 1}{(\\sigma(b) + \\sigma(w))^{2}}$$\n"
   ]
  },
  {
   "cell_type": "markdown",
   "metadata": {},
   "source": [
    "1$b)$ Decompose the function $f(w, b)$ into primitives. Rewrite the function using these primitives. ($0.5$ points)"
   ]
  },
  {
   "cell_type": "code",
   "execution_count": 8,
   "metadata": {},
   "outputs": [],
   "source": [
    "import numpy as np\n",
    "import math\n",
    "# TODO: Write function primitives in python\n",
    "\n",
    "def exponent(x):\n",
    "    return math.exp(x)\n",
    "\n",
    "def sigmoid(x):\n",
    "    return 1/(1+exponent(-x))\n",
    "\n",
    "# Example\n",
    "def square(x):\n",
    "    return x**2\n",
    "\n",
    "def A(w, b):\n",
    "    return 1.0/square(sigmoid(b) + sigmoid(w))\n",
    "\n",
    "def B(w, b):\n",
    "    return exponent(w+b) * w + sigmoid(w) + b "
   ]
  },
  {
   "cell_type": "markdown",
   "metadata": {},
   "source": [
    "$c)$ Draw a computation graph for the function $f(w, b)$ using the primitives defined above as nodes. You may want to use the [NetworkX](https://networkx.github.io/) library for this task. You can install it by running `conda install networkx` from within your activated *nnia* conda environment. ($1.0$ point)"
   ]
  },
  {
   "cell_type": "code",
   "execution_count": null,
   "metadata": {},
   "outputs": [],
   "source": [
    "#import networkx as nx\n",
    "#G = nx.Graph()\n",
    "#G.add_node(1)\n",
    "#G.add_nodes_from([1, 2, 3])\n",
    "#G.add_edge(1, 2)\n",
    "#print g.nodes()"
   ]
  },
  {
   "cell_type": "markdown",
   "metadata": {},
   "source": [
    "$d)$ Specify $\\frac{\\partial}{\\partial x} p_i$ for each of the primitives $p_i$. ($1.0$ points)"
   ]
  },
  {
   "cell_type": "code",
   "execution_count": 9,
   "metadata": {},
   "outputs": [],
   "source": [
    "# TODO: Specifiy derivatives of the primitives in python\n",
    "\n",
    "# Example\n",
    "def dsquare(x):\n",
    "    return 2 * x\n",
    "\n",
    "def dsigmoid(x):\n",
    "    return sigmoid(x) * (1 - sigmoid(x))\n",
    "\n",
    "def A_w(w,b):\n",
    "    return (-2*dsigmoid(w))/math.pow(sigmoid(b) + sigmoid(w),3)\n",
    "\n",
    "def B_w(w,b):\n",
    "    return math.exp(w+b) + w*exponent(w+b) + dsigmoid(w)\n",
    "\n",
    "def A_b(w,b):\n",
    "    return (-2*dsigmoid(b))/math.pow(sigmoid(b) + sigmoid(w),3)\n",
    "\n",
    "def B_b(w,b):\n",
    "    return w*exponent(w+b) + 1"
   ]
  },
  {
   "cell_type": "markdown",
   "metadata": {},
   "source": [
    "$e)$ Given the inputs $w = 5, b = -3$. Compute the forward pass of your function. You might want to store the intermediate result in a dictionary in order to later use them in backward pass. ($1.0$ point)"
   ]
  },
  {
   "cell_type": "code",
   "execution_count": 10,
   "metadata": {},
   "outputs": [
    {
     "name": "stdout",
     "output_type": "stream",
     "text": [
      "32.25720062850209\n"
     ]
    }
   ],
   "source": [
    "# Compute the forward pass using the primitives defined above\n",
    "def forward(w, b):\n",
    "    # TODO: Implement\n",
    "    return A(w,b)*B(w,b)\n",
    "\n",
    "print(forward(5, -3))"
   ]
  },
  {
   "cell_type": "markdown",
   "metadata": {},
   "source": [
    "$f)$ For the same inputs as above, perform the backward pass in order to compute $\\frac{\\partial}{\\partial w}f~\\mid_{w=5, b=-3}$ and $\\frac{\\partial}{\\partial b}f~\\mid_{w=5, b=-3}$. ($1.0$ point)"
   ]
  },
  {
   "cell_type": "code",
   "execution_count": 11,
   "metadata": {},
   "outputs": [
    {
     "name": "stdout",
     "output_type": "stream",
     "text": [
      "[40.52589496779097, 32.232669268307895]\n"
     ]
    }
   ],
   "source": [
    "# TODO: Compute the backward pass using the derivatives of the primitives defined above. \n",
    "def backward(w, b):\n",
    "    # TODO: Implement\n",
    "    fw = A(w,b)*B_w(w,b) + A_w(w,b)*B(w,b)\n",
    "    fb = A(w,b)*B_b(w,b) + A_b(w,b)*B(w,b)\n",
    "    return [fw, fb]\n",
    "    \n",
    "print(backward(5, -3))"
   ]
  },
  {
   "cell_type": "markdown",
   "metadata": {},
   "source": [
    "## 2. Classification using Feedforward Neural Networks with TensorFlow (12.0 points)"
   ]
  },
  {
   "cell_type": "markdown",
   "metadata": {},
   "source": [
    "In this exercise, you will implement a feedforward neural network using TensorFlow. We will then train the neural network on a simple two class classification problem."
   ]
  },
  {
   "cell_type": "code",
   "execution_count": 22,
   "metadata": {},
   "outputs": [],
   "source": [
    "# Imports\n",
    "import numpy as np\n",
    "import tensorflow as tf\n",
    "from sklearn.datasets import make_moons, make_circles\n",
    "from sklearn.model_selection import train_test_split\n",
    "\n",
    "%matplotlib inline\n",
    "import matplotlib.pyplot as plt"
   ]
  },
  {
   "cell_type": "markdown",
   "metadata": {},
   "source": [
    "Let's create some dummy data using the scikit-learn library."
   ]
  },
  {
   "cell_type": "code",
   "execution_count": 23,
   "metadata": {},
   "outputs": [
    {
     "name": "stdout",
     "output_type": "stream",
     "text": [
      "(270, 1)\n"
     ]
    },
    {
     "data": {
      "image/png": "[encoded data removed]",
      "text/plain": [
       "<matplotlib.figure.Figure at 0x21e1fa39eb8>"
      ]
     },
     "metadata": {},
     "output_type": "display_data"
    }
   ],
   "source": [
    "# Get some data\n",
    "X, y = make_moons(n_samples= 300, noise=0.15, random_state=123)\n",
    "\n",
    "# Split the data into training and test data\n",
    "X_train, X_test, y_train, y_test = train_test_split(X, y, test_size=.1)\n",
    "y_train = np.reshape(y_train, newshape=(-1, 1))\n",
    "y_test = np.reshape(y_test, newshape=(-1, 1))\n",
    "print(y_train.shape)\n",
    "# Plot the training data and color the data point according to their class label\n",
    "fig, axes = plt.subplots(1, 1)\n",
    "axes.scatter(X_train[: , 0].reshape(X_train.shape[0],1), X_train[: , 1].reshape(X_train.shape[0],1), c=y_train, cmap='Set1')\n",
    "axes.set_title('Training Data');"
   ]
  },
  {
   "cell_type": "markdown",
   "metadata": {},
   "source": [
    "In the following you are allowed to use predefined functions of the TensorFlow API such as `tf.get_variable()`, `tf.nn.relu(x)` or `tf.random_normal_initializer()`. Addtionally you are allowed to use the gradient descent optimizer `tf.train.GradientDescentOptimizer` predefined by TensorFlow. However, you are not allowed to use any predefined layer from the [API](https://www.tensorflow.org/api_docs/python/tf/layers) such as `tf.Layers.Dense` or `tf.contrib.layers.fully_connected`. It is your task to implement these layers yourself."
   ]
  },
  {
   "cell_type": "markdown",
   "metadata": {},
   "source": [
    "**Before you start**: In this exercise you will implement a single hidden layer feedforward neural network. In case you are unfamiliar with the terminology and notation used here, please consult chapter 6 of the Deep Learning Book before you proceed."
   ]
  },
  {
   "cell_type": "markdown",
   "metadata": {},
   "source": [
    "Generally speaking, a feedword neural network with a single hidden layer can be represented by the following function $$ f(x;\\theta) = f^{(2)}(f^{(1)}(f^{(0)}(x)))$$ where $f^{(0)}(x)$ is the input layer, $f^{(1)}(x)$ is the so called hidden layer, and $f^{(2)}(x)$ is the ouput layer of the network. $\\theta$ represents the parameters of the network whose values will be learned during the training phase."
   ]
  },
  {
   "cell_type": "markdown",
   "metadata": {},
   "source": [
    "The network that you will implement in this exercise has the following layers:\n",
    "* $f^{(0)}(x) = \\mathbf{X}$, with $\\mathbf{X} \\in \\mathbb{R}^{b, p}$ where $b$ is the batch size and $p$ is the number of features.\n",
    "* $f^{(1)}(x) = g(\\mathbf{X} \\mathbf{W_1}+b_1)$, with $\\mathbf{X} \\in \\mathbb{R}^{b, p}$, $\\mathbf{W_1} \\in \\mathbb{R}^{p,u_1}$, $b_1 \\in \\mathbb{R}^{u_1}$ where $u_1$ is the number of **units** of this particular layer. Additonally, $g(x) = \\max{\\{0, x\\}}$ is the so called **rectified linear unit** (*ReLU*) activation function. \n",
    "* $f^{(2)}(x) = \\sigma(\\mathbf{X} \\mathbf{W_2}+b_2)$, with $\\mathbf{X} \\in \\mathbb{R}^{b, u_1}$, $\\mathbf{W_1} \\in \\mathbb{R}^{u_1,u_2}$, $b_1 \\in \\mathbb{R}^{u_2}$ where $u_2$ is the number of **units** of this particular layer. Additonally, $\\sigma(x) = \\frac{1}{1 + \\exp{-x}}$ is the **sigmoid** function.\n",
    "\n",
    "Note that both, $g(x)$ and $\\sigma(x)$ are applied **elementwise**. Further the addition with the bias vector is also applied **elementwise** to each column of the matrix $\\mathbf{X} \\mathbf{W}$."
   ]
  },
  {
   "cell_type": "markdown",
   "metadata": {},
   "source": [
    "$a)$ Start the implementation of your neural network by defining functions for its different layers $f^{(0)}(x),~f^{(1)}(x),~f^{(2)}(x)$. To do so, please complete the functions skeletons below."
   ]
  },
  {
   "cell_type": "markdown",
   "metadata": {},
   "source": [
    "First, implement a linear layer that computes the linear combination $\\mathbf{X} \\mathbf{W}+b$ for a given `input_shape` of $x$ and a given number of hidden units `n_hidden_units`."
   ]
  },
  {
   "cell_type": "code",
   "execution_count": 24,
   "metadata": {},
   "outputs": [],
   "source": [
    "# TODO: implement the function below.\n",
    "# Hint: The following methods might be useful: tf.get_variable(), tf.random_normal_initializer(), tf.matmul(), tf.get_variable()\n",
    "def linear_layer(input_shape, n_hidden_units, x):\n",
    "    \"\"\"\n",
    "    Define a linear layer for your neural network.\n",
    "    :param input_shape: The shape of the input for the layer. Be careful to consider that your data comes in batches. \n",
    "    :param n_hidden: The number of hidden units.\n",
    "    :param x: The input to the layer.\n",
    "    :return: A tuple where the first element is the linear combination of the input with the weights and the biases of the linear layer and the second element is the shape of the output matrix.\n",
    "    \"\"\"\n",
    "    weights = tf.get_variable(\"weights\", shape=(input_shape[1],n_hidden_units),\n",
    "        initializer=tf.random_normal_initializer())\n",
    "    biases = tf.get_variable(\"biases\", shape=(n_hidden_units,1),\n",
    "        initializer=tf.random_normal_initializer())\n",
    "    output_matrix = tf.add(tf.matmul(x, weights), biases)\n",
    "    return (output_matrix,tf.size(output_matrix))"
   ]
  },
  {
   "cell_type": "markdown",
   "metadata": {},
   "source": [
    "Next, implement a function that computes the ReLU nonlinearity."
   ]
  },
  {
   "cell_type": "code",
   "execution_count": 25,
   "metadata": {},
   "outputs": [],
   "source": [
    "# TODO: implement the function below.\n",
    "def relu(x):\n",
    "    \"\"\"\n",
    "    Define the ReLU activation function.\n",
    "    :param x: The input to the activation function.\n",
    "    :return: The output of the activation function.\n",
    "    \"\"\"\n",
    "    return tf.nn.relu(x)"
   ]
  },
  {
   "cell_type": "markdown",
   "metadata": {},
   "source": [
    "Next, implement a function that computes the sigmoid nonlinearity."
   ]
  },
  {
   "cell_type": "code",
   "execution_count": 26,
   "metadata": {},
   "outputs": [],
   "source": [
    "# TODO: implement the function below.\n",
    "def sigmoid(x):\n",
    "    \"\"\"\n",
    "    Define the sigmoid activation function.\n",
    "    :param x: The input to the activation function.\n",
    "    :return: The output of the activation function.\n",
    "    \"\"\"\n",
    "    return tf.divide(1.0,1.0+tf.exp(-x))"
   ]
  },
  {
   "cell_type": "markdown",
   "metadata": {},
   "source": [
    "Additional to the layers above, you need to implement a layer that computes to loss between the prediction of your model and the actual label of your data. For the **loss function** of the network we are going to use the cross entropy between the model logits and the true labels. Take a look at the TensorFlow [API](https://www.tensorflow.org/api_docs/python/tf/nn/sigmoid_cross_entropy_with_logits) for further details. You also might want to take a look at page 128 in the Deep Learning Book for further information."
   ]
  },
  {
   "cell_type": "code",
   "execution_count": null,
   "metadata": {},
   "outputs": [],
   "source": [
    "# TODO: implement the function below.\n",
    "def cross_entropy_loss(labels, unscaled_logits):\n",
    "    \"\"\"\n",
    "    Define the cross entropy loss function between the true labels and the model predictions. Be careful to consider that your data comes in batches.\n",
    "    :param labels: The true labels.\n",
    "    :param unscaled_logits: The final activations produced by your model.\n",
    "    :return: The loss value (a scalar).\n",
    "    \"\"\"\n",
    "    # x = unscaled_logits\n",
    "    # z = labels\n",
    "    return tf.reduce_mean(tf.nn.sigmoid_cross_entropy_with_logits(labels, unscaled_logits))\n",
    "    # return max(x, 0) - x * z + log(1 + exp(-abs(x)))"
   ]
  },
  {
   "cell_type": "markdown",
   "metadata": {},
   "source": [
    "Using the layers above, you can now define a function that specifies the forward pass through your network. Please make sure that the first hidden layer has $128$ hidden units and the output layer has $1$ hidden unit. **Note**: Make sure that the forward pass does not compute the final prediction of your network, i.e the value returned by the function below should be used as the input to the *sigmoid* function."
   ]
  },
  {
   "cell_type": "code",
   "execution_count": 27,
   "metadata": {},
   "outputs": [],
   "source": [
    "n_hidden_units = 128\n",
    "\n",
    "# TODO: implement the function below. This is where you build up your model architecture using the layers defined above.\n",
    "def forward(x, input_shape):\n",
    "    \"\"\"\n",
    "    Define the forward pass of your network. Be careful to consider that your data comes in batches.\n",
    "    :param x: The input to your model.\n",
    "    :param input_shape: The shape of the input.\n",
    "    :return: The (unscaled) logit computed by the network.\n",
    "    \"\"\"\n",
    "    linear, shape = linear_layer(input_shape, n_hidden_units, x)\n",
    "    return linear\n",
    "    #g = relu(linear)"
   ]
  },
  {
   "cell_type": "markdown",
   "metadata": {},
   "source": [
    "Now that the first part of the forward path of the neural network is defined, we need a function that computes the actual predictions of the model using the activations returned by `forward`."
   ]
  },
  {
   "cell_type": "code",
   "execution_count": 28,
   "metadata": {},
   "outputs": [],
   "source": [
    "# TODO: implement the function below.\n",
    "def inference(unscaled_logits):\n",
    "    \"\"\"\n",
    "    Define the predictions computed by your network\n",
    "    :param unscaled_logits: The (unscaled) logit computed by the network.\n",
    "    :return: The prediction of your model on input x.\n",
    "    \"\"\"\n",
    "    return relu(unscaled_logits)"
   ]
  },
  {
   "cell_type": "markdown",
   "metadata": {},
   "source": [
    "Using the `cross_entropy` layer and the `forward` function defined above, please implement the loss function for your network."
   ]
  },
  {
   "cell_type": "code",
   "execution_count": 29,
   "metadata": {},
   "outputs": [],
   "source": [
    "# TODO: implement the function below.\n",
    "def loss(x, y, input_shape):\n",
    "    \"\"\"\n",
    "    Define the loss between the prediction of your model and the actual label.\n",
    "    :param x: The input to your model.\n",
    "    :param y: The shape of the input.\n",
    "    :param input_shape: The loss between what your model predicts and the true label.\n",
    "    :return: \n",
    "    \"\"\"\n",
    "    unscaled_logits = forward(x, input_shape)\n",
    "    return cross_entropy_loss(y, unscaled_logits)"
   ]
  },
  {
   "cell_type": "markdown",
   "metadata": {},
   "source": [
    "$b)$ Define the computation graph of your model using the functions implemented above."
   ]
  },
  {
   "cell_type": "markdown",
   "metadata": {},
   "source": [
    "So far, all that you have done was defining functions that return a **symbolic representation** of the functions computed inside your network. Remember that when using TensorFlow you always need to define a computation graph of your model. Now, use the functions implemented above to define the computation graph for your model."
   ]
  },
  {
   "cell_type": "code",
   "execution_count": 33,
   "metadata": {},
   "outputs": [
    {
     "ename": "ValueError",
     "evalue": "Variable weights already exists, disallowed. Did you mean to set reuse=True in VarScope? Originally defined at:\n\n  File \"C:\\Users\\zshn2\\AppData\\Local\\conda\\conda\\envs\\nnia\\lib\\site-packages\\tensorflow\\python\\framework\\ops.py\", line 1269, in __init__\n    self._traceback = _extract_stack()\n  File \"C:\\Users\\zshn2\\AppData\\Local\\conda\\conda\\envs\\nnia\\lib\\site-packages\\tensorflow\\python\\framework\\ops.py\", line 2506, in create_op\n    original_op=self._default_original_op, op_def=op_def)\n  File \"C:\\Users\\zshn2\\AppData\\Local\\conda\\conda\\envs\\nnia\\lib\\site-packages\\tensorflow\\python\\framework\\op_def_library.py\", line 767, in apply_op\n    op_def=op_def)\n",
     "output_type": "error",
     "traceback": [
      "\u001b[1;31m---------------------------------------------------------------------------\u001b[0m",
      "\u001b[1;31mValueError\u001b[0m                                Traceback (most recent call last)",
      "\u001b[1;32m<ipython-input-33-038489270f05>\u001b[0m in \u001b[0;36m<module>\u001b[1;34m()\u001b[0m\n\u001b[0;32m     18\u001b[0m \u001b[1;33m\u001b[0m\u001b[0m\n\u001b[0;32m     19\u001b[0m \u001b[1;31m# Forward pass\u001b[0m\u001b[1;33m\u001b[0m\u001b[1;33m\u001b[0m\u001b[0m\n\u001b[1;32m---> 20\u001b[1;33m \u001b[0mactivation\u001b[0m \u001b[1;33m=\u001b[0m \u001b[0minference\u001b[0m\u001b[1;33m(\u001b[0m\u001b[0mforward\u001b[0m\u001b[1;33m(\u001b[0m\u001b[0mx\u001b[0m\u001b[1;33m,\u001b[0m \u001b[0minput_shape\u001b[0m\u001b[1;33m)\u001b[0m\u001b[1;33m)\u001b[0m\u001b[1;33m\u001b[0m\u001b[0m\n\u001b[0m\u001b[0;32m     21\u001b[0m \u001b[0mprediction\u001b[0m \u001b[1;33m=\u001b[0m \u001b[0mtf\u001b[0m\u001b[1;33m.\u001b[0m\u001b[0margmax\u001b[0m\u001b[1;33m(\u001b[0m\u001b[0mactivation\u001b[0m\u001b[1;33m,\u001b[0m \u001b[0maxis\u001b[0m\u001b[1;33m=\u001b[0m\u001b[1;36m1\u001b[0m\u001b[1;33m)\u001b[0m\u001b[1;33m\u001b[0m\u001b[0m\n\u001b[0;32m     22\u001b[0m \u001b[1;33m\u001b[0m\u001b[0m\n",
      "\u001b[1;32m<ipython-input-27-0914201d52e9>\u001b[0m in \u001b[0;36mforward\u001b[1;34m(x, input_shape)\u001b[0m\n\u001b[0;32m      9\u001b[0m     \u001b[1;33m:\u001b[0m\u001b[1;32mreturn\u001b[0m\u001b[1;33m:\u001b[0m \u001b[0mThe\u001b[0m \u001b[1;33m(\u001b[0m\u001b[0munscaled\u001b[0m\u001b[1;33m)\u001b[0m \u001b[0mlogit\u001b[0m \u001b[0mcomputed\u001b[0m \u001b[0mby\u001b[0m \u001b[0mthe\u001b[0m \u001b[0mnetwork\u001b[0m\u001b[1;33m.\u001b[0m\u001b[1;33m\u001b[0m\u001b[0m\n\u001b[0;32m     10\u001b[0m     \"\"\"\n\u001b[1;32m---> 11\u001b[1;33m     \u001b[0mlinear\u001b[0m\u001b[1;33m,\u001b[0m \u001b[0mshape\u001b[0m \u001b[1;33m=\u001b[0m \u001b[0mlinear_layer\u001b[0m\u001b[1;33m(\u001b[0m\u001b[0minput_shape\u001b[0m\u001b[1;33m,\u001b[0m \u001b[0mn_hidden_units\u001b[0m\u001b[1;33m,\u001b[0m \u001b[0mx\u001b[0m\u001b[1;33m)\u001b[0m\u001b[1;33m\u001b[0m\u001b[0m\n\u001b[0m\u001b[0;32m     12\u001b[0m     \u001b[1;32mreturn\u001b[0m \u001b[0mlinear\u001b[0m\u001b[1;33m\u001b[0m\u001b[0m\n\u001b[0;32m     13\u001b[0m     \u001b[1;31m#g = relu(linear)\u001b[0m\u001b[1;33m\u001b[0m\u001b[1;33m\u001b[0m\u001b[0m\n",
      "\u001b[1;32m<ipython-input-24-185df03f8831>\u001b[0m in \u001b[0;36mlinear_layer\u001b[1;34m(input_shape, n_hidden_units, x)\u001b[0m\n\u001b[0;32m     10\u001b[0m     \"\"\"\n\u001b[0;32m     11\u001b[0m     weights = tf.get_variable(\"weights\", shape=(input_shape[1],n_hidden_units),\n\u001b[1;32m---> 12\u001b[1;33m         initializer=tf.random_normal_initializer())\n\u001b[0m\u001b[0;32m     13\u001b[0m     biases = tf.get_variable(\"biases\", shape=(n_hidden_units,1),\n\u001b[0;32m     14\u001b[0m         initializer=tf.random_normal_initializer())\n",
      "\u001b[1;32m~\\AppData\\Local\\conda\\conda\\envs\\nnia\\lib\\site-packages\\tensorflow\\python\\ops\\variable_scope.py\u001b[0m in \u001b[0;36mget_variable\u001b[1;34m(name, shape, dtype, initializer, regularizer, trainable, collections, caching_device, partitioner, validate_shape, use_resource, custom_getter)\u001b[0m\n\u001b[0;32m   1063\u001b[0m       \u001b[0mcollections\u001b[0m\u001b[1;33m=\u001b[0m\u001b[0mcollections\u001b[0m\u001b[1;33m,\u001b[0m \u001b[0mcaching_device\u001b[0m\u001b[1;33m=\u001b[0m\u001b[0mcaching_device\u001b[0m\u001b[1;33m,\u001b[0m\u001b[1;33m\u001b[0m\u001b[0m\n\u001b[0;32m   1064\u001b[0m       \u001b[0mpartitioner\u001b[0m\u001b[1;33m=\u001b[0m\u001b[0mpartitioner\u001b[0m\u001b[1;33m,\u001b[0m \u001b[0mvalidate_shape\u001b[0m\u001b[1;33m=\u001b[0m\u001b[0mvalidate_shape\u001b[0m\u001b[1;33m,\u001b[0m\u001b[1;33m\u001b[0m\u001b[0m\n\u001b[1;32m-> 1065\u001b[1;33m       use_resource=use_resource, custom_getter=custom_getter)\n\u001b[0m\u001b[0;32m   1066\u001b[0m get_variable_or_local_docstring = (\n\u001b[0;32m   1067\u001b[0m     \"\"\"%s\n",
      "\u001b[1;32m~\\AppData\\Local\\conda\\conda\\envs\\nnia\\lib\\site-packages\\tensorflow\\python\\ops\\variable_scope.py\u001b[0m in \u001b[0;36mget_variable\u001b[1;34m(self, var_store, name, shape, dtype, initializer, regularizer, reuse, trainable, collections, caching_device, partitioner, validate_shape, use_resource, custom_getter)\u001b[0m\n\u001b[0;32m    960\u001b[0m           \u001b[0mcollections\u001b[0m\u001b[1;33m=\u001b[0m\u001b[0mcollections\u001b[0m\u001b[1;33m,\u001b[0m \u001b[0mcaching_device\u001b[0m\u001b[1;33m=\u001b[0m\u001b[0mcaching_device\u001b[0m\u001b[1;33m,\u001b[0m\u001b[1;33m\u001b[0m\u001b[0m\n\u001b[0;32m    961\u001b[0m           \u001b[0mpartitioner\u001b[0m\u001b[1;33m=\u001b[0m\u001b[0mpartitioner\u001b[0m\u001b[1;33m,\u001b[0m \u001b[0mvalidate_shape\u001b[0m\u001b[1;33m=\u001b[0m\u001b[0mvalidate_shape\u001b[0m\u001b[1;33m,\u001b[0m\u001b[1;33m\u001b[0m\u001b[0m\n\u001b[1;32m--> 962\u001b[1;33m           use_resource=use_resource, custom_getter=custom_getter)\n\u001b[0m\u001b[0;32m    963\u001b[0m \u001b[1;33m\u001b[0m\u001b[0m\n\u001b[0;32m    964\u001b[0m   def _get_partitioned_variable(self,\n",
      "\u001b[1;32m~\\AppData\\Local\\conda\\conda\\envs\\nnia\\lib\\site-packages\\tensorflow\\python\\ops\\variable_scope.py\u001b[0m in \u001b[0;36mget_variable\u001b[1;34m(self, name, shape, dtype, initializer, regularizer, reuse, trainable, collections, caching_device, partitioner, validate_shape, use_resource, custom_getter)\u001b[0m\n\u001b[0;32m    365\u001b[0m           \u001b[0mreuse\u001b[0m\u001b[1;33m=\u001b[0m\u001b[0mreuse\u001b[0m\u001b[1;33m,\u001b[0m \u001b[0mtrainable\u001b[0m\u001b[1;33m=\u001b[0m\u001b[0mtrainable\u001b[0m\u001b[1;33m,\u001b[0m \u001b[0mcollections\u001b[0m\u001b[1;33m=\u001b[0m\u001b[0mcollections\u001b[0m\u001b[1;33m,\u001b[0m\u001b[1;33m\u001b[0m\u001b[0m\n\u001b[0;32m    366\u001b[0m           \u001b[0mcaching_device\u001b[0m\u001b[1;33m=\u001b[0m\u001b[0mcaching_device\u001b[0m\u001b[1;33m,\u001b[0m \u001b[0mpartitioner\u001b[0m\u001b[1;33m=\u001b[0m\u001b[0mpartitioner\u001b[0m\u001b[1;33m,\u001b[0m\u001b[1;33m\u001b[0m\u001b[0m\n\u001b[1;32m--> 367\u001b[1;33m           validate_shape=validate_shape, use_resource=use_resource)\n\u001b[0m\u001b[0;32m    368\u001b[0m \u001b[1;33m\u001b[0m\u001b[0m\n\u001b[0;32m    369\u001b[0m   def _get_partitioned_variable(\n",
      "\u001b[1;32m~\\AppData\\Local\\conda\\conda\\envs\\nnia\\lib\\site-packages\\tensorflow\\python\\ops\\variable_scope.py\u001b[0m in \u001b[0;36m_true_getter\u001b[1;34m(name, shape, dtype, initializer, regularizer, reuse, trainable, collections, caching_device, partitioner, validate_shape, use_resource)\u001b[0m\n\u001b[0;32m    350\u001b[0m           \u001b[0mtrainable\u001b[0m\u001b[1;33m=\u001b[0m\u001b[0mtrainable\u001b[0m\u001b[1;33m,\u001b[0m \u001b[0mcollections\u001b[0m\u001b[1;33m=\u001b[0m\u001b[0mcollections\u001b[0m\u001b[1;33m,\u001b[0m\u001b[1;33m\u001b[0m\u001b[0m\n\u001b[0;32m    351\u001b[0m           \u001b[0mcaching_device\u001b[0m\u001b[1;33m=\u001b[0m\u001b[0mcaching_device\u001b[0m\u001b[1;33m,\u001b[0m \u001b[0mvalidate_shape\u001b[0m\u001b[1;33m=\u001b[0m\u001b[0mvalidate_shape\u001b[0m\u001b[1;33m,\u001b[0m\u001b[1;33m\u001b[0m\u001b[0m\n\u001b[1;32m--> 352\u001b[1;33m           use_resource=use_resource)\n\u001b[0m\u001b[0;32m    353\u001b[0m \u001b[1;33m\u001b[0m\u001b[0m\n\u001b[0;32m    354\u001b[0m     \u001b[1;32mif\u001b[0m \u001b[0mcustom_getter\u001b[0m \u001b[1;32mis\u001b[0m \u001b[1;32mnot\u001b[0m \u001b[1;32mNone\u001b[0m\u001b[1;33m:\u001b[0m\u001b[1;33m\u001b[0m\u001b[0m\n",
      "\u001b[1;32m~\\AppData\\Local\\conda\\conda\\envs\\nnia\\lib\\site-packages\\tensorflow\\python\\ops\\variable_scope.py\u001b[0m in \u001b[0;36m_get_single_variable\u001b[1;34m(self, name, shape, dtype, initializer, regularizer, partition_info, reuse, trainable, collections, caching_device, validate_shape, use_resource)\u001b[0m\n\u001b[0;32m    662\u001b[0m                          \u001b[1;34m\" Did you mean to set reuse=True in VarScope? \"\u001b[0m\u001b[1;33m\u001b[0m\u001b[0m\n\u001b[0;32m    663\u001b[0m                          \"Originally defined at:\\n\\n%s\" % (\n\u001b[1;32m--> 664\u001b[1;33m                              name, \"\".join(traceback.format_list(tb))))\n\u001b[0m\u001b[0;32m    665\u001b[0m       \u001b[0mfound_var\u001b[0m \u001b[1;33m=\u001b[0m \u001b[0mself\u001b[0m\u001b[1;33m.\u001b[0m\u001b[0m_vars\u001b[0m\u001b[1;33m[\u001b[0m\u001b[0mname\u001b[0m\u001b[1;33m]\u001b[0m\u001b[1;33m\u001b[0m\u001b[0m\n\u001b[0;32m    666\u001b[0m       \u001b[1;32mif\u001b[0m \u001b[1;32mnot\u001b[0m \u001b[0mshape\u001b[0m\u001b[1;33m.\u001b[0m\u001b[0mis_compatible_with\u001b[0m\u001b[1;33m(\u001b[0m\u001b[0mfound_var\u001b[0m\u001b[1;33m.\u001b[0m\u001b[0mget_shape\u001b[0m\u001b[1;33m(\u001b[0m\u001b[1;33m)\u001b[0m\u001b[1;33m)\u001b[0m\u001b[1;33m:\u001b[0m\u001b[1;33m\u001b[0m\u001b[0m\n",
      "\u001b[1;31mValueError\u001b[0m: Variable weights already exists, disallowed. Did you mean to set reuse=True in VarScope? Originally defined at:\n\n  File \"C:\\Users\\zshn2\\AppData\\Local\\conda\\conda\\envs\\nnia\\lib\\site-packages\\tensorflow\\python\\framework\\ops.py\", line 1269, in __init__\n    self._traceback = _extract_stack()\n  File \"C:\\Users\\zshn2\\AppData\\Local\\conda\\conda\\envs\\nnia\\lib\\site-packages\\tensorflow\\python\\framework\\ops.py\", line 2506, in create_op\n    original_op=self._default_original_op, op_def=op_def)\n  File \"C:\\Users\\zshn2\\AppData\\Local\\conda\\conda\\envs\\nnia\\lib\\site-packages\\tensorflow\\python\\framework\\op_def_library.py\", line 767, in apply_op\n    op_def=op_def)\n"
     ]
    }
   ],
   "source": [
    "# Define the computational graph for your model\n",
    "input_shape = (None, 2) # each input has 2 features\n",
    "output_shape = (None, 1) # the output of the model is a scalar corresponding to the probability of belong to class 1 or 2.\n",
    "\n",
    "# TODO: Define placeholers for the input and output\n",
    "x = tf.placeholder(\"float\", shape = input_shape)\n",
    "y = tf.placeholder(\"float\", shape = output_shape)\n",
    "\n",
    "# TODO: Define the model final activations, predictions and loss of the network\n",
    "\n",
    "n_hidden_units = 128\n",
    "\n",
    "xshape = X_train.shape[1]\n",
    "yshape = y_train.shape[1]\n",
    "\n",
    "weights = tf.Variable((tf.random_normal((xshape, n_hidden_units))), name = \"weights\")\n",
    "biases = tf.Variable((tf.random_uniform((n_hidden_units, 1))), name = \"biases\")\n",
    "\n",
    "# Forward pass\n",
    "activation = inference(forward(x, input_shape))\n",
    "prediction = tf.argmax(activation, axis=1)\n",
    "\n",
    "# Backward pass\n",
    "_loss = loss(x, y, input_shape)"
   ]
  },
  {
   "cell_type": "markdown",
   "metadata": {},
   "source": [
    "$b)$ Now that we have defined a computation graph for our model we need to train it on training data. Hence, define the optimizer for your model and implement the training loop. After each epoch, print the accuracy of your model on the training data. Once training phase is done, evaluate the test accuracy of your model and plot the **decision boundary** of your trained model."
   ]
  },
  {
   "cell_type": "markdown",
   "metadata": {},
   "source": [
    "Hint: When evaluating the predictions of your model make sure to compute the class labels from the output of the sigmoid layer before comparing them to the ground truth labels. As a threshold use $0.5$."
   ]
  },
  {
   "cell_type": "code",
   "execution_count": null,
   "metadata": {
    "collapsed": true
   },
   "outputs": [],
   "source": [
    "# TODO: Define the gradient descent optimizer\n",
    "learning_rate = 1e-1\n",
    "optimizer = tf.train.GradientDescentOptimizer(learning_rate)\n",
    "\n",
    "train = optimizer.minimize(_loss)\n",
    "\n",
    "intit = tf.global_variables_initializer()"
   ]
  },
  {
   "cell_type": "code",
   "execution_count": null,
   "metadata": {
    "collapsed": true
   },
   "outputs": [],
   "source": [
    "# Define training parameters\n",
    "epochs = 10 # we train our model for 10 epochs. You can change this value to observe how the accuracy changes.\n",
    "batch_size = 10 # we use a fixed batch size of 10 data points per batch.\n",
    "n = len(X_train)\n",
    "\n",
    "# Start a Session \n",
    "with tf.Session() as sess:\n",
    "    \n",
    "    sess.run(init)\n",
    "    # TODO: Perform training\n",
    "    for epoch in range(epochs):\n",
    "        for i in range(len(xTrain)):\n",
    "            sess.run(train, feed_dict = {x: x_train[i:i+batch_size], y:y_train[i:i+batch_size]})\n",
    "    \n",
    "        train_accuracy = np.mean(np.argmax(y_train, axis=1) == sess.run(train, feed_dict={x:x_train, y:y_train}))\n",
    "        test_accuracy = np.mean(np.argmax(y_train, axis=1) == sess.run(train, feed_dict={x:x_test, y:y_test}))\n",
    "        print(\"Epoch %d, Training Accuracy: %.2f%%, Test Accuracy: %.2f%%\", epoch, train_accuracy, test_accuracy)\n",
    "sess.close()"
   ]
  },
  {
   "cell_type": "markdown",
   "metadata": {},
   "source": [
    "$d)$ **Bonus**: Restructure your code in order to use TensorBoard for displaying the computation graph defined by your model. Additonally, use TensorBoard to log the training and test accuracy of your network during training. (See [here](https://www.tensorflow.org/get_started/summaries_and_tensorboard) for an introduction to TensorBoard.) (+ $2.0$ points)"
   ]
  },
  {
   "cell_type": "markdown",
   "metadata": {},
   "source": [
    "## 3. Role of the activation function (3.0 points)"
   ]
  },
  {
   "cell_type": "markdown",
   "metadata": {},
   "source": [
    "For this exercise it is useful to have a plot of the decision boundary of your trained model."
   ]
  },
  {
   "cell_type": "markdown",
   "metadata": {},
   "source": [
    "$a)$ Remove the nonlinearity in your TensorFlow model above, then retrain the model and evaluate its accuracy. What do you observe? ($1.0$ point)"
   ]
  },
  {
   "cell_type": "markdown",
   "metadata": {},
   "source": [
    "$b$) With the nonlinearity removed, do the following: Add an additional hidden layer without nonlinearity in the `forward()` function. Retrain the model and evaluate its accuracy. What do you observe? ($1.0$ point)"
   ]
  },
  {
   "cell_type": "markdown",
   "metadata": {},
   "source": [
    "$c$) What is the reason for this behaviour? Can you come up with a proof of the underlying mathematical fact? ($1.0$ point)"
   ]
  },
  {
   "cell_type": "markdown",
   "metadata": {},
   "source": [
    "---"
   ]
  },
  {
   "cell_type": "markdown",
   "metadata": {},
   "source": [
    "## Submission instructions\n",
    "You should provide a single Jupyter notebook as a solution. The naming should include the assignment number and matriculation IDs of all team members in the following format:\n",
    "**assignment-5_matriculation1_matriculation_2_matriculation3.ipynb** (in case of 3 team members). \n",
    "Make sure to keep the order matriculation1_matriculation_2_matriculation3 the same for all assignments.\n",
    "\n",
    "Please, submit your solution to your tutor (with **[NNIA][assignment-5]** in email subject):\n",
    "1. Maksym Andriushchenko s8mmandr@stud.uni-saarland.de\n",
    "2. Marius Mosbach s9msmosb@stud.uni-saarland.de\n",
    "3. Rajarshi Biswas rbisw17@gmail.com\n",
    "4. Marimuthu Kalimuthu s8makali@stud.uni-saarland.de\n",
    "\n",
    "**If you are in a team, please submit only 1 solution to only 1 tutor.**"
   ]
  }
 ],
 "metadata": {
  "kernelspec": {
   "display_name": "Python 3",
   "language": "python",
   "name": "python3"
  },
  "language_info": {
   "codemirror_mode": {
    "name": "ipython",
    "version": 3
   },
   "file_extension": ".py",
   "mimetype": "text/x-python",
   "name": "python",
   "nbconvert_exporter": "python",
   "pygments_lexer": "ipython3",
   "version": "3.6.2"
  }
 },
 "nbformat": 4,
 "nbformat_minor": 2
}
