{
 "cells": [
  {
   "cell_type": "markdown",
   "metadata": {},
   "source": [
    "# Assignment Sheet 6:  Regularization methods in Machine learning and their application in Feedforward neural networks  (deadline: 16 Dec, 23:59)"
   ]
  },
  {
   "cell_type": "markdown",
   "metadata": {},
   "source": [
    "### General Regularization methods in ML $~$ (5 points)"
   ]
  },
  {
   "cell_type": "markdown",
   "metadata": {},
   "source": [
    "**Goal:** Study the effects of **L2** and **L1** regularization on the weights used for modelling the data."
   ]
  },
  {
   "cell_type": "markdown",
   "metadata": {},
   "source": [
    "***Ridge regression*** is very similar to least squares, except that the weights are estimated by minimizing a slightly different quantity. In particular, the ridge regression co-efficient estimates $\\mathbf{W_{ridge}}$ are the values that minimize, \n",
    "\n",
    "$$\\mathbf{J(W) ~~=~~ \\big|\\big|~Y-XW~\\big|\\big|_{2}^2 ~+~\\lambda~ \\big|\\big|~W~\\big|\\big|_{2}^2}$$ \n",
    "\n",
    "where,\n",
    "\n",
    "$\\mathbf{\\lambda>0}$ is the regularizer,\n",
    "\n",
    "**X** is the design matrix,\n",
    "\n",
    "$\\mathbf{W}$ is the weight vector and\n",
    "\n",
    "**Y** represents the responses."
   ]
  },
  {
   "cell_type": "markdown",
   "metadata": {},
   "source": [
    "***Ridge regression*** seeks weight estimate $W^{Ridge}$ that fit the data well by minimizing the squared error $~$ $\\mathbf{||~Y-XW~||^2}$ (which was also the linear regression cost function).\n",
    "However, the second term, $\\mathbf{||~W~||^2}$, called a ***shrinkage penalty*** is small when $\\mathbf{W}$, i.e., $(w_1, w_2, ..., w_d)^T$ are close to zero. Thus, it has the effect of shrinking the estimates of $w_i$ towards zero.\n",
    "\n",
    "The regularizer $\\mathbf{\\lambda}$ serves to control the relative impact of these two terms on the regression weight estimates. When $\\mathbf{\\lambda=0}$, the penalty term has no effect, and ridge regression will produce the least squares estimates. However, as $\\mathbf{\\lambda \\rightarrow \\infty}$, the impact of the shrinkage penalty grows and the ridge regression weight estimates will approach zero. Unlike least squares, which generates only one set of weight estimates, ridge regression will produce a different set of weight estimates, $\\mathbf{W_{\\lambda}^{Ridge}}$, for each value of $\\mathbf{\\lambda}$. Hence, selecting a good value of $\\mathbf{\\lambda}$ is critical."
   ]
  },
  {
   "cell_type": "markdown",
   "metadata": {},
   "source": [
    "$1.$ **Plot the magnitude of each weight in $\\mathbf{W^{Ridge}}$ vs $\\mathbf{\\lambda}$ and explain how the regularizer $\\mathbf{\\lambda}$ affects the Ridge weights $\\mathbf{W^{Ridge}}$.** $~$ ($2.5$ points)\n",
    "\n",
    "Download the dataset, **data.csv**, from the NNIA piazza page."
   ]
  },
  {
   "cell_type": "code",
   "execution_count": 1,
   "metadata": {
    "collapsed": true
   },
   "outputs": [],
   "source": [
    "# Load libraries\n",
    "import pandas as pd\n",
    "import numpy as np\n",
    "import tensorflow as tf\n",
    "import matplotlib.pyplot as plt\n",
    "\n",
    "from sklearn.preprocessing import scale \n",
    "from sklearn.linear_model import Ridge, Lasso\n",
    "\n",
    "%matplotlib inline"
   ]
  },
  {
   "cell_type": "code",
   "execution_count": 2,
   "metadata": {},
   "outputs": [
    {
     "name": "stdout",
     "output_type": "stream",
     "text": [
      "         Player  AtBat   Hits  HmRun  Runs   RBI  Walks  Years  CAtBat  CHits  \\\n",
      "0   -Alan Ashby  315.0   81.0    7.0  24.0  38.0   39.0   14.0  3449.0  835.0   \n",
      "1  -Alvin Davis  479.0  130.0   18.0  66.0  72.0   76.0    3.0  1624.0  457.0   \n",
      "\n",
      "      ...       CRuns   CRBI  CWalks  PutOuts  Assists  Errors  Salary  \\\n",
      "0     ...       321.0  414.0   375.0    632.0     43.0    10.0   475.0   \n",
      "1     ...       224.0  266.0   263.0    880.0     82.0    14.0   480.0   \n",
      "\n",
      "   League_N  Division_W  NewLeague_N  \n",
      "0         1           1            1  \n",
      "1         0           1            0  \n",
      "\n",
      "[2 rows x 21 columns]\n",
      "(263,)\n",
      "263\n",
      "   AtBat   Hits  HmRun  Runs   RBI  Walks  Years  CAtBat  CHits  CHmRun  \\\n",
      "0  315.0   81.0    7.0  24.0  38.0   39.0   14.0  3449.0  835.0    69.0   \n",
      "1  479.0  130.0   18.0  66.0  72.0   76.0    3.0  1624.0  457.0    63.0   \n",
      "\n",
      "   CRuns   CRBI  CWalks  PutOuts  Assists  Errors  Salary  League_N  \\\n",
      "0  321.0  414.0   375.0    632.0     43.0    10.0   475.0         1   \n",
      "1  224.0  266.0   263.0    880.0     82.0    14.0   480.0         0   \n",
      "\n",
      "   Division_W  NewLeague_N  \n",
      "0           1            1  \n",
      "1           1            0  \n"
     ]
    }
   ],
   "source": [
    "# Read data\n",
    "# TODO Implement\n",
    "#np.genfromtxt('data.txt', delimiter=',', names=True)\n",
    "#csv = np.genfromtxt ('data.csv', delimiter=\",\",names=True)\n",
    "#csv = np.genfromtxt ('data.csv', delimiter=\",\",skip_header = 1)[:,1:]\n",
    "csv = pd.read_csv('data.csv')\n",
    "print(csv[0:2][:])\n",
    "#print(csv[:].shape)\n",
    "#print(csv[0][:])\n",
    "\n",
    "# Read 'Salary' as your response/dependent variable\n",
    "# TODO Implement\n",
    "\n",
    "# with names=True\n",
    "response = csv['Salary']\n",
    "print(response.shape)\n",
    "\n",
    "\n",
    "#salary_boolean = csv[0,:]=='Salary'\n",
    "#print(np.where(csv[0,:] not nan))\n",
    "#print(np.isnan(csv)[0:3,:])\n",
    "\n",
    "#indices = np.invert(np.isnan(csv))\n",
    "#print(indices.shape)\n",
    "#data_vals = csv[indices]\n",
    "#print(data_vals.shape)\n",
    "#print(data_vals[0:3])\n",
    "#print(salary[1:5])\n",
    "\n",
    "# Drop the column with the dependent variable 'Salary'\n",
    "#features = csv[:][1:]\n",
    "#print(features[0:2][:])\n",
    "#features = np.delete(csv,csv['Salary'],axis=1)\n",
    "features = csv.drop('Salary',axis = 1)\n",
    "features = csv.drop('Player',axis = 1)\n",
    "print(features.shape[0])\n",
    "print(features[0:2])"
   ]
  },
  {
   "cell_type": "code",
   "execution_count": 27,
   "metadata": {
    "scrolled": true
   },
   "outputs": [
    {
     "name": "stdout",
     "output_type": "stream",
     "text": [
      "          Player  AtBat   Hits  HmRun  Runs   RBI  Walks  Years  CAtBat  \\\n",
      "0    -Alan Ashby  315.0   81.0    7.0  24.0  38.0   39.0   14.0  3449.0   \n",
      "1   -Alvin Davis  479.0  130.0   18.0  66.0  72.0   76.0    3.0  1624.0   \n",
      "2  -Andre Dawson  496.0  141.0   20.0  65.0  78.0   37.0   11.0  5628.0   \n",
      "\n",
      "    CHits  CHmRun  CRuns   CRBI  CWalks  PutOuts  Assists  Errors  League_N  \\\n",
      "0   835.0    69.0  321.0  414.0   375.0    632.0     43.0    10.0         1   \n",
      "1   457.0    63.0  224.0  266.0   263.0    880.0     82.0    14.0         0   \n",
      "2  1575.0   225.0  828.0  838.0   354.0    200.0     11.0     3.0         1   \n",
      "\n",
      "   Division_W  NewLeague_N  \n",
      "0           1            1  \n",
      "1           1            0  \n",
      "2           0            1  \n",
      "19\n",
      "100\n"
     ]
    },
    {
     "data": {
      "image/png": "[encoded data removed]",
      "text/plain": [
       "<matplotlib.figure.Figure at 0x7fc2ca12f860>"
      ]
     },
     "metadata": {},
     "output_type": "display_data"
    }
   ],
   "source": [
    "'''# Initialize values for the alphas\n",
    "lambdas = 10**np.linspace(10,-2,100)*0.5\n",
    "#print(lambdas.shape)\n",
    "#print(lambdas[0:10])\n",
    "\n",
    "# Create a Ridge Object that performs ridge regression\n",
    "# TODO Implement\n",
    "def ridge_regression(alphas,x,y):\n",
    "    ridge_model = Ridge(alpha = alphas)\n",
    "    ridge_model.fit(x,y)\n",
    "    return ridge_model.coef_\n",
    "\n",
    "# Create list to hold ridge weights\n",
    "# TODO Implement\n",
    "weights = []\n",
    "\n",
    "# Iterate over all lambdas, performing data fitting with ridge regression \n",
    "# and find the corresponding coefficients\n",
    "\n",
    "#TODO Implement\n",
    "#for alpha in lambdas:\n",
    "#    weights.append(ridge_regression(alpha,features,response))\n",
    "#print(len(weights))\n",
    "X = features\n",
    "Y = response\n",
    "ridge = Ridge()\n",
    "for i in lambdas:\n",
    "    ridge.set_params(alpha = i)\n",
    "    ridge.fit(X, Y)\n",
    "    weights.append(ridge.coef_)\n",
    "    #intercept.append(ridge.intercept_)\n",
    "\n",
    "\n",
    "# Generate the plot\n",
    "# TODO Implement\n",
    "ax = plt.gca()\n",
    "ax.plot(lambdas, weights)\n",
    "\n",
    "ax.set_xscale('log')\n",
    "#ax.set_xlim(ax.get_xlim()[::-1])  # reverse axis\n",
    "#plt.axis('tight')\n",
    "\n",
    "#ax.set_xscale('log')\n",
    "plt.axis('tight')\n",
    "\n",
    "\n",
    "# Name the plot\n",
    "# TODO Implement\n",
    "plt.xlabel('alpha')\n",
    "plt.ylabel('weights')\n",
    "plt.title('Ridge coefficients as a function of the regularization')\n",
    "#plt.axis('tight')\n",
    "#plt.show()\n",
    "'''\n",
    "# Read data\n",
    "data = pd.read_csv(\"data.csv\")\n",
    "\n",
    "# Read 'Salary' as your response/dependent variable\n",
    "salary = data[\"Salary\"]\n",
    "\n",
    "# Drop the column with the dependent variable 'Salary'\n",
    "data_indep = data.drop(\"Salary\", axis=1)\n",
    "print(data_indep[:3])\n",
    "data_indep.shape\n",
    "\n",
    "# Initialize values for the alphas\n",
    "lamdas = 10**np.linspace(10,-2,100)*0.5\n",
    "lambdas = 10**np.linspace(10,-2,100)*0.5\n",
    "\n",
    "# Create a Ridge Object that performs ridge regression\n",
    "ridge = Ridge()\n",
    "\n",
    "# Create list to hold ridge weights\n",
    "weights = []\n",
    "intercept =[]\n",
    "\n",
    "# Iterate over all lamdas, performing data fitting with ridge regression \n",
    "# and find the corresponding co-efficients\n",
    "X = data_indep.drop(\"Player\", axis=1)\n",
    "\n",
    "Y = salary\n",
    "\n",
    "for i in lamdas:\n",
    "    \n",
    "    ridge.set_params(alpha = i)\n",
    "    ridge.fit(X, Y)\n",
    "    weights.append(ridge.coef_)\n",
    "    intercept.append(ridge.intercept_)\n",
    "print(len(weights[0]))\n",
    "print(len(lamdas))\n",
    "#print(intercept)\n",
    "# Generate the plot\n",
    "ax = plt.gca()\n",
    "ax.plot(lamdas, weights)\n",
    "\n",
    "ax.set_xscale('log')\n",
    "#plt.axis('tight')\n",
    "\n",
    "# Name the plot\n",
    "plt.xlabel('alpha')\n",
    "plt.ylabel('weights')\n",
    "plt.title('Ridge weights as a function of lambda');"
   ]
  },
  {
   "cell_type": "code",
   "execution_count": 4,
   "metadata": {
    "collapsed": true
   },
   "outputs": [],
   "source": [
    "# Now generate the same plot as above using Tensorflow\n",
    "# for the same set of lambdas\n"
   ]
  },
  {
   "cell_type": "markdown",
   "metadata": {},
   "source": [
    "$2$. Next we deal with **L1 regularization** for which the corresponding method is called **Lasso.** In Lasso, we minimize the function, \n",
    "$$\\mathbf{J(W) ~~=~~ \\big|\\big|~Y-XW~\\big|\\big|_{2}^2 ~+~\\lambda~ \\big|\\big|~W~\\big|\\big|_{1}}$$"
   ]
  },
  {
   "cell_type": "markdown",
   "metadata": {},
   "source": [
    "**Plot the magnitude of each weight in $\\mathbf{W^{Lasso}}$ vs $\\mathbf{\\lambda}$ and explain how the regularizer $\\mathbf{\\lambda}$ affects the Lasso weights $\\mathbf{W^{Lasso}}$.** $~$ ($2.5$ points)"
   ]
  },
  {
   "cell_type": "code",
   "execution_count": 5,
   "metadata": {
    "scrolled": true
   },
   "outputs": [
    {
     "data": {
      "text/plain": [
       "Text(0.5,1,'Lasso coefficients as a function of the regularization')"
      ]
     },
     "execution_count": 5,
     "metadata": {},
     "output_type": "execute_result"
    },
    {
     "data": {
      "image/png": "[encoded data removed]",
      "text/plain": [
       "<matplotlib.figure.Figure at 0x7fc307c7fd68>"
      ]
     },
     "metadata": {},
     "output_type": "display_data"
    }
   ],
   "source": [
    "# Create a Lasso Object(set max_iter to 10000)\n",
    "# TODO Implement\n",
    "def lasso_reg(alphas,features,response):\n",
    "    lasso_model = Lasso(alpha=alphas,max_iter = 10000)\n",
    "    lasso_model.fit(features,response)\n",
    "    return lasso_model.coef_\n",
    "\n",
    "# Create list to hold lasso weights\n",
    "# TODO Implement\n",
    "Lasso_weights = []\n",
    "\n",
    "# Iterate over all alphas, performing data fitting with Lasso\n",
    "# and find the corresponding co-efficients\n",
    "# TODO Implement\n",
    "for alpha in lambdas:\n",
    "    Lasso_weights.append(lasso_reg(alpha,features,response))\n",
    "\n",
    "# Generate the plot\n",
    "# TODO Implement\n",
    "ax = plt.gca()\n",
    "ax.plot(lambdas, Lasso_weights)\n",
    "\n",
    "ax.set_xscale('log')\n",
    "ax.set_xlim(ax.get_xlim()[::-1])  # reverse axis\n",
    "#plt.axis('tight')\n",
    "\n",
    "# Name the plot\n",
    "# TODO Implement\n",
    "plt.xlabel('alpha')\n",
    "plt.ylabel('Lasso weights')\n",
    "plt.title('Lasso coefficients as a function of the regularization')"
   ]
  },
  {
   "cell_type": "code",
   "execution_count": 40,
   "metadata": {},
   "outputs": [
    {
     "data": {
      "image/png": "[encoded data removed]",
      "text/plain": [
       "<matplotlib.figure.Figure at 0x7fc2c1c42f60>"
      ]
     },
     "metadata": {},
     "output_type": "display_data"
    }
   ],
   "source": [
    "# Now generate the same plot as above using Tensorflow\n",
    "# for the same set of lambdas\n",
    "\n",
    "x = tf.placeholder(\"float\", X.shape)\n",
    "y = tf.placeholder(\"float\", Y.shape)\n",
    "lambda_holder = tf.placeholder(\"float\")\n",
    "w = tf.Variable(tf.zeros(shape = [19, 1]))\n",
    "\n",
    "lamdas = 10**np.linspace(10,-2,100)*0.5\n",
    "lambdas = 10**np.linspace(10,-2,100)*0.5\n",
    "intercept = []\n",
    "costs = []\n",
    "weights = []\n",
    "\n",
    "y_ = tf.matmul(x, w)\n",
    "#ridgeloss = tf.reduce_mean(tf.square(w))\n",
    "#for i in lamdas:\n",
    "#loss = tf.add(tf.reduce_mean(tf.square(y - y_)),\n",
    "#                             tf.multiply(tf.cast(lamdas,tf.float32), ridgeloss))\n",
    "loss = tf.add(tf.reduce_mean(tf.square(y - y_)),\n",
    "                             tf.multiply(lambda_holder, tf.square(w)))\n",
    "grad = tf.train.GradientDescentOptimizer(0.001)\n",
    "\n",
    "sess = tf.Session()\n",
    "sess.run(tf.global_variables_initializer())\n",
    "\n",
    "for alpha in lambdas:\n",
    "    train = grad.minimize(loss)\n",
    "    cost = sess.run(train, feed_dict = {x: X, y: Y, lambda_holder:alpha})\n",
    "    costs.append(cost)\n",
    "    weights.append(sess.run(w)[1][:])\n",
    "#interc = sess.run(train, feed_dict = {x: X, y: Y, lambda_holder:lambdas[0]})\n",
    "#intercept.append(interc)\n",
    "w_test = sess.run(w)[:][1]\n",
    "#print(w_test)\n",
    "#print(lamdas)\n",
    "#print(len(weights[0]))\n",
    "#print(weights)\n",
    "#for alpha in lambdas:\n",
    "\n",
    "\n",
    "# Generate the plot\n",
    "ax = plt.gca()\n",
    "ax.plot(lamdas, weights)\n",
    "\n",
    "ax.set_xscale('log')\n",
    "plt.axis('tight')\n",
    "\n",
    "# Name the plot\n",
    "plt.xlabel('alpha')\n",
    "plt.ylabel('weights')\n",
    "plt.title('Ridge weights as a function of lambda');\n"
   ]
  },
  {
   "cell_type": "code",
   "execution_count": 41,
   "metadata": {},
   "outputs": [
    {
     "data": {
      "image/png": "[encoded data removed]",
      "text/plain": [
       "<matplotlib.figure.Figure at 0x7fc2c1c42c50>"
      ]
     },
     "metadata": {},
     "output_type": "display_data"
    }
   ],
   "source": [
    "# Lasso with tensorflow\n",
    "intercept = []\n",
    "costs = []\n",
    "weights = []\n",
    "\n",
    "y_ = tf.matmul(x, w)\n",
    "#Lasso = tf.reduce_mean(tf.abs(w))\n",
    "\n",
    "loss = tf.add(tf.reduce_mean(tf.square(y - y_)),\n",
    "                             tf.multiply(lambda_holder, tf.abs(w)))\n",
    "grad = tf.train.GradientDescentOptimizer(0.001)\n",
    "\n",
    "sess = tf.Session()\n",
    "sess.run(tf.global_variables_initializer())\n",
    "\n",
    "for alpha in lambdas:\n",
    "    train = grad.minimize(loss)\n",
    "    cost = sess.run(train, feed_dict = {x: X, y: Y, lambda_holder:alpha})\n",
    "    costs.append(cost)\n",
    "    weights.append(sess.run(w)[1][:])\n",
    "#interc = sess.run(train, feed_dict = {x: X, y: Y, lambda_holder:lambdas[0]})\n",
    "#intercept.append(interc)\n",
    "#w_test = sess.run(w)[:][1]\n",
    "#print(w_test)\n",
    "#print(lamdas)\n",
    "#print(len(weights[0]))\n",
    "#print(weights)\n",
    "#for alpha in lambdas:\n",
    "\n",
    "\n",
    "# Generate the plot\n",
    "ax = plt.gca()\n",
    "ax.plot(lamdas, weights)\n",
    "\n",
    "ax.set_xscale('log')\n",
    "plt.axis('tight')\n",
    "\n",
    "# Name the plot\n",
    "plt.xlabel('alpha')\n",
    "plt.ylabel('weights')\n",
    "plt.title('Lasso weights as a function of lambda');"
   ]
  },
  {
   "cell_type": "markdown",
   "metadata": {},
   "source": [
    "**Comment on the plots generated in problems $1$ and $2$ respectively.**\n",
    "\n",
    "**Answer:**\n",
    "\n",
    "From the plots, it is somewhat visible the difference between Ridge Regression ans Lasso. Lasso drives the coefficients to zero (feature selection), where Ridge Regression keeps (usually) all the coefficients (may be almost zero, but still present)."
   ]
  },
  {
   "cell_type": "markdown",
   "metadata": {},
   "source": [
    "### Understanding the Impact of norms in the  Regularizer $~$ (4 points)"
   ]
  },
  {
   "cell_type": "markdown",
   "metadata": {},
   "source": [
    "$4$. Assume$~$ $\\mathbf{x} \\in R^2$, $(x_1, x_2) \\in [-1, 1]\\times[-1, 1]$. $~$ (2 points)"
   ]
  },
  {
   "cell_type": "markdown",
   "metadata": {},
   "source": [
    "Now, draw the contour plots for $\\mathbf{\\big|\\big|~x~\\big|\\big|_{0}}$, $\\mathbf{\\big|\\big|~x~\\big|\\big|_{1}}$, $\\mathbf{\\big|\\big|~x~\\big|\\big|_{2}}$ and $\\mathbf{\\big|\\big|~x~\\big|\\big|_{\\infty}}$ norms (consider all possible isolines in the given interval,i.e., ($[-1,1]\\times[-1,1]$) and **explain** how you get the corresponding plot, i.e., provide the mathematical formula for getting the outermost isoline in each case.\n"
   ]
  },
  {
   "cell_type": "code",
   "execution_count": 7,
   "metadata": {},
   "outputs": [
    {
     "data": {
      "text/html": [
       "<img src=\"https://github.com/zshn25/Neural-Networks-Implementation-Application/blob/zee/img_norms.jpg?raw=true\"/>"
      ],
      "text/plain": [
       "<IPython.core.display.Image object>"
      ]
     },
     "execution_count": 7,
     "metadata": {},
     "output_type": "execute_result"
    }
   ],
   "source": [
    "from IPython.display import Image\n",
    "Image(url='https://github.com/zshn25/Neural-Networks-Implementation-Application/blob/zee/img_norms.jpg?raw=true')"
   ]
  },
  {
   "cell_type": "markdown",
   "metadata": {},
   "source": [
    "$5$. Sketch the **Lasso** optimization function, $~$ $\\mathbf{J(W) ~~=~~ \\big|\\big|~Y-XW~\\big|\\big|_{2}^2 ~+~\\lambda~ \\big|\\big|~W~\\big|\\big|_{1}}$ $~$ in two dimensions. From this sketch try to explain why **Lasso** induces **sparsity.** $~$ (2 points)\n"
   ]
  },
  {
   "cell_type": "code",
   "execution_count": null,
   "metadata": {
    "collapsed": true
   },
   "outputs": [],
   "source": []
  },
  {
   "cell_type": "markdown",
   "metadata": {},
   "source": [
    "### Getting to know Back-Propagation in details $~$ (3 points)"
   ]
  },
  {
   "cell_type": "markdown",
   "metadata": {},
   "source": [
    "![Neural Network](https://github.com/mmarius/nnia-tutorial/blob/master/neural-net.png?raw=true)"
   ]
  },
  {
   "cell_type": "markdown",
   "metadata": {},
   "source": [
    "We have a **Feedforward Neural network** with one **input layer**, one **hidden layer** and one **output layer.** The **hidden layer** and **output layer** use the sigmoid function, $\\mathbf{\\sigma(x) = \\frac{1}{1+exp(-x)}}$, as **activation function.** Also note, that the network minimizes **Binary Cross Entropy loss**, given by, $$\\mathbf{J = \\sum -y\\log(\\hat{y}) - (1-y)\\log(1-\\hat{y})}$$\n",
    "\n",
    "We consider the true class labels to be **binary**, i.e., either $0$ or $1$. "
   ]
  },
  {
   "cell_type": "markdown",
   "metadata": {},
   "source": [
    "**For the purpose of computing the derivatives of the loss/cost function consider the numerical values obtained by the network.**"
   ]
  },
  {
   "cell_type": "markdown",
   "metadata": {},
   "source": [
    "**Input layer** consists of two nodes, $x_1$ and $x_2$ respectively. For our problem consider the following input,\n",
    "$$\\begin{bmatrix} x_1\\\\ x_2\\\\ \\end{bmatrix} = \\begin{bmatrix} -1\\\\ 1\\\\ \\end{bmatrix}$$"
   ]
  },
  {
   "cell_type": "markdown",
   "metadata": {},
   "source": [
    "**Hidden layer** is made up of 3 neurons and the corresponding matrix of weights is as given:\n",
    "$$\n",
    "\\mathbf{W_{hidden}}\n",
    "~=~\n",
    "\\begin{bmatrix} w_1^{1} & w_1^{2} & w_1^{3} \\\\ w_2^{1} & w_2^{2} & w_2^{3} \\end{bmatrix}\n",
    "~=~\n",
    "\\begin{bmatrix} 0.15 & -0.25 & 0.05\\\\ 0.20 & 0.10 & -0.15 \\end{bmatrix}\n",
    "$$\n",
    "\n",
    "**Note:** Output of **Hidden layer** is given by, $~~$ $\\mathbf{a=\\sigma~(W_{hidden}^{T}x)}$"
   ]
  },
  {
   "cell_type": "markdown",
   "metadata": {},
   "source": [
    "**Output layer** consists of one neuron, i.e., the **network** generates a single output. **For our problem, the true class label is $1$.**"
   ]
  },
  {
   "cell_type": "markdown",
   "metadata": {},
   "source": [
    "The matrix corresponding to the **Output layer** is given by,\n",
    "$$\n",
    "\\mathbf{W_{out}}\n",
    "~=~\n",
    "\\begin{bmatrix} w_1\\\\w_2 \\\\w_3\\end{bmatrix}\n",
    "~=~\n",
    "\\begin{bmatrix} 0.20\\\\-0.35\\\\0.15 \\end{bmatrix}\n",
    "$$\n",
    "\n",
    "**Note:** output from the **Output layer** is given by, $~$ $\\mathbf{\\hat{y} = \\sigma~(W_{out}^Ta)}$"
   ]
  },
  {
   "cell_type": "markdown",
   "metadata": {},
   "source": [
    "$6$. Execute the following sequence of operations and **show that Binary Cross Entropy loss is getting reduced, i.e., $ C^2 < C^1$** $~$ ($3$ points)\n",
    "\n",
    "**Perform Forward-propagation to generate output** $\\to$ **Compute loss or cost ($C^1$)** $\\to$ **perform Back-propagation to compute the error** $\\to$ **perform Gradient descent to update the weights** $\\to$ **peform Forward-propagation again with updated weights** $\\to$ **Compute loss or cost ($C^2$)**"
   ]
  },
  {
   "cell_type": "markdown",
   "metadata": {},
   "source": [
    "**Note:**  $C^i$ denotes the loss or cost at the $i^{th}$ iteration, for performing Gradient descent consider a learning rate of $0.1$"
   ]
  },
  {
   "cell_type": "markdown",
   "metadata": {},
   "source": [
    "**Answer:**\n",
    "\n",
    "In the hidden layer we have:\n",
    "\n",
    "$$\n",
    "Z_{in} = W_{hidden}^T x \n",
    "~=~\n",
    "\\begin{bmatrix} 0.15 & 0.20 \\\\ -0.25 & 0.10 \\\\ 0.05 & -0.15\\end{bmatrix}\n",
    "\\begin{bmatrix} -1\\\\ 1\\\\ \\end{bmatrix}\n",
    "~=~\n",
    "\\begin{bmatrix} 0.05\\\\ 0.35\\\\ -0.20 \\end{bmatrix}\n",
    "~\n",
    "\\implies\n",
    "~\n",
    "a = \\sigma(Z_{in}) ~\\approx~ \\begin{bmatrix} 0.512\\\\ 0.587\\\\ 0.450\\end{bmatrix}\n",
    "$$\n",
    "\n",
    "\n",
    "In the output layer we have:\n",
    "\n",
    "$$\n",
    "Z_{out = }W_{out}^T a = \n",
    "\\begin{bmatrix} 0.20 & -0.35 & 0.15\\end{bmatrix}\n",
    "\\begin{bmatrix} 0.512\\\\ 0.587\\\\ 0.450\\end{bmatrix}\n",
    "\\approx\n",
    "-0.035\n",
    "\\implies\n",
    "\\hat{y} = \\sigma(Z_{out}) \\approx 0.491\n",
    "$$\n",
    "\n",
    "And with this result and $y = 1$ we can compute the cost of the first pass as\n",
    "\n",
    "$$\n",
    "J = \\sum -(1)\\log(0.491) - (1-1)\\log(1-0.491) \\approx 0.711 = C_1\n",
    "$$\n",
    "\n",
    "Now, we start with the backward pass. To that end, we start by computing the derivatives of the cost function w.r.t. $W_{out}$ so that we can update those weights using a gradient descent scheme:\n",
    "\n",
    "$$\n",
    "\\frac{\\partial J}{\\partial W_{out}} = \\frac{\\partial J}{\\partial \\hat{y}} \n",
    "~\n",
    "\\frac{\\partial \\hat{y}}{\\partial Z_{out}} \n",
    "~\n",
    "\\frac{\\partial Z_{out}}{\\partial W_{out}}\n",
    "~\n",
    "=\n",
    "~\n",
    "\\left( \\frac{-y+\\hat{y}}{\\hat{y}-\\hat{y}^2} \\right)\n",
    "~\n",
    "(\\sigma(Z_{out})(1-\\sigma(Z_{out})))\n",
    "~\n",
    "a\n",
    "=\n",
    "~\n",
    "\\delta_{out}\n",
    "~\n",
    "a\n",
    "\\approx (-0.509) \\begin{bmatrix} 0.512\\\\ 0.587\\\\ 0.450\\end{bmatrix}\n",
    "\\approx \\begin{bmatrix} -0.261\\\\ -0.298\\\\ 0.229\\end{bmatrix}\n",
    "$$\n",
    "\n",
    "Then we update the output weights with the gradient descent scheme\n",
    "\n",
    "$$\n",
    "W_{out} = W_{out} - \\alpha \\frac{\\partial J}{\\partial W_{out}} = \\begin{bmatrix} 0.20 \\\\ -0.35 \\\\ 0.15\\end{bmatrix} - (0.1)\\begin{bmatrix} 0.20 \\\\ -0.35 \\\\ 0.15\\end{bmatrix}\n",
    "=\n",
    "\\begin{bmatrix} 0.226 \\\\ -0.320 \\\\ 0.173\\end{bmatrix}\n",
    "$$\n",
    "\n",
    "Then, we can procede to compute the derivative of the cost function $J$ w.r.t. $W_{hidden}$ in order to update them. The derivative is\n",
    "\n",
    "$$\n",
    "\\frac{\\partial J}{\\partial W_{hidden}} = \\frac{\\partial J}{\\partial \\hat{y}} \n",
    "~\n",
    "\\frac{\\partial \\hat{y}}{\\partial Z_{out}} \n",
    "~\n",
    "\\frac{\\partial Z_{out}}{\\partial a}\n",
    "~\n",
    "\\frac{\\partial a}{\\partial Z_{in}}\n",
    "~\n",
    "\\frac{\\partial Z_{in}}{\\partial W_{in}}\n",
    "~\n",
    "=\n",
    "$$\n",
    "\n",
    "$$\n",
    "\\delta_{out}\n",
    "~\n",
    "W_{out}\n",
    "~\n",
    "\\frac{\\partial Z_{out}}{\\partial a}\n",
    "~\n",
    "\\frac{\\partial a}{\\partial Z_{in}}\n",
    "~\n",
    "\\frac{\\partial Z_{in}}{\\partial W_{in}}\n",
    "~\n",
    "=\n",
    "~\n",
    "\\delta_{out}~W_{out}~\\sigma(Z_{in})(1-\\sigma(Z_{in}))(x)\n",
    "$$\n",
    "\n",
    "$$\n",
    "\\implies\n",
    "\\delta_{in} \\frac{\\partial Z_{in}}{\\partial W_{in}}\n",
    "~\n",
    "\\approx\n",
    "~\n",
    "\\begin{bmatrix} 0.029 & -0.028 \\\\ -0.04 & 0.04 \\\\ 0.022 & -0.022\\end{bmatrix}\n",
    "\\begin{bmatrix} -1 & 1\\end{bmatrix}\n",
    "$$\n",
    "\n",
    "With the transpose of the previous result, we can update $W_{hidden}$ with the gradient descent scheme\n",
    "\n",
    "$$\n",
    "W_{hidden} = W_{hidden} - \\alpha \\frac{\\partial J}{\\partial W_{hidden}} \n",
    "~\n",
    "=\n",
    "~\n",
    "\\begin{bmatrix} 0.15 & -0.25 & 0.05\\\\ 0.20 & 0.10 & -0.15 \\end{bmatrix}\n",
    "~\n",
    "- (0.1) \\begin{bmatrix} 0.029 & -0.04 & 0.022\\\\ -0.028 & 0.04 & -0.022 \\end{bmatrix}\n",
    "~\n",
    "=\n",
    "~\n",
    "\\begin{bmatrix} 0.147 & -0.246 & 0.047\\\\ 0.203 & 0.096 & -0.148 \\end{bmatrix}\n",
    "$$\n"
   ]
  },
  {
   "cell_type": "markdown",
   "metadata": {},
   "source": [
    "And now, we compute the forward pass with the updated results. In the hidden layer we have:\n",
    "\n",
    "$$\n",
    "Z_{in} = W_{hidden}^T x \n",
    "~=~\n",
    "\\begin{bmatrix} 0.147 & -0.246 & 0.047\\\\ 0.203 & 0.096 & -0.148 \\end{bmatrix}\n",
    "\\begin{bmatrix} -1\\\\ 1\\\\ \\end{bmatrix}\n",
    "~=~\n",
    "\\begin{bmatrix} 0.056\\\\ 0.342\\\\ -0.197 \\end{bmatrix}\n",
    "~\n",
    "\\implies\n",
    "~\n",
    "a = \\sigma(Z_{in}) ~\\approx~ \\begin{bmatrix} 0.514\\\\ 0.585\\\\ 0.451\\end{bmatrix}\n",
    "$$\n",
    "\n",
    "\n",
    "In the output layer we have:\n",
    "\n",
    "$$\n",
    "Z_{out = }W_{out}^T a = \n",
    "\\begin{bmatrix} 0.226 & -0.320 & 0.173\\end{bmatrix}\n",
    "\\begin{bmatrix} 0.514\\\\ 0.585\\\\ 0.451\\end{bmatrix}\n",
    "\\approx\n",
    "0.007\n",
    "\\implies\n",
    "\\hat{y} = \\sigma(Z_{out}) \\approx 0.502\n",
    "$$\n",
    "\n",
    "And with this result and $y = 1$ we can compute the cost of the first pass as\n",
    "\n",
    "$$\n",
    "J = \\sum -(1)\\log(0.491) - (1-1)\\log(1-0.491) \\approx 0.689 = C_2\n",
    "$$\n",
    "\n",
    "And from the previous computations we can see that $C_2 < C_1$"
   ]
  },
  {
   "cell_type": "markdown",
   "metadata": {},
   "source": [
    "### Feed-forward Neural Network with L1 and L2 regularization $~$ (8 points)"
   ]
  },
  {
   "cell_type": "markdown",
   "metadata": {},
   "source": [
    "In the following exercise you would build a **feed-forward network** from scratch using only **Numpy** in python. For this, you also have to implement **Back-propagation** in python. Additionally, this network should have the option of **L1 and L2 regularization** enabled within it."
   ]
  },
  {
   "cell_type": "markdown",
   "metadata": {},
   "source": [
    "Download **mnist** dataset from NNIA piazza page."
   ]
  },
  {
   "cell_type": "code",
   "execution_count": 42,
   "metadata": {
    "collapsed": true
   },
   "outputs": [],
   "source": [
    "import os\n",
    "import struct\n",
    "import numpy as np\n",
    " \n",
    "def load_mnist(path, kind='train'):\n",
    "    \"\"\"function for loading data\"\"\"\n",
    "    labels_path = os.path.join(path, \n",
    "                               '%s-labels-idx1-ubyte' % kind)\n",
    "    images_path = os.path.join(path, \n",
    "                               '%s-images-idx3-ubyte' % kind)\n",
    "        \n",
    "    with open(labels_path, 'rb') as lbpath:\n",
    "        magic, n = struct.unpack('>II', \n",
    "                                 lbpath.read(8))\n",
    "        labels = np.fromfile(lbpath, \n",
    "                             dtype=np.uint8)\n",
    "\n",
    "    with open(images_path, 'rb') as imgpath:\n",
    "        magic, num, rows, cols = struct.unpack(\">IIII\", \n",
    "                                               imgpath.read(16))\n",
    "        images = np.fromfile(imgpath, \n",
    "                             dtype=np.uint8).reshape(len(labels), 784)\n",
    " \n",
    "    return images, labels"
   ]
  },
  {
   "cell_type": "code",
   "execution_count": 43,
   "metadata": {},
   "outputs": [
    {
     "name": "stdout",
     "output_type": "stream",
     "text": [
      "Rows: 60000, columns: 784\n"
     ]
    }
   ],
   "source": [
    "X_train, y_train = load_mnist('mnist/', kind='train')\n",
    "print('Rows: %d, columns: %d' % (X_train.shape[0], X_train.shape[1]))"
   ]
  },
  {
   "cell_type": "code",
   "execution_count": 44,
   "metadata": {},
   "outputs": [
    {
     "name": "stdout",
     "output_type": "stream",
     "text": [
      "Rows: 10000, columns: 784\n"
     ]
    }
   ],
   "source": [
    "X_test, y_test = load_mnist('mnist/', kind='t10k')\n",
    "print('Rows: %d, columns: %d' % (X_test.shape[0], X_test.shape[1]))"
   ]
  },
  {
   "cell_type": "code",
   "execution_count": 45,
   "metadata": {},
   "outputs": [],
   "source": [
    "import numpy as np\n",
    "from scipy.special import expit\n",
    "\n",
    "\n",
    "class MLP(object):\n",
    "    \"\"\" Feedforward neural network with a single hidden layer.\n",
    "\n",
    "    Parameters\n",
    "    ------------\n",
    "    n_output : int\n",
    "        Number of output units, should be equal to the\n",
    "        number of unique class labels.\n",
    "        \n",
    "    n_features : int\n",
    "        Number of features (dimensions) in the target dataset.\n",
    "        Should be equal to the number of columns in the X array.\n",
    "        \n",
    "    n_hidden : int\n",
    "        Number of hidden units.\n",
    "        \n",
    "    l1 : float\n",
    "        Regularizer for L1-regularization.\n",
    "        l1=0.0 implies no regularization\n",
    "        \n",
    "    l2 : float\n",
    "        Lambda value for L2-regularization.\n",
    "        l2=0.0 implies no regularization\n",
    "        \n",
    "    epochs : int\n",
    "        Number of passes over the training set.\n",
    "        \n",
    "    eta : float (default: 0.001)\n",
    "        Learning rate.\n",
    "        \n",
    "    decrease_const : float (default: 0.0)\n",
    "        Decrease constant. Shrinks the learning rate\n",
    "        after each epoch via eta / (1 + epoch*decrease_const)\n",
    "        \n",
    "    shuffle : bool (default: True)\n",
    "        Shuffles training data every epoch if True to prevent circles.\n",
    "        \n",
    "    minibatches : int (default: 1)\n",
    "        Divides training data into k minibatches for efficiency.\n",
    "        \n",
    "    random_state : int (default: None)\n",
    "        Set random state for shuffling and initializing the weights.\n",
    "\n",
    "    Attributes\n",
    "    -----------\n",
    "    cost_ : list\n",
    "      Sum of squared errors after each epoch.\n",
    "\n",
    "    \"\"\"\n",
    "    def __init__(self, n_output, n_features, n_hidden=30,\n",
    "                 l1=0.0, l2=0.0, epochs=50, eta=0.001,\n",
    "                 decrease_const=0.0, shuffle=True,\n",
    "                 minibatches=1, random_state=None):\n",
    "        \n",
    "        np.random.seed(random_state)\n",
    "        self.n_output = n_output\n",
    "        self.n_features = n_features\n",
    "        self.n_hidden = n_hidden\n",
    "        self.l1 = l1\n",
    "        self.l2 = l2\n",
    "        self.epochs = epochs\n",
    "        self.eta = eta\n",
    "        self.decrease_const = decrease_const\n",
    "        self.shuffle = shuffle\n",
    "        self.minibatches = minibatches\n",
    "        self.w1, self.w2 = self.initialize_weights()\n",
    "        self.cost_ = []\n",
    "\n",
    "\n",
    "    def encode_labels(self, y, k):\n",
    "        \"\"\"Encode the labels using one-hot representation\n",
    "\n",
    "        Parameters\n",
    "        ------------\n",
    "        y : y represents target values.\n",
    "\n",
    "        Returns\n",
    "        -----------\n",
    "        onehot array\n",
    "\n",
    "        \"\"\"\n",
    "        label = np.zeros((k, y.shape[0]))\n",
    "        for i,j in enumerate(y):\n",
    "            label[j,i] = 1.0\n",
    "        return label\n",
    "        \n",
    "        \n",
    "\n",
    "    def initialize_weights(self):\n",
    "        \"\"\"Initialize using random numbers.\"\"\"\n",
    "        \n",
    "        #w1 = np.random.uniform(-1.0, 1.0, size = [self.n_hidden, self.n_features+1])\n",
    "        #w2 = np.random.uniform(-1.0, 1.0, size = [self.n_hidden, self.n_features+1])\n",
    "        #return w1, w2\n",
    "        w1 = np.random.uniform(-1.0, 1.0,\n",
    "                               size=self.n_hidden*(self.n_features + 1))\n",
    "        w1 = w1.reshape(self.n_hidden, self.n_features + 1)\n",
    "        w2 = np.random.uniform(-1.0, 1.0,\n",
    "                               size=self.n_output*(self.n_hidden + 1))\n",
    "        w2 = w2.reshape(self.n_output, self.n_hidden + 1)\n",
    "        return w1, w2\n",
    "\n",
    "    def sigmoid(self, z):\n",
    "        \"\"\"Compute sigmoid function\n",
    "           Implement a stable version which \n",
    "           takes care of overflow and underflow.\n",
    "        \"\"\"\n",
    "        \n",
    "        return expit(z)\n",
    "        \n",
    "        \n",
    "\n",
    "    def sigmoid_gradient(self, z):\n",
    "        \"\"\"Compute gradient of the sigmoid function\"\"\"\n",
    "        \n",
    "        return self.sigmoid(z) * (1 - self.sigmoid(z))\n",
    "        \n",
    "        \n",
    "\n",
    "    def add_bias_unit(self, X, how='column'):\n",
    "        \"\"\"Add bias unit to array at index 0\"\"\"\n",
    "        if how == 'column':\n",
    "            X_new = np.ones((X.shape[0], X.shape[1]+1))\n",
    "            X_new[:, 1:] = X\n",
    "        elif how == 'row':\n",
    "            X_new = np.ones((X.shape[0]+1, X.shape[1]))\n",
    "            X_new[1:, :] = X\n",
    "        return X_new\n",
    "        \n",
    "        \n",
    "\n",
    "    def feedforward(self, X, w1, w2):\n",
    "        \"\"\"Compute feedforward step\n",
    "\n",
    "        Parameters\n",
    "        -----------\n",
    "        X : array, shape = [n_samples, n_features]\n",
    "            Input layer with original features.\n",
    "        w1 : array, shape = [n_hidden_units, n_features]\n",
    "            Weight matrix for input layer -> hidden layer.\n",
    "        w2 : array, shape = [n_output_units, n_hidden_units]\n",
    "            Weight matrix for hidden layer -> output layer.\n",
    "\n",
    "        Returns\n",
    "        ----------\n",
    "        a1 : array,\n",
    "            Input values with bias unit.\n",
    "        z2 : array,\n",
    "            Net input of hidden layer.\n",
    "        a2 : array,\n",
    "            Activation of hidden layer.\n",
    "        z3 : array,\n",
    "            Net input of output layer.\n",
    "        a3 : array,\n",
    "            Activation of output layer.\n",
    "\n",
    "        \"\"\"\n",
    "        \n",
    "        a1 = self.add_bias_unit(X, how='column')\n",
    "        z2 = w1.dot(a1.T)\n",
    "        a2 = self.sigmoid(z2)\n",
    "        a2 = self.add_bias_unit(a2, how='row')\n",
    "        z3 = w2.dot(a2)\n",
    "        a3 = self.sigmoid(z3)\n",
    "        return a1, z2, a2, z3, a3\n",
    "        \n",
    "        \n",
    "\n",
    "    def L2_reg(self, lambda_, w1, w2):\n",
    "        \"\"\"Compute L2-regularization cost\"\"\"\n",
    "        return (lambda_/2.0) * (np.sum(w1[:, 1:] ** 2) +\n",
    "                                np.sum(w2[:, 1:] ** 2))\n",
    "        \n",
    "\n",
    "    def L1_reg(self, lambda_, w1, w2):\n",
    "        \"\"\"Compute L1-regularization cost\"\"\"\n",
    "        \n",
    "        return (lambda_/2.0) * (np.abs(w1[:, 1:]).sum() +\n",
    "                                np.abs(w2[:, 1:]).sum())\n",
    "        \n",
    "        \n",
    "    def get_cost(self, y_enc, output, w1, w2):\n",
    "        \"\"\"Compute cost function.\n",
    "\n",
    "        Parameters\n",
    "        ----------\n",
    "        y_enc : array, one-hot encoded class labels.\n",
    "        \n",
    "        output : array, Activation of the output layer (feedforward)\n",
    "        \n",
    "        w1 : array, Weight matrix for input layer -> hidden layer.\n",
    "        w2 : array, Weight matrix for hidden layer -> output layer.\n",
    "\n",
    "        Returns\n",
    "        ---------\n",
    "        cost : float, Regularized cost.\n",
    "\n",
    "        \"\"\"\n",
    "        \n",
    "        term1 = -y_enc * (np.log(output))\n",
    "        term2 = (1 - y_enc) * np.log(1 - output)\n",
    "        cost = np.sum(term1 - term2)\n",
    "        L1_term = self.L1_reg(self.l1, w1, w2)\n",
    "        L2_term = self.L2_reg(self.l2, w1, w2)\n",
    "        cost = cost + L1_term + L2_term\n",
    "        return cost\n",
    "        \n",
    "        \n",
    "\n",
    "    def get_gradient(self, a1, a2, a3, z2, y_enc, w1, w2):\n",
    "        \"\"\" Compute gradient step using backpropagation.\n",
    "\n",
    "        Parameters\n",
    "        ------------\n",
    "        a1 : array, Input values with bias unit.\n",
    "        a2 : array, Activation of hidden layer.\n",
    "        a3 : array, Activation of output layer.\n",
    "        z2 : array, Net input of hidden layer.\n",
    "        y_enc : array, one-hot encoded class labels.\n",
    "        w1 : array, Weight matrix for input layer -> hidden layer.\n",
    "        w2 : array, Weight matrix for hidden layer -> output layer.\n",
    "\n",
    "        Returns\n",
    "        ---------\n",
    "        grad1 : array, Gradient of the weight matrix w1.\n",
    "        grad2 : array, Gradient of the weight matrix w2.\n",
    "\n",
    "        \"\"\"\n",
    "        \n",
    "        # backpropagation\n",
    "        sigma3 = a3 - y_enc\n",
    "        z2 = self.add_bias_unit(z2, how='row')\n",
    "        sigma2 = w2.T.dot(sigma3) * self.sigmoid_gradient(z2)\n",
    "        sigma2 = sigma2[1:, :]\n",
    "        grad1 = sigma2.dot(a1)\n",
    "        grad2 = sigma3.dot(a2.T)\n",
    "\n",
    "        # regularize\n",
    "        grad1[:, 1:] += (w1[:, 1:] * (self.l1 + self.l2))\n",
    "        grad2[:, 1:] += (w2[:, 1:] * (self.l1 + self.l2))\n",
    "\n",
    "        return grad1, grad2\n",
    "        \n",
    "        \n",
    "\n",
    "    def predict(self, X):\n",
    "        \"\"\"Predict class labels\n",
    "\n",
    "        Parameters\n",
    "        -----------\n",
    "        X : array, Input layer with original features.\n",
    "\n",
    "        Returns:\n",
    "        ----------\n",
    "        y_pred : array, Predicted class labels.\n",
    "\n",
    "        \"\"\"\n",
    "        \n",
    "        a1, z2, a2, z3, a3 = self.feedforward(X, self.w1, self.w2)\n",
    "        y_pred = np.argmax(z3, axis=0)\n",
    "        return y_pred\n",
    "        \n",
    "        \n",
    "    def fit(self, X, y, print_progress = False):\n",
    "        \"\"\" Learn weights from training data.\n",
    "\n",
    "        Parameters\n",
    "        -----------\n",
    "        X : array, Input layer with original features.\n",
    "        y : array, Target class labels.\n",
    "        print_progress : bool, Prints the progress\n",
    "\n",
    "        Returns:\n",
    "        ----------\n",
    "        self\n",
    "\n",
    "        \"\"\"\n",
    "        \n",
    "        X_data, y_data = X.copy(), y.copy()\n",
    "        y_enc = self.encode_labels(y, self.n_output)\n",
    "\n",
    "\n",
    "        for i in range(self.epochs):\n",
    "\n",
    "            # adaptive learning rate\n",
    "            self.eta /= (1 + self.decrease_const*i)\n",
    "\n",
    "            if self.shuffle:\n",
    "                idx = np.random.permutation(y_data.shape[0])\n",
    "                X_data, y_enc = X_data[idx], y_enc[:, idx]\n",
    "\n",
    "            mini = np.array_split(range(y_data.shape[0]), self.minibatches)\n",
    "            for idx in mini:\n",
    "\n",
    "                # feedforward\n",
    "                a1, z2, a2, z3, a3 = self.feedforward(X_data[idx],\n",
    "                                                       self.w1,\n",
    "                                                       self.w2)\n",
    "                cost = self.get_cost(y_enc=y_enc[:, idx],\n",
    "                                      output=a3,\n",
    "                                      w1=self.w1,\n",
    "                                      w2=self.w2)\n",
    "                self.cost_.append(cost)\n",
    "\n",
    "                # compute gradient via backpropagation\n",
    "                grad1, grad2 = self.get_gradient(a1=a1, a2=a2,\n",
    "                                                  a3=a3, z2=z2,\n",
    "                                                  y_enc=y_enc[:, idx],\n",
    "                                                  w1=self.w1,\n",
    "                                                  w2=self.w2)\n",
    "\n",
    "                delta_w1, delta_w2 = self.eta * grad1, self.eta * grad2\n",
    "                self.w1 -= delta_w1 \n",
    "                self.w2 -= delta_w2\n",
    "\n",
    "        return self\n",
    "        \n",
    "        "
   ]
  },
  {
   "cell_type": "code",
   "execution_count": 53,
   "metadata": {
    "collapsed": true
   },
   "outputs": [],
   "source": [
    "nn = MLP(n_output=10, \n",
    "                  n_features=X_train.shape[1], \n",
    "                  n_hidden=5, \n",
    "                  l2=0.1, \n",
    "                  l1=0.0, \n",
    "                  epochs=10, \n",
    "                  eta=0.001,\n",
    "                  decrease_const=0.00001,\n",
    "                  minibatches=50, \n",
    "                  shuffle=True,\n",
    "                  random_state=1)"
   ]
  },
  {
   "cell_type": "code",
   "execution_count": 54,
   "metadata": {
    "scrolled": false
   },
   "outputs": [
    {
     "data": {
      "text/plain": [
       "<__main__.MLP at 0x7fc2de84e828>"
      ]
     },
     "execution_count": 54,
     "metadata": {},
     "output_type": "execute_result"
    }
   ],
   "source": [
    "nn.fit(X_train, y_train, print_progress=True)"
   ]
  },
  {
   "cell_type": "code",
   "execution_count": 55,
   "metadata": {
    "scrolled": true
   },
   "outputs": [
    {
     "name": "stdout",
     "output_type": "stream",
     "text": [
      "[7774.7039528624809, 4869.5634218679597, 4180.6906591344514, 4064.1892741111678, 3953.9771675857123, 3979.7268807887676, 3981.6201540264206, 3924.4436978489443, 3927.261772408001, 3920.9358614800358, 3911.8001707345315, 3907.6866518189445, 3875.819184602326, 3913.2939756602345, 3883.8571574857551, 3855.4544168312705, 3819.6273076429547, 3818.1302968997729, 3831.3896817722866, 3770.6549469918323, 3777.1634182406424, 3742.6117272477445, 3742.9049850996903, 3721.2951223225364, 3739.0423990390473, 3705.3854333346158, 3694.831818078952, 3675.6542681685355, 3676.1322682785067, 3658.1232347626842, 3686.1173599182221, 3654.9121197369159, 3614.1110974008616, 3604.4793493351758, 3611.1913720826169, 3621.8121655689847, 3587.5181729897295, 3729.3041998453018, 3683.2550468075847, 3664.7328100540544, 3643.6379318922759, 3624.7562502924329, 3568.1685947623318, 3552.9246995433823, 3551.2199494815386, 3517.3844180114338, 3556.835987378141, 3514.3334564956563, 3519.6108376395559, 3590.5977506362965, 3615.124927931075, 3561.9271375201874, 3483.2867780949196, 3519.7023377597661, 3442.6905436771026, 3440.1769114240437, 3410.792225444794, 3393.6082361468289, 3395.0082456927803, 3380.0649945993487, 3412.6583076228453, 3369.1883681818927, 3428.884762550113, 3418.8261197802553, 3382.3528621056603, 3373.9536504376097, 3409.6565363172385, 3356.7400505304377, 3319.8538424269032, 3330.1248362031706, 3309.1809384512303, 3302.826571548851, 3285.5293065306651, 3330.5957609618504, 3249.8254337566941, 3238.163715596706, 3220.7196784700741, 3377.5248522230549, 3325.4815772401425, 3305.1920394463086, 3270.7408965253508, 3266.7484358436986, 3218.5113231607502, 3273.8777261868777, 3197.1392744375539, 3217.4117752840893, 3261.2288627483563, 3188.046444315954, 3195.0195400585244, 3168.1699701393554, 3370.8598847180028, 3235.7078332144615, 3181.8455092063255, 3203.9341107300629, 3174.1136661288192, 3251.2250744588714, 3267.7070047354241, 3200.2266065652675, 3165.6408728176943, 3111.6130717357582, 3188.7416046734697, 3161.4776418637048, 3170.1366135404787, 3121.0901302024595, 3120.4047044500462, 3106.6077775211884, 3161.9851753009693, 3129.7601127617577, 3081.5567943322239, 3089.2915505391538, 3067.8911361871596, 3051.2457550501763, 3097.0959819847549, 3054.2877395169294, 3108.0376831377075, 3112.2431971046281, 3076.662965520994, 3060.5945698779869, 3089.2724422273332, 3020.9355027273546, 2986.653195019062, 2999.4735421193109, 2981.4911187914477, 3018.5160555027214, 3002.277505776678, 3043.8816505733221, 3129.5864971567548, 3038.930676656365, 3007.9489742628671, 3027.710743011693, 3033.0239540202265, 3089.0478003610988, 3079.970337149784, 3053.4547680379042, 3019.3730906256465, 2937.3950741483145, 2941.6670325661157, 2908.7255703077481, 2949.2612015323589, 2943.942729651314, 2977.027042291109, 2958.6679707443723, 2957.1091222876548, 2968.7396451662489, 2992.0352987909237, 2982.4795984541611, 3010.9282784656784, 2987.5106692994618, 3082.3399972152401, 2961.0348245980217, 2915.7869107191509, 2923.9827560526051, 2874.9130784043505, 2923.1319273799254, 2925.9757930718165, 2927.071837232947, 2951.8819226763408, 3015.7393517457563, 3035.5747078995964, 2915.043252693029, 2984.8152712218989, 3022.517407571414, 2897.4118353296499, 2948.6537824056318, 2932.0837565760735, 2894.92275485766, 2894.9137929986528, 3092.9197492879653, 3008.9597457297086, 2926.259615723618, 2823.379625777598, 2910.3087111357854, 2855.9634920192348, 2866.3421533937694, 2903.0241607130229, 2985.0092213783096, 2928.8088868294558, 2966.312239965966, 2994.7778700762346, 3244.3708461453707, 2997.3666842352209, 3226.4805032841091, 3084.5670150305218, 3074.8720711695132, 3044.0495555150451, 2887.1206743918592, 2878.0530150162203, 2824.7189269045871, 2852.8807281416289, 2840.6395782936825, 2807.153593637116, 2808.4634564465141, 2818.961532433952, 2718.5508616923571, 2797.5769479389037, 2754.5799193918047, 2762.3813856576376, 2927.8917517557975, 2814.12721470516, 2729.0690553853733, 2779.2882769567609, 2801.9407629665047, 2768.7418429162553, 2805.5710475990022, 2725.9671722557518, 2753.346360872717, 2904.4531923561503, 2851.54277506586, 2875.5371935226744, 2812.2247540032176, 2772.0803874216867, 2742.4447689971635, 2873.1275305457116, 2712.8744817816796, 2809.7831253556942, 2764.1642129256898, 2772.8917249856709, 2746.4474204952376, 2762.909375806782, 2684.9683582910684, 2718.6285045710756, 2682.8379966005509, 2723.8755770913572, 2690.0415032547062, 2787.840539399951, 2712.5469762569319, 2725.5036571336136, 2722.8335273248467, 2675.9817745053083, 2748.1612795239257, 2696.0587487464622, 2736.5527888928195, 2713.1282506182774, 2715.586084294323, 2629.4655631820242, 2813.5533186391485, 2689.0625577702403, 2828.8318434778066, 2782.3497523185092, 2720.513605161048, 2735.8604159041297, 2747.0892829233035, 2778.43486194959, 2791.8184309799594, 2746.1743382078694, 2805.9447713611394, 2826.4173349472144, 2749.6499500883456, 2796.3308481081444, 2726.5160700797442, 2804.1752402654765, 2907.5082781018205, 2806.0846012574002, 2763.4401688135877, 2793.5776705812045, 2730.6463345308962, 2708.4281184989986, 2674.1640240423935, 2712.7593337478806, 2702.282656804578, 2675.0854501420472, 2678.8352637253242, 2657.2198348754505, 2680.0784694803083, 2694.475457394964, 2611.0977354011652, 2682.3852082747726, 2842.1835936097646, 2833.2124755303657, 2807.2166863794009, 2806.133117776144, 2851.628807553886, 2643.8465562711281, 2663.4721485372129, 2597.3900203712001, 2580.4819018707785, 2616.5456080046392, 2635.1261666140435, 2671.7224491802804, 2645.2567301893064, 2624.0751460012921, 2636.9707429941968, 2604.6149590754512, 2601.7022805842103, 2652.4755992485625, 2538.3013517060613, 2556.0147140939325, 2585.5908298519685, 2622.5346211391816, 2564.8734304304076, 2563.7373459345786, 2550.9817232034702, 2593.7683685207012, 2617.3527481363471, 2582.7434316921463, 2602.9464009375374, 2544.0865518150608, 2602.5025784107365, 2529.1457660326887, 2626.839389527971, 2543.0572097335421, 2560.9867060338529, 2515.7843653244822, 2553.3686338841849, 2465.6170679852357, 2534.042339757535, 2526.1403700728233, 2557.5993472220953, 2570.3595516491614, 2501.917060713211, 2548.4680697128015, 2661.0066911258191, 2611.7638145869182, 2520.953805463691, 2707.5422285667883, 2610.0338233295784, 2642.934155223425, 2609.3242806577964, 2674.2487175197657, 2672.410646707217, 2702.7881921010103, 2643.0718593372467, 2639.2891367026605, 2626.3625301745806, 2615.7143899676917, 2616.5625567247985, 2658.952229268375, 2611.5658868456653, 2697.4711241884315, 2667.5217160795301, 2579.5432794290982, 2625.9575257711763, 2663.5974995391462, 2698.8155326190649, 2685.2857405497462, 2736.9882254480895, 2684.6142429602482, 2660.4741917654969, 2633.6382819131586, 2662.0118156559133, 2674.730736745596, 2620.577724886552, 2618.3533260592653, 2620.9509780802614, 2591.4622343485171, 2492.364331923503, 2565.596692241832, 2589.00842285414, 2606.2144017149258, 2547.1974814040477, 2570.6559613841146, 2619.2647708416252, 2593.9260035324219, 2535.4043097758886, 2597.6037269066342, 2553.2350542899094, 2532.494165623667, 2499.1605260652659, 2551.6754279676197, 2552.6369479315099, 2546.4897619174321, 2568.3945990719594, 2547.9364796674454, 2593.9408143411129, 2491.2657533369593, 2484.1325948715166, 2517.6238793516736, 2506.8416432057647, 2612.7274030124772, 2507.6989240000285, 2730.0921926878741, 2648.6544467205995, 2477.7691753280778, 2529.1376799932441, 2460.6116572573069, 2656.942393750036, 2530.7370867958684, 2619.5761083363409, 2518.9763562438757, 2534.564551898186, 2532.9144419789559, 2473.3891116156228, 2573.5800832583618, 2563.5049301414383, 2980.3090757503551, 2537.9765248520152, 2488.6750763253222, 2490.1225227044533, 2592.6180110806481, 2537.5602039140904, 2491.3508682004749, 2586.5019330578616, 2526.5661619217999, 2635.1752829852012, 2498.3549007348915, 2847.2173317994998, 2707.3942210341183, 2756.0471148591309, 2756.3424344538389, 2542.9055174524437, 2594.4214465415525, 2700.5681733503488, 2500.5403601867179, 2553.7752422141753, 2678.8022378495934, 2585.7954079025039, 2763.0034992661704, 2553.4664489586271, 2492.7426691527057, 2555.0276010659672, 2419.6920065174413, 2434.7170840222652, 2540.2510535795841, 2423.9347116784866, 2532.0806015875364, 2490.8798738413298, 2462.8710791904473, 2742.4364559609512, 2689.7287405612979, 2512.6684831961138, 2548.4742083762503, 2576.280130636756, 2536.1879988199594, 2535.1516718185844, 2564.2693243454096, 2568.1215390812795, 2499.0894183114342, 2633.8368145037552, 2628.761250229119, 2578.0960765688019, 2605.2475085796809, 2601.4048976013264, 2711.2284333865505, 2475.7143853228868, 2479.3292085444646, 2649.5306974685259, 2662.4239324396922, 2421.7232573396259, 2525.8185594255428, 2465.1216112496195, 2600.7968088775392, 2545.0788954639197, 2466.6787982533401, 2510.7217277855607, 2682.1907318170097, 2422.9291710979137, 2566.3116208583574, 2506.353387483492, 2508.5615401098507, 2623.9141339371395, 2500.9457742401059, 2458.2549177438782, 2542.4365570478244, 2478.3849050933654, 2527.2544834906726, 2544.0354672385429, 2518.9429457449573, 2489.802638051583, 2469.9441108460342, 2537.1827297924533, 2617.7059865676351, 2714.9197676991357, 2550.0047488527607, 2479.8771884082889, 2490.5018630891109, 2576.055048051358, 2531.4406101922355, 2567.8084693132878, 2476.1025632482092, 2587.2105106938425, 2598.1192168378589, 2490.9688632488051, 2481.3912224285577, 2488.8247613150625, 2490.2752216833928, 2438.2962954913719, 2463.0198995589467, 2398.4276549070287, 2350.1093773669918, 2376.9541490296533, 2407.5771131984498, 2315.2396101491468, 2348.9529185103265, 2388.9657894399775, 2406.1437988160446, 2450.2370921561474, 2370.8983479916178, 2398.0645862972419, 2537.9646235053551, 2507.0619663069697, 2413.4090317122818, 2451.5290886968405, 2474.3608284332427, 2456.5797121760515, 2428.2795880724075, 2435.5787493004182, 2496.5800770984642, 2379.2971871197228, 2497.1606280340352, 2448.0120698641445]\n"
     ]
    },
    {
     "data": {
      "image/png": "[encoded data removed]",
      "text/plain": [
       "<matplotlib.figure.Figure at 0x7fc2b9604128>"
      ]
     },
     "metadata": {},
     "output_type": "display_data"
    }
   ],
   "source": [
    "import matplotlib.pyplot as plt\n",
    "\n",
    "# Plot the training error for every iteration\n",
    "# in every epoch\n",
    "\n",
    "# TODO Implement\n",
    "plt.plot(range(len(nn.cost_)), nn.cost_)\n",
    "#plt.ylim([0, 2000])\n",
    "plt.ylabel('Cost')\n",
    "plt.xlabel('Every iteration every epoch')\n",
    "#print(nn.cost_)\n",
    "plt.tight_layout()\n",
    "plt.show()"
   ]
  },
  {
   "cell_type": "code",
   "execution_count": 60,
   "metadata": {},
   "outputs": [
    {
     "data": {
      "image/png": "[encoded data removed]",
      "text/plain": [
       "<matplotlib.figure.Figure at 0x7fc2de7d1e48>"
      ]
     },
     "metadata": {},
     "output_type": "display_data"
    }
   ],
   "source": [
    "# Plot the training error in every epoch\n",
    "# TODO Implement\n",
    "nn_cost = np.zeros(int(len(nn.cost_)/nn.minibatches))\n",
    "for i in range(int(len(nn.cost_)/nn.minibatches)):\n",
    "    nn_cost[i] = nn.cost_[i*nn.minibatches]\n",
    "    i+=nn.minibatches\n",
    "\n",
    "plt.plot(range(int(len(nn.cost_)/nn.minibatches)), nn_cost)\n",
    "#plt.ylim([0, 2000])\n",
    "plt.ylabel('Cost')\n",
    "plt.xlabel('Every epoch')\n",
    "\n",
    "plt.tight_layout()\n",
    "plt.show()"
   ]
  },
  {
   "cell_type": "code",
   "execution_count": 82,
   "metadata": {},
   "outputs": [
    {
     "name": "stdout",
     "output_type": "stream",
     "text": [
      "3\n",
      "5\n",
      "35938\n",
      "(60000,)\n",
      "Training accuracy: 59.90%\n"
     ]
    }
   ],
   "source": [
    "# Compute Training Accuracy\n",
    "# TODO Implement\n",
    "y_prediction = nn.predict(X_train)\n",
    "#print(y_prediction[0])\n",
    "#print(y_train[0])\n",
    "comparison = np.where(y_prediction==y_train) \n",
    "#print(len(comparison[0][:]))\n",
    "#print(y_train.shape)\n",
    "acc = len(comparison[0][:])/y_train.shape[0]\n",
    "print('Training accuracy: %.2f%%' % (acc * 100))"
   ]
  },
  {
   "cell_type": "code",
   "execution_count": 83,
   "metadata": {},
   "outputs": [
    {
     "name": "stdout",
     "output_type": "stream",
     "text": [
      "Test accuracy: 61.06%\n"
     ]
    }
   ],
   "source": [
    "# Compute Test Accuracy\n",
    "# TODO Implement\n",
    "y_prediction = nn.predict(X_test)\n",
    "#print(y_prediction[0])\n",
    "#print(y_train[0])\n",
    "comparison = np.where(y_prediction==y_test) \n",
    "#print(len(comparison[0][:]))\n",
    "#print(y_train.shape)\n",
    "acc = len(comparison[0][:])/y_test.shape[0]\n",
    "print('Test accuracy: %.2f%%' % (acc * 100))"
   ]
  }
 ],
 "metadata": {
  "kernelspec": {
   "display_name": "Python 3",
   "language": "python",
   "name": "python3"
  },
  "language_info": {
   "codemirror_mode": {
    "name": "ipython",
    "version": 3
   },
   "file_extension": ".py",
   "mimetype": "text/x-python",
   "name": "python",
   "nbconvert_exporter": "python",
   "pygments_lexer": "ipython3",
   "version": "3.6.2"
  }
 },
 "nbformat": 4,
 "nbformat_minor": 2
}
