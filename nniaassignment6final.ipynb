{
 "cells": [
  {
   "cell_type": "markdown",
   "metadata": {},
   "source": [
    "# Assignment Sheet 6:  Regularization methods in Machine learning and their application in Feedforward neural networks  (deadline: 16 Dec, 23:59)"
   ]
  },
  {
   "cell_type": "markdown",
   "metadata": {},
   "source": [
    "### General Regularization methods in ML $~$ (5 points)"
   ]
  },
  {
   "cell_type": "markdown",
   "metadata": {},
   "source": [
    "**Goal:** Study the effects of **L2** and **L1** regularization on the weights used for modelling the data."
   ]
  },
  {
   "cell_type": "markdown",
   "metadata": {},
   "source": [
    "***Ridge regression*** is very similar to least squares, except that the weights are estimated by minimizing a slightly different quantity. In particular, the ridge regression co-efficient estimates $\\mathbf{W_{ridge}}$ are the values that minimize, \n",
    "\n",
    "$$\\mathbf{J(W) ~~=~~ \\big|\\big|~Y-XW~\\big|\\big|_{2}^2 ~+~\\lambda~ \\big|\\big|~W~\\big|\\big|_{2}^2}$$ \n",
    "\n",
    "where,\n",
    "\n",
    "$\\mathbf{\\lambda>0}$ is the regularizer,\n",
    "\n",
    "**X** is the design matrix,\n",
    "\n",
    "$\\mathbf{W}$ is the weight vector and\n",
    "\n",
    "**Y** represents the responses."
   ]
  },
  {
   "cell_type": "markdown",
   "metadata": {},
   "source": [
    "***Ridge regression*** seeks weight estimate $W^{Ridge}$ that fit the data well by minimizing the squared error $~$ $\\mathbf{||~Y-XW~||^2}$ (which was also the linear regression cost function).\n",
    "However, the second term, $\\mathbf{||~W~||^2}$, called a ***shrinkage penalty*** is small when $\\mathbf{W}$, i.e., $(w_1, w_2, ..., w_d)^T$ are close to zero. Thus, it has the effect of shrinking the estimates of $w_i$ towards zero.\n",
    "\n",
    "The regularizer $\\mathbf{\\lambda}$ serves to control the relative impact of these two terms on the regression weight estimates. When $\\mathbf{\\lambda=0}$, the penalty term has no effect, and ridge regression will produce the least squares estimates. However, as $\\mathbf{\\lambda \\rightarrow \\infty}$, the impact of the shrinkage penalty grows and the ridge regression weight estimates will approach zero. Unlike least squares, which generates only one set of weight estimates, ridge regression will produce a different set of weight estimates, $\\mathbf{W_{\\lambda}^{Ridge}}$, for each value of $\\mathbf{\\lambda}$. Hence, selecting a good value of $\\mathbf{\\lambda}$ is critical."
   ]
  },
  {
   "cell_type": "markdown",
   "metadata": {},
   "source": [
    "$1.$ **Plot the magnitude of each weight in $\\mathbf{W^{Ridge}}$ vs $\\mathbf{\\lambda}$ and explain how the regularizer $\\mathbf{\\lambda}$ affects the Ridge weights $\\mathbf{W^{Ridge}}$.** $~$ ($2.5$ points)\n",
    "\n",
    "Download the dataset, **data.csv**, from the NNIA piazza page."
   ]
  },
  {
   "cell_type": "code",
   "execution_count": 1,
   "metadata": {
    "collapsed": true
   },
   "outputs": [],
   "source": [
    "# Load libraries\n",
    "import pandas as pd\n",
    "import numpy as np\n",
    "import tensorflow as tf\n",
    "import matplotlib.pyplot as plt\n",
    "\n",
    "from sklearn.preprocessing import scale \n",
    "from sklearn.linear_model import Ridge, Lasso\n",
    "\n",
    "%matplotlib inline"
   ]
  },
  {
   "cell_type": "code",
   "execution_count": 2,
   "metadata": {},
   "outputs": [
    {
     "name": "stdout",
     "output_type": "stream",
     "text": [
      "         Player  AtBat   Hits  HmRun  Runs   RBI  Walks  Years  CAtBat  CHits  \\\n",
      "0   -Alan Ashby  315.0   81.0    7.0  24.0  38.0   39.0   14.0  3449.0  835.0   \n",
      "1  -Alvin Davis  479.0  130.0   18.0  66.0  72.0   76.0    3.0  1624.0  457.0   \n",
      "\n",
      "      ...       CRuns   CRBI  CWalks  PutOuts  Assists  Errors  Salary  \\\n",
      "0     ...       321.0  414.0   375.0    632.0     43.0    10.0   475.0   \n",
      "1     ...       224.0  266.0   263.0    880.0     82.0    14.0   480.0   \n",
      "\n",
      "   League_N  Division_W  NewLeague_N  \n",
      "0         1           1            1  \n",
      "1         0           1            0  \n",
      "\n",
      "[2 rows x 21 columns]\n",
      "(263,)\n",
      "263\n",
      "   AtBat   Hits  HmRun  Runs   RBI  Walks  Years  CAtBat  CHits  CHmRun  \\\n",
      "0  315.0   81.0    7.0  24.0  38.0   39.0   14.0  3449.0  835.0    69.0   \n",
      "1  479.0  130.0   18.0  66.0  72.0   76.0    3.0  1624.0  457.0    63.0   \n",
      "\n",
      "   CRuns   CRBI  CWalks  PutOuts  Assists  Errors  Salary  League_N  \\\n",
      "0  321.0  414.0   375.0    632.0     43.0    10.0   475.0         1   \n",
      "1  224.0  266.0   263.0    880.0     82.0    14.0   480.0         0   \n",
      "\n",
      "   Division_W  NewLeague_N  \n",
      "0           1            1  \n",
      "1           1            0  \n"
     ]
    }
   ],
   "source": [
    "# Read data\n",
    "# TODO Implement\n",
    "#np.genfromtxt('data.txt', delimiter=',', names=True)\n",
    "#csv = np.genfromtxt ('data.csv', delimiter=\",\",names=True)\n",
    "#csv = np.genfromtxt ('data.csv', delimiter=\",\",skip_header = 1)[:,1:]\n",
    "csv = pd.read_csv('data.csv')\n",
    "print(csv[0:2][:])\n",
    "#print(csv[:].shape)\n",
    "#print(csv[0][:])\n",
    "\n",
    "# Read 'Salary' as your response/dependent variable\n",
    "# TODO Implement\n",
    "\n",
    "# with names=True\n",
    "response = csv['Salary']\n",
    "print(response.shape)\n",
    "\n",
    "\n",
    "#salary_boolean = csv[0,:]=='Salary'\n",
    "#print(np.where(csv[0,:] not nan))\n",
    "#print(np.isnan(csv)[0:3,:])\n",
    "\n",
    "#indices = np.invert(np.isnan(csv))\n",
    "#print(indices.shape)\n",
    "#data_vals = csv[indices]\n",
    "#print(data_vals.shape)\n",
    "#print(data_vals[0:3])\n",
    "#print(salary[1:5])\n",
    "\n",
    "# Drop the column with the dependent variable 'Salary'\n",
    "#features = csv[:][1:]\n",
    "#print(features[0:2][:])\n",
    "#features = np.delete(csv,csv['Salary'],axis=1)\n",
    "features = csv.drop('Salary',axis = 1)\n",
    "features = csv.drop('Player',axis = 1)\n",
    "print(features.shape[0])\n",
    "print(features[0:2])"
   ]
  },
  {
   "cell_type": "code",
   "execution_count": 27,
   "metadata": {
    "scrolled": true
   },
   "outputs": [
    {
     "name": "stdout",
     "output_type": "stream",
     "text": [
      "          Player  AtBat   Hits  HmRun  Runs   RBI  Walks  Years  CAtBat  \\\n",
      "0    -Alan Ashby  315.0   81.0    7.0  24.0  38.0   39.0   14.0  3449.0   \n",
      "1   -Alvin Davis  479.0  130.0   18.0  66.0  72.0   76.0    3.0  1624.0   \n",
      "2  -Andre Dawson  496.0  141.0   20.0  65.0  78.0   37.0   11.0  5628.0   \n",
      "\n",
      "    CHits  CHmRun  CRuns   CRBI  CWalks  PutOuts  Assists  Errors  League_N  \\\n",
      "0   835.0    69.0  321.0  414.0   375.0    632.0     43.0    10.0         1   \n",
      "1   457.0    63.0  224.0  266.0   263.0    880.0     82.0    14.0         0   \n",
      "2  1575.0   225.0  828.0  838.0   354.0    200.0     11.0     3.0         1   \n",
      "\n",
      "   Division_W  NewLeague_N  \n",
      "0           1            1  \n",
      "1           1            0  \n",
      "2           0            1  \n",
      "19\n",
      "100\n"
     ]
    },
    {
     "data": {
      "image/png": "[encoded data removed]",
      "text/plain": [
       "<matplotlib.figure.Figure at 0x7fc2ca12f860>"
      ]
     },
     "metadata": {},
     "output_type": "display_data"
    }
   ],
   "source": [
    "'''# Initialize values for the alphas\n",
    "lambdas = 10**np.linspace(10,-2,100)*0.5\n",
    "#print(lambdas.shape)\n",
    "#print(lambdas[0:10])\n",
    "\n",
    "# Create a Ridge Object that performs ridge regression\n",
    "# TODO Implement\n",
    "def ridge_regression(alphas,x,y):\n",
    "    ridge_model = Ridge(alpha = alphas)\n",
    "    ridge_model.fit(x,y)\n",
    "    return ridge_model.coef_\n",
    "\n",
    "# Create list to hold ridge weights\n",
    "# TODO Implement\n",
    "weights = []\n",
    "\n",
    "# Iterate over all lambdas, performing data fitting with ridge regression \n",
    "# and find the corresponding coefficients\n",
    "\n",
    "#TODO Implement\n",
    "#for alpha in lambdas:\n",
    "#    weights.append(ridge_regression(alpha,features,response))\n",
    "#print(len(weights))\n",
    "X = features\n",
    "Y = response\n",
    "ridge = Ridge()\n",
    "for i in lambdas:\n",
    "    ridge.set_params(alpha = i)\n",
    "    ridge.fit(X, Y)\n",
    "    weights.append(ridge.coef_)\n",
    "    #intercept.append(ridge.intercept_)\n",
    "\n",
    "\n",
    "# Generate the plot\n",
    "# TODO Implement\n",
    "ax = plt.gca()\n",
    "ax.plot(lambdas, weights)\n",
    "\n",
    "ax.set_xscale('log')\n",
    "#ax.set_xlim(ax.get_xlim()[::-1])  # reverse axis\n",
    "#plt.axis('tight')\n",
    "\n",
    "#ax.set_xscale('log')\n",
    "plt.axis('tight')\n",
    "\n",
    "\n",
    "# Name the plot\n",
    "# TODO Implement\n",
    "plt.xlabel('alpha')\n",
    "plt.ylabel('weights')\n",
    "plt.title('Ridge coefficients as a function of the regularization')\n",
    "#plt.axis('tight')\n",
    "#plt.show()\n",
    "'''\n",
    "# Read data\n",
    "data = pd.read_csv(\"data.csv\")\n",
    "\n",
    "# Read 'Salary' as your response/dependent variable\n",
    "salary = data[\"Salary\"]\n",
    "\n",
    "# Drop the column with the dependent variable 'Salary'\n",
    "data_indep = data.drop(\"Salary\", axis=1)\n",
    "print(data_indep[:3])\n",
    "data_indep.shape\n",
    "\n",
    "# Initialize values for the alphas\n",
    "lamdas = 10**np.linspace(10,-2,100)*0.5\n",
    "lambdas = 10**np.linspace(10,-2,100)*0.5\n",
    "\n",
    "# Create a Ridge Object that performs ridge regression\n",
    "ridge = Ridge()\n",
    "\n",
    "# Create list to hold ridge weights\n",
    "weights = []\n",
    "intercept =[]\n",
    "\n",
    "# Iterate over all lamdas, performing data fitting with ridge regression \n",
    "# and find the corresponding co-efficients\n",
    "X = data_indep.drop(\"Player\", axis=1)\n",
    "\n",
    "Y = salary\n",
    "\n",
    "for i in lamdas:\n",
    "    \n",
    "    ridge.set_params(alpha = i)\n",
    "    ridge.fit(X, Y)\n",
    "    weights.append(ridge.coef_)\n",
    "    intercept.append(ridge.intercept_)\n",
    "print(len(weights[0]))\n",
    "print(len(lamdas))\n",
    "#print(intercept)\n",
    "# Generate the plot\n",
    "ax = plt.gca()\n",
    "ax.plot(lamdas, weights)\n",
    "\n",
    "ax.set_xscale('log')\n",
    "#plt.axis('tight')\n",
    "\n",
    "# Name the plot\n",
    "plt.xlabel('alpha')\n",
    "plt.ylabel('weights')\n",
    "plt.title('Ridge weights as a function of lambda');"
   ]
  },
  {
   "cell_type": "code",
   "execution_count": 4,
   "metadata": {
    "collapsed": true
   },
   "outputs": [],
   "source": [
    "# Now generate the same plot as above using Tensorflow\n",
    "# for the same set of lambdas\n"
   ]
  },
  {
   "cell_type": "markdown",
   "metadata": {},
   "source": [
    "$2$. Next we deal with **L1 regularization** for which the corresponding method is called **Lasso.** In Lasso, we minimize the function, \n",
    "$$\\mathbf{J(W) ~~=~~ \\big|\\big|~Y-XW~\\big|\\big|_{2}^2 ~+~\\lambda~ \\big|\\big|~W~\\big|\\big|_{1}}$$"
   ]
  },
  {
   "cell_type": "markdown",
   "metadata": {},
   "source": [
    "**Plot the magnitude of each weight in $\\mathbf{W^{Lasso}}$ vs $\\mathbf{\\lambda}$ and explain how the regularizer $\\mathbf{\\lambda}$ affects the Lasso weights $\\mathbf{W^{Lasso}}$.** $~$ ($2.5$ points)"
   ]
  },
  {
   "cell_type": "code",
   "execution_count": 5,
   "metadata": {
    "scrolled": true
   },
   "outputs": [
    {
     "data": {
      "text/plain": [
       "Text(0.5,1,'Lasso coefficients as a function of the regularization')"
      ]
     },
     "execution_count": 5,
     "metadata": {},
     "output_type": "execute_result"
    },
    {
     "data": {
      "image/png": "[encoded data removed]",
      "text/plain": [
       "<matplotlib.figure.Figure at 0x7fc307c7fd68>"
      ]
     },
     "metadata": {},
     "output_type": "display_data"
    }
   ],
   "source": [
    "# Create a Lasso Object(set max_iter to 10000)\n",
    "# TODO Implement\n",
    "def lasso_reg(alphas,features,response):\n",
    "    lasso_model = Lasso(alpha=alphas,max_iter = 10000)\n",
    "    lasso_model.fit(features,response)\n",
    "    return lasso_model.coef_\n",
    "\n",
    "# Create list to hold lasso weights\n",
    "# TODO Implement\n",
    "Lasso_weights = []\n",
    "\n",
    "# Iterate over all alphas, performing data fitting with Lasso\n",
    "# and find the corresponding co-efficients\n",
    "# TODO Implement\n",
    "for alpha in lambdas:\n",
    "    Lasso_weights.append(lasso_reg(alpha,features,response))\n",
    "\n",
    "# Generate the plot\n",
    "# TODO Implement\n",
    "ax = plt.gca()\n",
    "ax.plot(lambdas, Lasso_weights)\n",
    "\n",
    "ax.set_xscale('log')\n",
    "ax.set_xlim(ax.get_xlim()[::-1])  # reverse axis\n",
    "#plt.axis('tight')\n",
    "\n",
    "# Name the plot\n",
    "# TODO Implement\n",
    "plt.xlabel('alpha')\n",
    "plt.ylabel('Lasso weights')\n",
    "plt.title('Lasso coefficients as a function of the regularization')"
   ]
  },
  {
   "cell_type": "code",
   "execution_count": 40,
   "metadata": {},
   "outputs": [
    {
     "data": {
      "image/png": "[encoded data removed]",
      "text/plain": [
       "<matplotlib.figure.Figure at 0x7fc2c1c42f60>"
      ]
     },
     "metadata": {},
     "output_type": "display_data"
    }
   ],
   "source": [
    "# Now generate the same plot as above using Tensorflow\n",
    "# for the same set of lambdas\n",
    "\n",
    "x = tf.placeholder(\"float\", X.shape)\n",
    "y = tf.placeholder(\"float\", Y.shape)\n",
    "lambda_holder = tf.placeholder(\"float\")\n",
    "w = tf.Variable(tf.zeros(shape = [19, 1]))\n",
    "\n",
    "lamdas = 10**np.linspace(10,-2,100)*0.5\n",
    "lambdas = 10**np.linspace(10,-2,100)*0.5\n",
    "intercept = []\n",
    "costs = []\n",
    "weights = []\n",
    "\n",
    "y_ = tf.matmul(x, w)\n",
    "#ridgeloss = tf.reduce_mean(tf.square(w))\n",
    "#for i in lamdas:\n",
    "#loss = tf.add(tf.reduce_mean(tf.square(y - y_)),\n",
    "#                             tf.multiply(tf.cast(lamdas,tf.float32), ridgeloss))\n",
    "loss = tf.add(tf.reduce_mean(tf.square(y - y_)),\n",
    "                             tf.multiply(lambda_holder, tf.square(w)))\n",
    "grad = tf.train.GradientDescentOptimizer(0.001)\n",
    "\n",
    "sess = tf.Session()\n",
    "sess.run(tf.global_variables_initializer())\n",
    "\n",
    "for alpha in lambdas:\n",
    "    train = grad.minimize(loss)\n",
    "    cost = sess.run(train, feed_dict = {x: X, y: Y, lambda_holder:alpha})\n",
    "    costs.append(cost)\n",
    "    weights.append(sess.run(w)[1][:])\n",
    "#interc = sess.run(train, feed_dict = {x: X, y: Y, lambda_holder:lambdas[0]})\n",
    "#intercept.append(interc)\n",
    "w_test = sess.run(w)[:][1]\n",
    "#print(w_test)\n",
    "#print(lamdas)\n",
    "#print(len(weights[0]))\n",
    "#print(weights)\n",
    "#for alpha in lambdas:\n",
    "\n",
    "\n",
    "# Generate the plot\n",
    "ax = plt.gca()\n",
    "ax.plot(lamdas, weights)\n",
    "\n",
    "ax.set_xscale('log')\n",
    "plt.axis('tight')\n",
    "\n",
    "# Name the plot\n",
    "plt.xlabel('alpha')\n",
    "plt.ylabel('weights')\n",
    "plt.title('Ridge weights as a function of lambda');\n"
   ]
  },
  {
   "cell_type": "code",
   "execution_count": 41,
   "metadata": {},
   "outputs": [
    {
     "data": {
      "image/png": "[encoded data removed]",
      "text/plain": [
       "<matplotlib.figure.Figure at 0x7fc2c1c42c50>"
      ]
     },
     "metadata": {},
     "output_type": "display_data"
    }
   ],
   "source": [
    "# Lasso with tensorflow\n",
    "intercept = []\n",
    "costs = []\n",
    "weights = []\n",
    "\n",
    "y_ = tf.matmul(x, w)\n",
    "#Lasso = tf.reduce_mean(tf.abs(w))\n",
    "\n",
    "loss = tf.add(tf.reduce_mean(tf.square(y - y_)),\n",
    "                             tf.multiply(lambda_holder, tf.abs(w)))\n",
    "grad = tf.train.GradientDescentOptimizer(0.001)\n",
    "\n",
    "sess = tf.Session()\n",
    "sess.run(tf.global_variables_initializer())\n",
    "\n",
    "for alpha in lambdas:\n",
    "    train = grad.minimize(loss)\n",
    "    cost = sess.run(train, feed_dict = {x: X, y: Y, lambda_holder:alpha})\n",
    "    costs.append(cost)\n",
    "    weights.append(sess.run(w)[1][:])\n",
    "#interc = sess.run(train, feed_dict = {x: X, y: Y, lambda_holder:lambdas[0]})\n",
    "#intercept.append(interc)\n",
    "#w_test = sess.run(w)[:][1]\n",
    "#print(w_test)\n",
    "#print(lamdas)\n",
    "#print(len(weights[0]))\n",
    "#print(weights)\n",
    "#for alpha in lambdas:\n",
    "\n",
    "\n",
    "# Generate the plot\n",
    "ax = plt.gca()\n",
    "ax.plot(lamdas, weights)\n",
    "\n",
    "ax.set_xscale('log')\n",
    "plt.axis('tight')\n",
    "\n",
    "# Name the plot\n",
    "plt.xlabel('alpha')\n",
    "plt.ylabel('weights')\n",
    "plt.title('Lasso weights as a function of lambda');"
   ]
  },
  {
   "cell_type": "markdown",
   "metadata": {},
   "source": [
    "**Comment on the plots generated in problems $1$ and $2$ respectively.**\n",
    "\n",
    "**Answer:**\n",
    "\n",
    "From the plots, it is somewhat visible the difference between Ridge Regression ans Lasso. Lasso drives the coefficients to zero (feature selection), where Ridge Regression keeps (usually) all the coefficients (may be almost zero, but still present)."
   ]
  },
  {
   "cell_type": "markdown",
   "metadata": {},
   "source": [
    "### Understanding the Impact of norms in the  Regularizer $~$ (4 points)"
   ]
  },
  {
   "cell_type": "markdown",
   "metadata": {},
   "source": [
    "$4$. Assume$~$ $\\mathbf{x} \\in R^2$, $(x_1, x_2) \\in [-1, 1]\\times[-1, 1]$. $~$ (2 points)"
   ]
  },
  {
   "cell_type": "markdown",
   "metadata": {},
   "source": [
    "Now, draw the contour plots for $\\mathbf{\\big|\\big|~x~\\big|\\big|_{0}}$, $\\mathbf{\\big|\\big|~x~\\big|\\big|_{1}}$, $\\mathbf{\\big|\\big|~x~\\big|\\big|_{2}}$ and $\\mathbf{\\big|\\big|~x~\\big|\\big|_{\\infty}}$ norms (consider all possible isolines in the given interval,i.e., ($[-1,1]\\times[-1,1]$) and **explain** how you get the corresponding plot, i.e., provide the mathematical formula for getting the outermost isoline in each case.\n"
   ]
  },
  {
   "cell_type": "code",
   "execution_count": 7,
   "metadata": {},
   "outputs": [
    {
     "data": {
      "text/html": [
       "<img src=\"https://github.com/zshn25/Neural-Networks-Implementation-Application/blob/zee/img_norms.jpg?raw=true\"/>"
      ],
      "text/plain": [
       "<IPython.core.display.Image object>"
      ]
     },
     "execution_count": 7,
     "metadata": {},
     "output_type": "execute_result"
    }
   ],
   "source": [
    "from IPython.display import Image\n",
    "Image(url='https://github.com/zshn25/Neural-Networks-Implementation-Application/blob/zee/img_norms.jpg?raw=true')"
   ]
  },
  {
   "cell_type": "markdown",
   "metadata": {},
   "source": [
    "$5$. Sketch the **Lasso** optimization function, $~$ $\\mathbf{J(W) ~~=~~ \\big|\\big|~Y-XW~\\big|\\big|_{2}^2 ~+~\\lambda~ \\big|\\big|~W~\\big|\\big|_{1}}$ $~$ in two dimensions. From this sketch try to explain why **Lasso** induces **sparsity.** $~$ (2 points)\n"
   ]
  },
  {
   "cell_type": "code",
   "execution_count": null,
   "metadata": {
    "collapsed": true
   },
   "outputs": [],
   "source": []
  },
  {
   "cell_type": "markdown",
   "metadata": {},
   "source": [
    "### Getting to know Back-Propagation in details $~$ (3 points)"
   ]
  },
  {
   "cell_type": "markdown",
   "metadata": {},
   "source": [
    "![Neural Network](https://github.com/mmarius/nnia-tutorial/blob/master/neural-net.png?raw=true)"
   ]
  },
  {
   "cell_type": "markdown",
   "metadata": {},
   "source": [
    "We have a **Feedforward Neural network** with one **input layer**, one **hidden layer** and one **output layer.** The **hidden layer** and **output layer** use the sigmoid function, $\\mathbf{\\sigma(x) = \\frac{1}{1+exp(-x)}}$, as **activation function.** Also note, that the network minimizes **Binary Cross Entropy loss**, given by, $$\\mathbf{J = \\sum -y\\log(\\hat{y}) - (1-y)\\log(1-\\hat{y})}$$\n",
    "\n",
    "We consider the true class labels to be **binary**, i.e., either $0$ or $1$. "
   ]
  },
  {
   "cell_type": "markdown",
   "metadata": {},
   "source": [
    "**For the purpose of computing the derivatives of the loss/cost function consider the numerical values obtained by the network.**"
   ]
  },
  {
   "cell_type": "markdown",
   "metadata": {},
   "source": [
    "**Input layer** consists of two nodes, $x_1$ and $x_2$ respectively. For our problem consider the following input,\n",
    "$$\\begin{bmatrix} x_1\\\\ x_2\\\\ \\end{bmatrix} = \\begin{bmatrix} -1\\\\ 1\\\\ \\end{bmatrix}$$"
   ]
  },
  {
   "cell_type": "markdown",
   "metadata": {},
   "source": [
    "**Hidden layer** is made up of 3 neurons and the corresponding matrix of weights is as given:\n",
    "$$\n",
    "\\mathbf{W_{hidden}}\n",
    "~=~\n",
    "\\begin{bmatrix} w_1^{1} & w_1^{2} & w_1^{3} \\\\ w_2^{1} & w_2^{2} & w_2^{3} \\end{bmatrix}\n",
    "~=~\n",
    "\\begin{bmatrix} 0.15 & -0.25 & 0.05\\\\ 0.20 & 0.10 & -0.15 \\end{bmatrix}\n",
    "$$\n",
    "\n",
    "**Note:** Output of **Hidden layer** is given by, $~~$ $\\mathbf{a=\\sigma~(W_{hidden}^{T}x)}$"
   ]
  },
  {
   "cell_type": "markdown",
   "metadata": {},
   "source": [
    "**Output layer** consists of one neuron, i.e., the **network** generates a single output. **For our problem, the true class label is $1$.**"
   ]
  },
  {
   "cell_type": "markdown",
   "metadata": {},
   "source": [
    "The matrix corresponding to the **Output layer** is given by,\n",
    "$$\n",
    "\\mathbf{W_{out}}\n",
    "~=~\n",
    "\\begin{bmatrix} w_1\\\\w_2 \\\\w_3\\end{bmatrix}\n",
    "~=~\n",
    "\\begin{bmatrix} 0.20\\\\-0.35\\\\0.15 \\end{bmatrix}\n",
    "$$\n",
    "\n",
    "**Note:** output from the **Output layer** is given by, $~$ $\\mathbf{\\hat{y} = \\sigma~(W_{out}^Ta)}$"
   ]
  },
  {
   "cell_type": "markdown",
   "metadata": {},
   "source": [
    "$6$. Execute the following sequence of operations and **show that Binary Cross Entropy loss is getting reduced, i.e., $ C^2 < C^1$** $~$ ($3$ points)\n",
    "\n",
    "**Perform Forward-propagation to generate output** $\\to$ **Compute loss or cost ($C^1$)** $\\to$ **perform Back-propagation to compute the error** $\\to$ **perform Gradient descent to update the weights** $\\to$ **peform Forward-propagation again with updated weights** $\\to$ **Compute loss or cost ($C^2$)**"
   ]
  },
  {
   "cell_type": "markdown",
   "metadata": {},
   "source": [
    "**Note:**  $C^i$ denotes the loss or cost at the $i^{th}$ iteration, for performing Gradient descent consider a learning rate of $0.1$"
   ]
  },
  {
   "cell_type": "markdown",
   "metadata": {},
   "source": [
    "**Answer:**\n",
    "\n",
    "In the hidden layer we have:\n",
    "\n",
    "$$\n",
    "Z_{in} = W_{hidden}^T x \n",
    "~=~\n",
    "\\begin{bmatrix} 0.15 & 0.20 \\\\ -0.25 & 0.10 \\\\ 0.05 & -0.15\\end{bmatrix}\n",
    "\\begin{bmatrix} -1\\\\ 1\\\\ \\end{bmatrix}\n",
    "~=~\n",
    "\\begin{bmatrix} 0.05\\\\ 0.35\\\\ -0.20 \\end{bmatrix}\n",
    "~\n",
    "\\implies\n",
    "~\n",
    "a = \\sigma(Z_{in}) ~\\approx~ \\begin{bmatrix} 0.512\\\\ 0.587\\\\ 0.450\\end{bmatrix}\n",
    "$$\n",
    "\n",
    "\n",
    "In the output layer we have:\n",
    "\n",
    "$$\n",
    "Z_{out = }W_{out}^T a = \n",
    "\\begin{bmatrix} 0.20 & -0.35 & 0.15\\end{bmatrix}\n",
    "\\begin{bmatrix} 0.512\\\\ 0.587\\\\ 0.450\\end{bmatrix}\n",
    "\\approx\n",
    "-0.035\n",
    "\\implies\n",
    "\\hat{y} = \\sigma(Z_{out}) \\approx 0.491\n",
    "$$\n",
    "\n",
    "And with this result and $y = 1$ we can compute the cost of the first pass as\n",
    "\n",
    "$$\n",
    "J = \\sum -(1)\\log(0.491) - (1-1)\\log(1-0.491) \\approx 0.711 = C_1\n",
    "$$\n",
    "\n",
    "Now, we start with the backward pass. To that end, we start by computing the derivatives of the cost function w.r.t. $W_{out}$ so that we can update those weights using a gradient descent scheme:\n",
    "\n",
    "$$\n",
    "\\frac{\\partial J}{\\partial W_{out}} = \\frac{\\partial J}{\\partial \\hat{y}} \n",
    "~\n",
    "\\frac{\\partial \\hat{y}}{\\partial Z_{out}} \n",
    "~\n",
    "\\frac{\\partial Z_{out}}{\\partial W_{out}}\n",
    "~\n",
    "=\n",
    "~\n",
    "\\left( \\frac{-y+\\hat{y}}{\\hat{y}-\\hat{y}^2} \\right)\n",
    "~\n",
    "(\\sigma(Z_{out})(1-\\sigma(Z_{out})))\n",
    "~\n",
    "a\n",
    "=\n",
    "~\n",
    "\\delta_{out}\n",
    "~\n",
    "a\n",
    "\\approx (-0.509) \\begin{bmatrix} 0.512\\\\ 0.587\\\\ 0.450\\end{bmatrix}\n",
    "\\approx \\begin{bmatrix} -0.261\\\\ -0.298\\\\ 0.229\\end{bmatrix}\n",
    "$$\n",
    "\n",
    "Then we update the output weights with the gradient descent scheme\n",
    "\n",
    "$$\n",
    "W_{out} = W_{out} - \\alpha \\frac{\\partial J}{\\partial W_{out}} = \\begin{bmatrix} 0.20 \\\\ -0.35 \\\\ 0.15\\end{bmatrix} - (0.1)\\begin{bmatrix} 0.20 \\\\ -0.35 \\\\ 0.15\\end{bmatrix}\n",
    "=\n",
    "\\begin{bmatrix} 0.226 \\\\ -0.320 \\\\ 0.173\\end{bmatrix}\n",
    "$$\n",
    "\n",
    "Then, we can procede to compute the derivative of the cost function $J$ w.r.t. $W_{hidden}$ in order to update them. The derivative is\n",
    "\n",
    "$$\n",
    "\\frac{\\partial J}{\\partial W_{hidden}} = \\frac{\\partial J}{\\partial \\hat{y}} \n",
    "~\n",
    "\\frac{\\partial \\hat{y}}{\\partial Z_{out}} \n",
    "~\n",
    "\\frac{\\partial Z_{out}}{\\partial a}\n",
    "~\n",
    "\\frac{\\partial a}{\\partial Z_{in}}\n",
    "~\n",
    "\\frac{\\partial Z_{in}}{\\partial W_{in}}\n",
    "~\n",
    "=\n",
    "$$\n",
    "\n",
    "$$\n",
    "\\delta_{out}\n",
    "~\n",
    "W_{out}\n",
    "~\n",
    "\\frac{\\partial Z_{out}}{\\partial a}\n",
    "~\n",
    "\\frac{\\partial a}{\\partial Z_{in}}\n",
    "~\n",
    "\\frac{\\partial Z_{in}}{\\partial W_{in}}\n",
    "~\n",
    "=\n",
    "~\n",
    "\\delta_{out}~W_{out}~\\sigma(Z_{in})(1-\\sigma(Z_{in}))(x)\n",
    "$$\n",
    "\n",
    "$$\n",
    "\\implies\n",
    "\\delta_{in} \\frac{\\partial Z_{in}}{\\partial W_{in}}\n",
    "~\n",
    "\\approx\n",
    "~\n",
    "\\begin{bmatrix} 0.029 & -0.028 \\\\ -0.04 & 0.04 \\\\ 0.022 & -0.022\\end{bmatrix}\n",
    "\\begin{bmatrix} -1 & 1\\end{bmatrix}\n",
    "$$\n",
    "\n",
    "With the transpose of the previous result, we can update $W_{hidden}$ with the gradient descent scheme\n",
    "\n",
    "$$\n",
    "W_{hidden} = W_{hidden} - \\alpha \\frac{\\partial J}{\\partial W_{hidden}} \n",
    "~\n",
    "=\n",
    "~\n",
    "\\begin{bmatrix} 0.15 & -0.25 & 0.05\\\\ 0.20 & 0.10 & -0.15 \\end{bmatrix}\n",
    "~\n",
    "- (0.1) \\begin{bmatrix} 0.029 & -0.04 & 0.022\\\\ -0.028 & 0.04 & -0.022 \\end{bmatrix}\n",
    "~\n",
    "=\n",
    "~\n",
    "\\begin{bmatrix} 0.147 & -0.246 & 0.047\\\\ 0.203 & 0.096 & -0.148 \\end{bmatrix}\n",
    "$$\n"
   ]
  },
  {
   "cell_type": "markdown",
   "metadata": {},
   "source": [
    "And now, we compute the forward pass with the updated results. In the hidden layer we have:\n",
    "\n",
    "$$\n",
    "Z_{in} = W_{hidden}^T x \n",
    "~=~\n",
    "\\begin{bmatrix} 0.147 & -0.246 & 0.047\\\\ 0.203 & 0.096 & -0.148 \\end{bmatrix}\n",
    "\\begin{bmatrix} -1\\\\ 1\\\\ \\end{bmatrix}\n",
    "~=~\n",
    "\\begin{bmatrix} 0.056\\\\ 0.342\\\\ -0.197 \\end{bmatrix}\n",
    "~\n",
    "\\implies\n",
    "~\n",
    "a = \\sigma(Z_{in}) ~\\approx~ \\begin{bmatrix} 0.514\\\\ 0.585\\\\ 0.451\\end{bmatrix}\n",
    "$$\n",
    "\n",
    "\n",
    "In the output layer we have:\n",
    "\n",
    "$$\n",
    "Z_{out = }W_{out}^T a = \n",
    "\\begin{bmatrix} 0.226 & -0.320 & 0.173\\end{bmatrix}\n",
    "\\begin{bmatrix} 0.514\\\\ 0.585\\\\ 0.451\\end{bmatrix}\n",
    "\\approx\n",
    "0.007\n",
    "\\implies\n",
    "\\hat{y} = \\sigma(Z_{out}) \\approx 0.502\n",
    "$$\n",
    "\n",
    "And with this result and $y = 1$ we can compute the cost of the first pass as\n",
    "\n",
    "$$\n",
    "J = \\sum -(1)\\log(0.491) - (1-1)\\log(1-0.491) \\approx 0.689 = C_2\n",
    "$$\n",
    "\n",
    "And from the previous computations we can see that $C_2 < C_1$"
   ]
  },
  {
   "cell_type": "markdown",
   "metadata": {},
   "source": [
    "### Feed-forward Neural Network with L1 and L2 regularization $~$ (8 points)"
   ]
  },
  {
   "cell_type": "markdown",
   "metadata": {},
   "source": [
    "In the following exercise you would build a **feed-forward network** from scratch using only **Numpy** in python. For this, you also have to implement **Back-propagation** in python. Additionally, this network should have the option of **L1 and L2 regularization** enabled within it."
   ]
  },
  {
   "cell_type": "markdown",
   "metadata": {},
   "source": [
    "Download **mnist** dataset from NNIA piazza page."
   ]
  },
  {
   "cell_type": "code",
   "execution_count": 42,
   "metadata": {
    "collapsed": true
   },
   "outputs": [],
   "source": [
    "import os\n",
    "import struct\n",
    "import numpy as np\n",
    " \n",
    "def load_mnist(path, kind='train'):\n",
    "    \"\"\"function for loading data\"\"\"\n",
    "    labels_path = os.path.join(path, \n",
    "                               '%s-labels-idx1-ubyte' % kind)\n",
    "    images_path = os.path.join(path, \n",
    "                               '%s-images-idx3-ubyte' % kind)\n",
    "        \n",
    "    with open(labels_path, 'rb') as lbpath:\n",
    "        magic, n = struct.unpack('>II', \n",
    "                                 lbpath.read(8))\n",
    "        labels = np.fromfile(lbpath, \n",
    "                             dtype=np.uint8)\n",
    "\n",
    "    with open(images_path, 'rb') as imgpath:\n",
    "        magic, num, rows, cols = struct.unpack(\">IIII\", \n",
    "                                               imgpath.read(16))\n",
    "        images = np.fromfile(imgpath, \n",
    "                             dtype=np.uint8).reshape(len(labels), 784)\n",
    " \n",
    "    return images, labels"
   ]
  },
  {
   "cell_type": "code",
   "execution_count": 43,
   "metadata": {},
   "outputs": [
    {
     "name": "stdout",
     "output_type": "stream",
     "text": [
      "Rows: 60000, columns: 784\n"
     ]
    }
   ],
   "source": [
    "X_train, y_train = load_mnist('mnist/', kind='train')\n",
    "print('Rows: %d, columns: %d' % (X_train.shape[0], X_train.shape[1]))"
   ]
  },
  {
   "cell_type": "code",
   "execution_count": 44,
   "metadata": {},
   "outputs": [
    {
     "name": "stdout",
     "output_type": "stream",
     "text": [
      "Rows: 10000, columns: 784\n"
     ]
    }
   ],
   "source": [
    "X_test, y_test = load_mnist('mnist/', kind='t10k')\n",
    "print('Rows: %d, columns: %d' % (X_test.shape[0], X_test.shape[1]))"
   ]
  },
  {
   "cell_type": "code",
   "execution_count": 45,
   "metadata": {},
   "outputs": [],
   "source": [
    "import numpy as np\n",
    "from scipy.special import expit\n",
    "\n",
    "\n",
    "class MLP(object):\n",
    "    \"\"\" Feedforward neural network with a single hidden layer.\n",
    "\n",
    "    Parameters\n",
    "    ------------\n",
    "    n_output : int\n",
    "        Number of output units, should be equal to the\n",
    "        number of unique class labels.\n",
    "        \n",
    "    n_features : int\n",
    "        Number of features (dimensions) in the target dataset.\n",
    "        Should be equal to the number of columns in the X array.\n",
    "        \n",
    "    n_hidden : int\n",
    "        Number of hidden units.\n",
    "        \n",
    "    l1 : float\n",
    "        Regularizer for L1-regularization.\n",
    "        l1=0.0 implies no regularization\n",
    "        \n",
    "    l2 : float\n",
    "        Lambda value for L2-regularization.\n",
    "        l2=0.0 implies no regularization\n",
    "        \n",
    "    epochs : int\n",
    "        Number of passes over the training set.\n",
    "        \n",
    "    eta : float (default: 0.001)\n",
    "        Learning rate.\n",
    "        \n",
    "    decrease_const : float (default: 0.0)\n",
    "        Decrease constant. Shrinks the learning rate\n",
    "        after each epoch via eta / (1 + epoch*decrease_const)\n",
    "        \n",
    "    shuffle : bool (default: True)\n",
    "        Shuffles training data every epoch if True to prevent circles.\n",
    "        \n",
    "    minibatches : int (default: 1)\n",
    "        Divides training data into k minibatches for efficiency.\n",
    "        \n",
    "    random_state : int (default: None)\n",
    "        Set random state for shuffling and initializing the weights.\n",
    "\n",
    "    Attributes\n",
    "    -----------\n",
    "    cost_ : list\n",
    "      Sum of squared errors after each epoch.\n",
    "\n",
    "    \"\"\"\n",
    "    def __init__(self, n_output, n_features, n_hidden=30,\n",
    "                 l1=0.0, l2=0.0, epochs=50, eta=0.001,\n",
    "                 decrease_const=0.0, shuffle=True,\n",
    "                 minibatches=1, random_state=None):\n",
    "        \n",
    "        np.random.seed(random_state)\n",
    "        self.n_output = n_output\n",
    "        self.n_features = n_features\n",
    "        self.n_hidden = n_hidden\n",
    "        self.l1 = l1\n",
    "        self.l2 = l2\n",
    "        self.epochs = epochs\n",
    "        self.eta = eta\n",
    "        self.decrease_const = decrease_const\n",
    "        self.shuffle = shuffle\n",
    "        self.minibatches = minibatches\n",
    "        self.w1, self.w2 = self.initialize_weights()\n",
    "        self.cost_ = []\n",
    "\n",
    "\n",
    "    def encode_labels(self, y, k):\n",
    "        \"\"\"Encode the labels using one-hot representation\n",
    "\n",
    "        Parameters\n",
    "        ------------\n",
    "        y : y represents target values.\n",
    "\n",
    "        Returns\n",
    "        -----------\n",
    "        onehot array\n",
    "\n",
    "        \"\"\"\n",
    "        label = np.zeros((k, y.shape[0]))\n",
    "        for i,j in enumerate(y):\n",
    "            label[j,i] = 1.0\n",
    "        return label\n",
    "        \n",
    "        \n",
    "\n",
    "    def initialize_weights(self):\n",
    "        \"\"\"Initialize using random numbers.\"\"\"\n",
    "        \n",
    "        #w1 = np.random.uniform(-1.0, 1.0, size = [self.n_hidden, self.n_features+1])\n",
    "        #w2 = np.random.uniform(-1.0, 1.0, size = [self.n_hidden, self.n_features+1])\n",
    "        #return w1, w2\n",
    "        w1 = np.random.uniform(-1.0, 1.0,\n",
    "                               size=self.n_hidden*(self.n_features + 1))\n",
    "        w1 = w1.reshape(self.n_hidden, self.n_features + 1)\n",
    "        w2 = np.random.uniform(-1.0, 1.0,\n",
    "                               size=self.n_output*(self.n_hidden + 1))\n",
    "        w2 = w2.reshape(self.n_output, self.n_hidden + 1)\n",
    "        return w1, w2\n",
    "\n",
    "    def sigmoid(self, z):\n",
    "        \"\"\"Compute sigmoid function\n",
    "           Implement a stable version which \n",
    "           takes care of overflow and underflow.\n",
    "        \"\"\"\n",
    "        \n",
    "        return expit(z)\n",
    "        \n",
    "        \n",
    "\n",
    "    def sigmoid_gradient(self, z):\n",
    "        \"\"\"Compute gradient of the sigmoid function\"\"\"\n",
    "        \n",
    "        return self.sigmoid(z) * (1 - self.sigmoid(z))\n",
    "        \n",
    "        \n",
    "\n",
    "    def add_bias_unit(self, X, how='column'):\n",
    "        \"\"\"Add bias unit to array at index 0\"\"\"\n",
    "        if how == 'column':\n",
    "            X_new = np.ones((X.shape[0], X.shape[1]+1))\n",
    "            X_new[:, 1:] = X\n",
    "        elif how == 'row':\n",
    "            X_new = np.ones((X.shape[0]+1, X.shape[1]))\n",
    "            X_new[1:, :] = X\n",
    "        return X_new\n",
    "        \n",
    "        \n",
    "\n",
    "    def feedforward(self, X, w1, w2):\n",
    "        \"\"\"Compute feedforward step\n",
    "\n",
    "        Parameters\n",
    "        -----------\n",
    "        X : array, shape = [n_samples, n_features]\n",
    "            Input layer with original features.\n",
    "        w1 : array, shape = [n_hidden_units, n_features]\n",
    "            Weight matrix for input layer -> hidden layer.\n",
    "        w2 : array, shape = [n_output_units, n_hidden_units]\n",
    "            Weight matrix for hidden layer -> output layer.\n",
    "\n",
    "        Returns\n",
    "        ----------\n",
    "        a1 : array,\n",
    "            Input values with bias unit.\n",
    "        z2 : array,\n",
    "            Net input of hidden layer.\n",
    "        a2 : array,\n",
    "            Activation of hidden layer.\n",
    "        z3 : array,\n",
    "            Net input of output layer.\n",
    "        a3 : array,\n",
    "            Activation of output layer.\n",
    "\n",
    "        \"\"\"\n",
    "        \n",
    "        a1 = self.add_bias_unit(X, how='column')\n",
    "        z2 = w1.dot(a1.T)\n",
    "        a2 = self.sigmoid(z2)\n",
    "        a2 = self.add_bias_unit(a2, how='row')\n",
    "        z3 = w2.dot(a2)\n",
    "        a3 = self.sigmoid(z3)\n",
    "        return a1, z2, a2, z3, a3\n",
    "        \n",
    "        \n",
    "\n",
    "    def L2_reg(self, lambda_, w1, w2):\n",
    "        \"\"\"Compute L2-regularization cost\"\"\"\n",
    "        return (lambda_/2.0) * (np.sum(w1[:, 1:] ** 2) +\n",
    "                                np.sum(w2[:, 1:] ** 2))\n",
    "        \n",
    "\n",
    "    def L1_reg(self, lambda_, w1, w2):\n",
    "        \"\"\"Compute L1-regularization cost\"\"\"\n",
    "        \n",
    "        return (lambda_/2.0) * (np.abs(w1[:, 1:]).sum() +\n",
    "                                np.abs(w2[:, 1:]).sum())\n",
    "        \n",
    "        \n",
    "    def get_cost(self, y_enc, output, w1, w2):\n",
    "        \"\"\"Compute cost function.\n",
    "\n",
    "        Parameters\n",
    "        ----------\n",
    "        y_enc : array, one-hot encoded class labels.\n",
    "        \n",
    "        output : array, Activation of the output layer (feedforward)\n",
    "        \n",
    "        w1 : array, Weight matrix for input layer -> hidden layer.\n",
    "        w2 : array, Weight matrix for hidden layer -> output layer.\n",
    "\n",
    "        Returns\n",
    "        ---------\n",
    "        cost : float, Regularized cost.\n",
    "\n",
    "        \"\"\"\n",
    "        \n",
    "        term1 = -y_enc * (np.log(output))\n",
    "        term2 = (1 - y_enc) * np.log(1 - output)\n",
    "        cost = np.sum(term1 - term2)\n",
    "        L1_term = self.L1_reg(self.l1, w1, w2)\n",
    "        L2_term = self.L2_reg(self.l2, w1, w2)\n",
    "        cost = cost + L1_term + L2_term\n",
    "        return cost\n",
    "        \n",
    "        \n",
    "\n",
    "    def get_gradient(self, a1, a2, a3, z2, y_enc, w1, w2):\n",
    "        \"\"\" Compute gradient step using backpropagation.\n",
    "\n",
    "        Parameters\n",
    "        ------------\n",
    "        a1 : array, Input values with bias unit.\n",
    "        a2 : array, Activation of hidden layer.\n",
    "        a3 : array, Activation of output layer.\n",
    "        z2 : array, Net input of hidden layer.\n",
    "        y_enc : array, one-hot encoded class labels.\n",
    "        w1 : array, Weight matrix for input layer -> hidden layer.\n",
    "        w2 : array, Weight matrix for hidden layer -> output layer.\n",
    "\n",
    "        Returns\n",
    "        ---------\n",
    "        grad1 : array, Gradient of the weight matrix w1.\n",
    "        grad2 : array, Gradient of the weight matrix w2.\n",
    "\n",
    "        \"\"\"\n",
    "        \n",
    "        # backpropagation\n",
    "        sigma3 = a3 - y_enc\n",
    "        z2 = self.add_bias_unit(z2, how='row')\n",
    "        sigma2 = w2.T.dot(sigma3) * self.sigmoid_gradient(z2)\n",
    "        sigma2 = sigma2[1:, :]\n",
    "        grad1 = sigma2.dot(a1)\n",
    "        grad2 = sigma3.dot(a2.T)\n",
    "\n",
    "        # regularize\n",
    "        grad1[:, 1:] += (w1[:, 1:] * (self.l1 + self.l2))\n",
    "        grad2[:, 1:] += (w2[:, 1:] * (self.l1 + self.l2))\n",
    "\n",
    "        return grad1, grad2\n",
    "        \n",
    "        \n",
    "\n",
    "    def predict(self, X):\n",
    "        \"\"\"Predict class labels\n",
    "\n",
    "        Parameters\n",
    "        -----------\n",
    "        X : array, Input layer with original features.\n",
    "\n",
    "        Returns:\n",
    "        ----------\n",
    "        y_pred : array, Predicted class labels.\n",
    "\n",
    "        \"\"\"\n",
    "        \n",
    "        a1, z2, a2, z3, a3 = self.feedforward(X, self.w1, self.w2)\n",
    "        y_pred = np.argmax(z3, axis=0)\n",
    "        return y_pred\n",
    "        \n",
    "        \n",
    "    def fit(self, X, y, print_progress = False):\n",
    "        \"\"\" Learn weights from training data.\n",
    "\n",
    "        Parameters\n",
    "        -----------\n",
    "        X : array, Input layer with original features.\n",
    "        y : array, Target class labels.\n",
    "        print_progress : bool, Prints the progress\n",
    "\n",
    "        Returns:\n",
    "        ----------\n",
    "        self\n",
    "\n",
    "        \"\"\"\n",
    "        \n",
    "        X_data, y_data = X.copy(), y.copy()\n",
    "        y_enc = self.encode_labels(y, self.n_output)\n",
    "\n",
    "\n",
    "        for i in range(self.epochs):\n",
    "\n",
    "            # adaptive learning rate\n",
    "            self.eta /= (1 + self.decrease_const*i)\n",
    "\n",
    "            if self.shuffle:\n",
    "                idx = np.random.permutation(y_data.shape[0])\n",
    "                X_data, y_enc = X_data[idx], y_enc[:, idx]\n",
    "\n",
    "            mini = np.array_split(range(y_data.shape[0]), self.minibatches)\n",
    "            for idx in mini:\n",
    "\n",
    "                # feedforward\n",
    "                a1, z2, a2, z3, a3 = self.feedforward(X_data[idx],\n",
    "                                                       self.w1,\n",
    "                                                       self.w2)\n",
    "                cost = self.get_cost(y_enc=y_enc[:, idx],\n",
    "                                      output=a3,\n",
    "                                      w1=self.w1,\n",
    "                                      w2=self.w2)\n",
    "                self.cost_.append(cost)\n",
    "\n",
    "                # compute gradient via backpropagation\n",
    "                grad1, grad2 = self.get_gradient(a1=a1, a2=a2,\n",
    "                                                  a3=a3, z2=z2,\n",
    "                                                  y_enc=y_enc[:, idx],\n",
    "                                                  w1=self.w1,\n",
    "                                                  w2=self.w2)\n",
    "\n",
    "                delta_w1, delta_w2 = self.eta * grad1, self.eta * grad2\n",
    "                self.w1 -= delta_w1 \n",
    "                self.w2 -= delta_w2\n",
    "\n",
    "        return self\n",
    "        \n",
    "        "
   ]
  },
  {
   "cell_type": "code",
   "execution_count": 84,
   "metadata": {
    "collapsed": true
   },
   "outputs": [],
   "source": [
    "nn = MLP(n_output=10, \n",
    "                  n_features=X_train.shape[1], \n",
    "                  n_hidden=50, \n",
    "                  l2=0.1, \n",
    "                  l1=0.0, \n",
    "                  epochs=1000, \n",
    "                  eta=0.001,\n",
    "                  decrease_const=0.00001,\n",
    "                  minibatches=50, \n",
    "                  shuffle=True,\n",
    "                  random_state=1)"
   ]
  },
  {
   "cell_type": "code",
   "execution_count": 85,
   "metadata": {
    "scrolled": false
   },
   "outputs": [
    {
     "data": {
      "text/plain": [
       "<__main__.MLP at 0x7fc2de7b0cf8>"
      ]
     },
     "execution_count": 85,
     "metadata": {},
     "output_type": "execute_result"
    }
   ],
   "source": [
    "nn.fit(X_train, y_train, print_progress=True)"
   ]
  },
  {
   "cell_type": "code",
   "execution_count": 86,
   "metadata": {
    "scrolled": true
   },
   "outputs": [
    {
     "data": {
      "image/png": "[encoded data removed]",
      "text/plain": [
       "<matplotlib.figure.Figure at 0x7fc2de7b07f0>"
      ]
     },
     "metadata": {},
     "output_type": "display_data"
    }
   ],
   "source": [
    "import matplotlib.pyplot as plt\n",
    "\n",
    "# Plot the training error for every iteration\n",
    "# in every epoch\n",
    "\n",
    "# TODO Implement\n",
    "plt.plot(range(len(nn.cost_)), nn.cost_)\n",
    "#plt.ylim([0, 2000])\n",
    "plt.ylabel('Cost')\n",
    "plt.xlabel('Every iteration every epoch')\n",
    "#print(nn.cost_)\n",
    "plt.tight_layout()\n",
    "plt.show()"
   ]
  },
  {
   "cell_type": "code",
   "execution_count": 87,
   "metadata": {},
   "outputs": [
    {
     "data": {
      "image/png": "[encoded data removed]",
      "text/plain": [
       "<matplotlib.figure.Figure at 0x7fc2de5f7f98>"
      ]
     },
     "metadata": {},
     "output_type": "display_data"
    }
   ],
   "source": [
    "# Plot the training error in every epoch\n",
    "# TODO Implement\n",
    "nn_cost = np.zeros(int(len(nn.cost_)/nn.minibatches))\n",
    "for i in range(int(len(nn.cost_)/nn.minibatches)):\n",
    "    nn_cost[i] = nn.cost_[i*nn.minibatches]\n",
    "    i+=nn.minibatches\n",
    "\n",
    "plt.plot(range(int(len(nn.cost_)/nn.minibatches)), nn_cost)\n",
    "#plt.ylim([0, 2000])\n",
    "plt.ylabel('Cost')\n",
    "plt.xlabel('Every epoch')\n",
    "\n",
    "plt.tight_layout()\n",
    "plt.show()"
   ]
  },
  {
   "cell_type": "code",
   "execution_count": 88,
   "metadata": {},
   "outputs": [
    {
     "name": "stdout",
     "output_type": "stream",
     "text": [
      "Training accuracy: 97.67%\n"
     ]
    }
   ],
   "source": [
    "# Compute Training Accuracy\n",
    "# TODO Implement\n",
    "y_prediction = nn.predict(X_train)\n",
    "#print(y_prediction[0])\n",
    "#print(y_train[0])\n",
    "comparison = np.where(y_prediction==y_train) \n",
    "#print(len(comparison[0][:]))\n",
    "#print(y_train.shape)\n",
    "acc = len(comparison[0][:])/y_train.shape[0]\n",
    "print('Training accuracy: %.2f%%' % (acc * 100))"
   ]
  },
  {
   "cell_type": "code",
   "execution_count": 89,
   "metadata": {},
   "outputs": [
    {
     "name": "stdout",
     "output_type": "stream",
     "text": [
      "Test accuracy: 95.81%\n"
     ]
    }
   ],
   "source": [
    "# Compute Test Accuracy\n",
    "# TODO Implement\n",
    "y_prediction = nn.predict(X_test)\n",
    "#print(y_prediction[0])\n",
    "#print(y_train[0])\n",
    "comparison = np.where(y_prediction==y_test) \n",
    "#print(len(comparison[0][:]))\n",
    "#print(y_train.shape)\n",
    "acc = len(comparison[0][:])/y_test.shape[0]\n",
    "print('Test accuracy: %.2f%%' % (acc * 100))"
   ]
  }
 ],
 "metadata": {
  "kernelspec": {
   "display_name": "Python 3",
   "language": "python",
   "name": "python3"
  },
  "language_info": {
   "codemirror_mode": {
    "name": "ipython",
    "version": 3
   },
   "file_extension": ".py",
   "mimetype": "text/x-python",
   "name": "python",
   "nbconvert_exporter": "python",
   "pygments_lexer": "ipython3",
   "version": "3.6.2"
  }
 },
 "nbformat": 4,
 "nbformat_minor": 2
}
