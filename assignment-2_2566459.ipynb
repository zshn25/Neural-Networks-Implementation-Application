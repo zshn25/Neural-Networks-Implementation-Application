{
 "cells": [
  {
   "cell_type": "markdown",
   "metadata": {},
   "source": [
    "# Exercise Sheet 2: Linear Algebra and TensorFlow Basics (Deadline: 14 Nov 14:00)"
   ]
  },
  {
   "cell_type": "markdown",
   "metadata": {},
   "source": [
    "# Linear Algebra (11 points)\n",
    "For theoretical tasks you are encouraged to write LaTeX. Jupyter notebooks support them simply by typing an expression between dollar signs or in the blocks like \\ begin{equation} \\ end{equation}.\n",
    "\n",
    "\n",
    "Alternatively, you can upload the solutions in the written form as images and paste them inside cells. But if you do this, make sure that the images have high quality, so we can read them without any problems."
   ]
  },
  {
   "cell_type": "markdown",
   "metadata": {},
   "source": [
    "### 1. Orthogonal vectors (1 point)\n",
    "Let $a, b$ be non-zero vectors in $R^n$. Show that $a^T b$ = 0 **if and only if** a and b are orthogonal vectors (i.e. angle between them equals $\\frac{\\pi}{2} + k \\pi$ radians).\n",
    "\n",
    "Hint: be careful to prove 2 directions: \n",
    "1.) $a^T b$ = 0 $\\implies$ orthogonality and 2.) orthogonality $\\implies$ $a^T b$ = 0.\n",
    "\n",
    "\n",
    "### 2. Interpretation of matrix multiplication (2 points)\n",
    "Let \n",
    "$$\n",
    "A=\\begin{bmatrix} 2 & 4 \\\\ 4 & 2 \\\\ 2 & 0 \\end{bmatrix} \\ \\ \\ \\ \n",
    "B=\\begin{bmatrix} 0.6 & -0.8 \\\\ 0.8 & 0.6 \\end{bmatrix}\n",
    "$$\n",
    "a. Are the column vectors of B orthogonal? Orthonormal? Is B a rotation matrix? Justify your answers.(0.5 points)\n",
    "\n",
    "b. Calculate $A \\cdot B$. (0.5 points)\n",
    "\n",
    "c. What is the interpretation of a matrix multiplication, when the column vectors of B are orthonormal (you may want to draw a simple picture visualizing row vectors of A and column vectors of B, but you don't need to submit it)? (1 point)\n",
    "\n",
    "\n",
    "### 3. Property of $X^T X$ matrix (1 point)\n",
    "Let $X \\in R^{m×n}$ be a matrix obtained by stacking all training vectors (also called \"design matrix\"), like in the lecture. Obviously, it can be an arbritrary matrix. However a covariance matrix $C = X^T X$ has some interesting properties, namely it is always a positive semidefinite matrix ($v^T Cv \\geq 0$ for all non-zero $v \\in R^n$). Prove this statement.\n",
    "\n",
    "Hint: $v^T C v$ can be represented as a squared norm of some vector.\n",
    "\n",
    "\n",
    "\n",
    "### 4. Eigendecomposition (4 points)\n",
    "Consider the following matrix:\n",
    "$$\n",
    "M=\\begin{bmatrix}\n",
    "    1 & -1 & 0 \\\\\n",
    "    -1 & 2 & -1 \\\\\n",
    "    0 & -1 & 1\n",
    "  \\end{bmatrix}\n",
    "$$\n",
    "Is the matrix M:\n",
    "\n",
    "a. Symmetric? What does it imply for its eigendecomposition? (0.5 points)\n",
    "\n",
    "b. Singular? What does it imply for its eigendecomposition? (0.5 points)\n",
    "\n",
    "c. Find the eigendecomposition of M (3 points).\n",
    "\n",
    "\n",
    "\n",
    "\n",
    "### 5. Rayleigh-Ritz principle (3 points)\n",
    "On the lecture we saw that the exact solution for decoding matrix D in PCA problem is a matrix that contains the $l$ eigenvectors corresponding to the largest eigenvalues of $X^T X$, where X is a design matrix. But where does it come from?\n",
    "\n",
    "If you want to see full derivation of PCA, you can find it in Deep Learning Book, chapter 2.12. In this exercise we would like to focus only on Raleigh-Ritz principle, which allows to solve optimization problems of type $min_{||v||_2 = 1} v^T C v$ or $max_{||v||_2 = 1} v^T C v$ using eigendecomposition of C.\n",
    "\n",
    "So prove that $min_{||v||_2 = 1} v^T C v = \\lambda_{min}$, where $\\lambda_{min}$ is the smallest eigenvalue of C. For which vector $v$ this minimum is attained? (the proof for $max_{||v||_2 = 1} v^T C v = \\lambda_{max}$ is analogous)."
   ]
  },
  {
   "cell_type": "code",
   "execution_count": 10,
   "metadata": {},
   "outputs": [
    {
     "data": {
      "text/html": [
       "<img src=\"https://github.com/zshn25/Neural-Networks-Implementation-Application/blob/master/assignment1/11_12_17%2018_16%20Office%20Lens%20(1).jpg?raw=true\"/>"
      ],
      "text/plain": [
       "<IPython.core.display.Image object>"
      ]
     },
     "execution_count": 10,
     "metadata": {},
     "output_type": "execute_result"
    }
   ],
   "source": [
    "from IPython.display import Image\n",
    "Image(url='https://github.com/zshn25/Neural-Networks-Implementation-Application/blob/master/assignment1/11_12_17%2018_16%20Office%20Lens%20(1).jpg?raw=true')"
   ]
  },
  {
   "cell_type": "code",
   "execution_count": 11,
   "metadata": {},
   "outputs": [
    {
     "data": {
      "text/html": [
       "<img src=\"https://github.com/zshn25/Neural-Networks-Implementation-Application/blob/master/assignment1/11_12_17%2018_16%20Office%20Lens%20(2).jpg?raw=true\"/>"
      ],
      "text/plain": [
       "<IPython.core.display.Image object>"
      ]
     },
     "execution_count": 11,
     "metadata": {},
     "output_type": "execute_result"
    }
   ],
   "source": [
    "Image(url='https://github.com/zshn25/Neural-Networks-Implementation-Application/blob/master/assignment1/11_12_17%2018_16%20Office%20Lens%20(2).jpg?raw=true')"
   ]
  },
  {
   "cell_type": "code",
   "execution_count": 12,
   "metadata": {},
   "outputs": [
    {
     "data": {
      "text/html": [
       "<img src=\"https://github.com/zshn25/Neural-Networks-Implementation-Application/blob/master/assignment1/11_12_17%2018_16%20Office%20Lens%20(3).jpg?raw=true\"/>"
      ],
      "text/plain": [
       "<IPython.core.display.Image object>"
      ]
     },
     "execution_count": 12,
     "metadata": {},
     "output_type": "execute_result"
    }
   ],
   "source": [
    "Image(url='https://github.com/zshn25/Neural-Networks-Implementation-Application/blob/master/assignment1/11_12_17%2018_16%20Office%20Lens%20(3).jpg?raw=true')"
   ]
  },
  {
   "cell_type": "code",
   "execution_count": 13,
   "metadata": {},
   "outputs": [
    {
     "data": {
      "text/html": [
       "<img src=\"https://github.com/zshn25/Neural-Networks-Implementation-Application/blob/master/assignment1/11_12_17%2018_16%20Office%20Lens%20(4).jpg?raw=true\"/>"
      ],
      "text/plain": [
       "<IPython.core.display.Image object>"
      ]
     },
     "execution_count": 13,
     "metadata": {},
     "output_type": "execute_result"
    }
   ],
   "source": [
    "Image(url='https://github.com/zshn25/Neural-Networks-Implementation-Application/blob/master/assignment1/11_12_17%2018_16%20Office%20Lens%20(4).jpg?raw=true')"
   ]
  },
  {
   "cell_type": "code",
   "execution_count": 14,
   "metadata": {},
   "outputs": [
    {
     "data": {
      "text/html": [
       "<img src=\"https://github.com/zshn25/Neural-Networks-Implementation-Application/blob/master/assignment1/11_12_17%2018_16%20Office%20Lens%20(5).jpg?raw=true\"/>"
      ],
      "text/plain": [
       "<IPython.core.display.Image object>"
      ]
     },
     "execution_count": 14,
     "metadata": {},
     "output_type": "execute_result"
    }
   ],
   "source": [
    "Image(url='https://github.com/zshn25/Neural-Networks-Implementation-Application/blob/master/assignment1/11_12_17%2018_16%20Office%20Lens%20(5).jpg?raw=true')"
   ]
  },
  {
   "cell_type": "markdown",
   "metadata": {},
   "source": [
    "**Points**: 11.0 of 11.0\n",
    "**Comments**:\n",
    "- Please present your solution to exercise 5. in the tutorial."
   ]
  },
  {
   "cell_type": "markdown",
   "metadata": {},
   "source": [
    "# TensorFlow (9 points)\n",
    "\n",
    "### 1. A simple computational graph in Tensorflow (2 + 1 = 3 points)\n",
    "To get started with TensorFlow we ask you to specify a very simple computational graph of the function $f(x) = x^2 + 2x + 5$ and also taking its derivative.\n",
    "If you don't know how to proceed, please study the example given on the lecture and also the official TenorFlow starting guide: https://www.tensorflow.org/get_started/get_started.\n",
    "\n",
    "This exercise requires around 10 lines of code, it is simple enough. However, it is very important to understand the notion of computational graph. \n",
    "\n",
    "Actually, this simple example will be a backbone for all neural networks in the future. All what we will need is to specify first the forward pass (f), and then take derivatives with respect to parameters (x), in order to update them, so they minimize the loss function f. But we will come back to this in several weeks."
   ]
  },
  {
   "cell_type": "code",
   "execution_count": 1,
   "metadata": {},
   "outputs": [
    {
     "name": "stderr",
     "output_type": "stream",
     "text": [
      "/Users/mariusmosbach/miniconda3/envs/nnia/lib/python3.6/site-packages/matplotlib/figure.py:403: UserWarning: matplotlib is currently using a non-GUI backend, so cannot show the figure\n",
      "  \"matplotlib is currently using a non-GUI backend, \"\n"
     ]
    },
    {
     "data": {
      "image/png": "[encoded data removed]",
      "text/plain": [
       "<matplotlib.figure.Figure at 0x1110ce710>"
      ]
     },
     "metadata": {},
     "output_type": "display_data"
    }
   ],
   "source": [
    "%matplotlib inline\n",
    "import tensorflow as tf\n",
    "import matplotlib.pyplot as plt\n",
    "import numpy as np\n",
    "\n",
    "\n",
    "### Define a simple comp. graph (note that all its components are special TensorFlow objects)\n",
    "# Specify an input x to the comp. graph\n",
    "values = np.arange(-10.0,10.0,0.1)\n",
    "_shape = values.shape\n",
    "#x = tf.Variable([.3], dtype=tf.float32)\n",
    "x = tf.Variable(values, tf.float32)\n",
    "\n",
    "# Specify f(x) = x^2 + 2x + 5 \n",
    "f_x = x**2 + 2*x + 5\n",
    "\n",
    "# Take derivative of f with respect to x. That will be very important in the future, since you will only\n",
    "# need to specify forward pass of your neural network, and all derivatives will be determined automatically by \n",
    "# TensorFlow.\n",
    "derivative = tf.gradients(f_x, x)\n",
    "\n",
    "### Execute the comp. graph\n",
    "# Create a TensorFlow session\n",
    "init = tf.global_variables_initializer()\n",
    "sess = tf.Session()\n",
    "sess.run(init)\n",
    "\n",
    "# Evaluate the function value and its derivative for values from -10 to 10 with step 0.1\n",
    "fx = sess.run(f_x, {x: values})\n",
    "der = sess.run(derivative)\n",
    "der = np.array(der).reshape(_shape) # Reshape the der to be same as values\n",
    "    \n",
    "# Plot the function f (use matplotlib library)\n",
    "fig1 = plt.figure(1)\n",
    "plt.plot(values, fx, label='f(x)')\n",
    "plt.legend(loc='best')\n",
    "fig1.show()\n",
    "\n",
    "# Plot the derivative of the function f\n",
    "plt.plot(values, der, label='derivative')\n",
    "plt.legend(loc='best')\n",
    "fig1.show()\n"
   ]
  },
  {
   "cell_type": "markdown",
   "metadata": {},
   "source": [
    "#### Tensorflow Questions:\n",
    "1.) In the exercise above x should be a TF placeholder, but f is a TF tensor. What is the difference between a placeholder and other tensors in computational graph? And how TF Variable differs from tensors? (0.5 point)\n",
    "\n",
    "TF placeholder is used to feed values while the session is running. And doesn't have to be initialized unlike other tensors in computational graph. A placeholder is a promise to provide a value later. TF Variables are constructed with a type and initial value. But, can also be changed/updated when the session is running\n",
    "\n",
    "2.) What does tf.Session().run(...) accept as an argument and what does it return? What is the fundamental difference between these 2 types of objects? (0.5 point)\n",
    "\n",
    "Arguments of tf.Session().run(...) are run(fetches, feed_dict=None, options=None, run_metadata=None) where fetches may be a single graph element, or a nested list of graph elements, where graph elements can be tf.Operation or tf.Tensor or tf.SparseTensor or a string.\n",
    "\n",
    "It returns either a single value if fetches is a single graph element, or a list of values if fetches is a list.\n",
    "\n",
    "The difference is that when input \"fetches\" is a list, output is numpy array or a list of multiple numpy arrays. If fetches is single value, output is a single graph element. If fetches is a dictionary, output is also dictionary.\n",
    "\n"
   ]
  },
  {
   "cell_type": "markdown",
   "metadata": {},
   "source": [
    "**Points**: 3.0 of 3.0\n",
    "**Comments**:\n",
    "- None"
   ]
  },
  {
   "cell_type": "markdown",
   "metadata": {},
   "source": [
    "### 2. A pure Python implementation (1 point)\n",
    "Please do the same, but in pure Python, calculating the expression for the derivative by hand. There is no need to use NumPy library, since we deal with 1-dimensional x (0.5 point). "
   ]
  },
  {
   "cell_type": "code",
   "execution_count": 2,
   "metadata": {},
   "outputs": [
    {
     "name": "stderr",
     "output_type": "stream",
     "text": [
      "/Users/mariusmosbach/miniconda3/envs/nnia/lib/python3.6/site-packages/matplotlib/figure.py:403: UserWarning: matplotlib is currently using a non-GUI backend, so cannot show the figure\n",
      "  \"matplotlib is currently using a non-GUI backend, \"\n"
     ]
    },
    {
     "data": {
      "image/png": "[encoded data removed]",
      "text/plain": [
       "<matplotlib.figure.Figure at 0x1238531d0>"
      ]
     },
     "metadata": {},
     "output_type": "display_data"
    }
   ],
   "source": [
    "import matplotlib.pyplot as plt\n",
    "# Evaluate the function value and its derivative for values from -10 to 10 with step 0.1\n",
    "i = list(range(-100, 101))\n",
    "f = list(range(-100, 101))\n",
    "f_derivative_val = list(range(-100, 101))\n",
    "\n",
    "for bla in i:\n",
    "    x = bla/10\n",
    "    # print(x)\n",
    "    f[bla+100] = x**2 + 2*x + 5\n",
    "    \n",
    "    # Define f_derivative_val\n",
    "    f_derivative_val[bla+100] = 2*x + 2\n",
    "\n",
    "# Plot the function f\n",
    "fig2 = plt.figure(2)\n",
    "plt.plot(i, f, label='f(x)')\n",
    "plt.legend(loc='best')\n",
    "fig2.show()\n",
    "\n",
    "# Plot the derivative of the function f\n",
    "plt.plot(i, f_derivative_val, label='derivative')\n",
    "plt.legend(loc='best')\n",
    "fig2.show()"
   ]
  },
  {
   "cell_type": "markdown",
   "metadata": {},
   "source": [
    "**Points**: 1.0 of 1.0\n",
    "**Comments**:\n",
    "- None"
   ]
  },
  {
   "cell_type": "markdown",
   "metadata": {},
   "source": [
    "### 3. A more complicated computational graph (5 points)\n",
    "Okay, you could easily take the derivative of $f(x) = x^2 + 2x + 5$ by hand. But what if you need to take the derivative of the function $f(x) = \\sigma(-6 \\sigma (x + 5 x^{-2} + 3 x^{-3}) + 2 \\sigma (-x + 4 x^{-2}))$ (where $\\sigma = \\frac{1}{1 + exp(-x)}$) with respect to x?\n",
    "It resembles a neural network much more than the previous example.\n",
    "Please, implement it in TensorFlow (0.5 point) and in pure Python (0.5 point) in the same way as before (but using new cells with the code below). \n",
    "\n",
    "Note that in pure Python implementation you will need to somehow overcome the numerical errors for small values of x (roughly from -0.1 to 0.1). You can just skip these values."
   ]
  },
  {
   "cell_type": "markdown",
   "metadata": {},
   "source": [
    "For pure Python implementation you will need to derive the derivative by hand (3 points). Please write down your derivation for the new $f(x)$ (you are encouraged to write LaTeX for them):\n",
    "\n",
    "Let $a = -6 \\sigma (x + 5 x^{-2} + 3 x^{-3}) + 2 \\sigma (-x + 4 x^{-2})$\n",
    "\n",
    "$\\frac{df}{dx} = \\frac{d \\sigma(a)}{dx} \\times \\frac{da}{dx} $\n",
    "\n",
    "where $\\frac{d \\sigma(x)}{dx}$ is given by\n",
    "\n",
    "$\\frac{d\\sigma(x)}{dx} = \\frac{d}{dx} (1+exp(-x))^{-1} = -(1+exp(-x))^{-2}\\times(-exp(-x)) = \\frac{exp(-x)}{(1+exp(-x))^{2}}$\n",
    "\n",
    "$ \\frac{1+exp(-x)-1}{(1+exp(-x))^{2}} = \\frac{1}{(1+exp(-x))} - \\frac{1}{(1+exp(-x))^{2}} =  \\frac{1}{(1+exp(-x))} \\times (1-\\frac{1}{(1+exp(-x))}) = \\sigma(x) \\times (1-\\sigma(x))$\n",
    "\n",
    "and $ \\frac{da}{dx} = -6 \\sigma (x + 5 x^{-2} + 3 x^{-3}) (1 - \\sigma (x + 5 x^{-2} + 3 x^{-3}))(1 - 10 x^{-1} - 9 x^{-4}) + 2 \\sigma (-x + 4 x^{-2}) (1 - \\sigma (-x + 4 x^{-2})) (-1 - 8 x^{-3}) $\n",
    "\n",
    "$\\frac{df}{dx} => \\sigma(-6 \\sigma (x + 5 x^{-2} + 3 x^{-3}) + 2 \\sigma (-x + 4 x^{-2})) (1 - \\sigma(-6 \\sigma (x + 5 x^{-2} + 3 x^{-3}) + 2 \\sigma (-x + 4 x^{-2}))) \\times [-6 \\sigma (x + 5 x^{-2} + 3 x^{-3}) (1 - \\sigma (x + 5 x^{-2} + 3 x^{-3}))(1 - 10 x^{-1} - 9 x^{-4}) + 2 \\sigma (-x + 4 x^{-2}) (1 - \\sigma (-x + 4 x^{-2})) (-1 - 8 x^{-3})] $\n",
    "\n",
    "Hint 1: you may want to use a new variable to simplify your derivations, for example setting $a = -6 \\sigma (x + 5 x^{-2} + 3 x^{-3}) + 2 \\sigma (-x + 4 x^{-2})$ can help. Don't worry if the final expression is quite ugly, it is supposed to be so.\n",
    "\n",
    "Hint 2: your derived expression for $\\frac{df}{dx}$ should produce exactly the same values (up to the float type precision) as TensorFlow derivative.\n",
    "\n"
   ]
  },
  {
   "cell_type": "code",
   "execution_count": 3,
   "metadata": {},
   "outputs": [
    {
     "name": "stderr",
     "output_type": "stream",
     "text": [
      "/Users/mariusmosbach/miniconda3/envs/nnia/lib/python3.6/site-packages/matplotlib/figure.py:403: UserWarning: matplotlib is currently using a non-GUI backend, so cannot show the figure\n",
      "  \"matplotlib is currently using a non-GUI backend, \"\n"
     ]
    },
    {
     "data": {
      "image/png": "[encoded data removed]",
      "text/plain": [
       "<matplotlib.figure.Figure at 0x123b5aa58>"
      ]
     },
     "metadata": {},
     "output_type": "display_data"
    }
   ],
   "source": [
    "# Please paste the code from your above TensorFlow implementation, \n",
    "# but specify the new f(x) and produce the corresponding plots\n",
    "\n",
    "%matplotlib inline\n",
    "import tensorflow as tf\n",
    "import matplotlib.pyplot as plt\n",
    "import numpy as np\n",
    "\n",
    "\n",
    "### Define a simple comp. graph (note that all its components are special TensorFlow objects)\n",
    "# Specify an input x to the comp. graph\n",
    "values = np.arange(-10.0,10.0,0.1)\n",
    "_shape = values.shape\n",
    "#x = tf.Variable([.3], dtype=tf.float32)\n",
    "x = tf.Variable(values, tf.float32)\n",
    "\n",
    "# Specify f(x)\n",
    "\n",
    "def sigma(x):\n",
    "    sig = 1/(1 + np.exp(-x))\n",
    "    return sig\n",
    "\n",
    "A = ( -6 * tf.sigmoid( x + 5 * x**(-2) + 3 * x**(-3) ) ) + ( 2 * tf.sigmoid( -x + 4 * x**(-2) ) )\n",
    "f_x = tf.sigmoid(A)\n",
    "\n",
    "# Take derivative of f with respect to x. That will be very important in the future, since you will only\n",
    "# need to specify forward pass of your neural network, and all derivatives will be determined automatically by \n",
    "# TensorFlow.\n",
    "derivative = tf.gradients(f_x, x)\n",
    "\n",
    "### Execute the comp. graph\n",
    "# Create a TensorFlow session\n",
    "init = tf.global_variables_initializer()\n",
    "sess = tf.Session()\n",
    "sess.run(init)\n",
    "\n",
    "# Evaluate the function value and its derivative for values from -10 to 10 with step 0.1\n",
    "fx = sess.run(f_x, {x: values})\n",
    "der = sess.run(derivative)\n",
    "der = np.array(der).reshape(_shape) # Reshape the der to be same as values\n",
    "    \n",
    "# Plot the function f (use matplotlib library)\n",
    "fig1 = plt.figure(1)\n",
    "plt.plot(values, fx, label='f(x)')\n",
    "plt.legend(loc='best')\n",
    "fig1.show()\n",
    "\n",
    "# Plot the derivative of the function f\n",
    "plt.plot(values, der, label='derivative')\n",
    "plt.legend(loc='best')\n",
    "fig1.show()\n"
   ]
  },
  {
   "cell_type": "markdown",
   "metadata": {},
   "source": [
    "**Points**: 2.0 of 2.0\n",
    "**Comments**:\n",
    "- None"
   ]
  },
  {
   "cell_type": "code",
   "execution_count": 4,
   "metadata": {},
   "outputs": [
    {
     "name": "stderr",
     "output_type": "stream",
     "text": [
      "/Users/mariusmosbach/miniconda3/envs/nnia/lib/python3.6/site-packages/ipykernel_launcher.py:20: RuntimeWarning: overflow encountered in exp\n",
      "/Users/mariusmosbach/miniconda3/envs/nnia/lib/python3.6/site-packages/matplotlib/figure.py:403: UserWarning: matplotlib is currently using a non-GUI backend, so cannot show the figure\n",
      "  \"matplotlib is currently using a non-GUI backend, \"\n"
     ]
    },
    {
     "data": {
      "image/png": "[encoded data removed]",
      "text/plain": [
       "<matplotlib.figure.Figure at 0x123c6eb38>"
      ]
     },
     "metadata": {},
     "output_type": "display_data"
    }
   ],
   "source": [
    "# Please paste the code from your above pure Python implementation, \n",
    "# but specify the new f(x) and its derivative that you calculated manually and produce the corresponding plots\n",
    "\n",
    "import matplotlib.pyplot as plt\n",
    "# Evaluate the function value and its derivative for values from -10 to 10 with step 0.1\n",
    "i = list(range(-100, 101))\n",
    "f = list(range(-100, 101))\n",
    "f_derivative_val = list(range(-100, 101))\n",
    "\n",
    "def _sigma(x):\n",
    "    sig = 1/(1 + math.exp(-x))\n",
    "    return sig\n",
    "\n",
    "j = 0\n",
    "for bla in i:\n",
    "    x = bla/10\n",
    "    # print(x)\n",
    "    if(bla!=0):\n",
    "        # Define f_derivative_val\n",
    "        A = -6 * sigma(x + 5 * x**(-2) + 3 * x**(-3)) + 2 * sigma(-x + 4 * x**(-2))\n",
    "        f[j] = sigma(A)\n",
    "\n",
    "        f_derivative_val[j] = A * (1 - A) * (-6 * sigma(x + 5 * x**(-2) + 3 * x**(-3)) * (1 - sigma(x + 5 * x**(-2) + 3 * x**(-3))) * (1 - 10 * x**(-3) - 9 * x**(-4)) + 2 * sigma(-x + 4 * x**(-2)) * (1 - sigma(-x + 4 * x**(-2))) * (-1-8*x**(-3)))\n",
    "    j = j+1\n",
    "\n",
    "# Plot the function f\n",
    "fig2 = plt.figure(2)\n",
    "plt.plot(i, f, label='f(x)')\n",
    "plt.legend(loc='best')\n",
    "fig2.show()\n",
    "\n",
    "# Plot the derivative of the function f\n",
    "plt.plot(i, f_derivative_val, label='derivative')\n",
    "plt.legend(loc='best')\n",
    "fig2.show()"
   ]
  },
  {
   "cell_type": "markdown",
   "metadata": {},
   "source": [
    "**Points**: 1.0 of 2.0\n",
    "**Comments**:\n",
    "- Your derivative is not correct."
   ]
  },
  {
   "cell_type": "markdown",
   "metadata": {},
   "source": [
    "#### Questions (1 point)\n",
    "1.) What is the main difference in the program structure between TensorFlow and plain Python? (0.5 point)\n",
    "\n",
    "In plain Python, we need to compute derivative by hand. In TensorFlow, the function takes care of it.\n",
    "\n",
    "2.) Does TensorFlow provide numerical or automatic differentiation? What are advantages of this way of differentiation? (0.5 point)\n",
    "\n",
    "TensorFlow provides the function tf.gradients which takes automatically the gradients. The advantage is that this doesn't require us to compute the derivatives by hand and plug them in manually.\n"
   ]
  },
  {
   "cell_type": "markdown",
   "metadata": {},
   "source": [
    "**Points**: 0.5 of 1.0\n",
    "**Comments**:\n",
    "- Second question was not answered correctly. TensorFlow implements automatic differentiation. You are right that tf.gradients automatically computes the gradient. But the question was how is it doing this? Numerically, symbolic or via auto-diff.?"
   ]
  },
  {
   "cell_type": "markdown",
   "metadata": {},
   "source": [
    "## Grading: 18.5 of 20.0. Well done!"
   ]
  },
  {
   "cell_type": "markdown",
   "metadata": {},
   "source": [
    "## Submission instructions\n",
    "You should provide a single Jupyter notebook as a solution. The naming should include the assignment number and matriculation IDs of all team members in the following format:\n",
    "**assignment-1_matriculation1_matriculation_2_matriculation3.ipynb** (in case of 3 team members). \n",
    "Make sure to keep the order matriculation1_matriculation_2_matriculation3 the same for all assignments.\n",
    "\n",
    "Please, submit your solution to your tutor (with **[NNIA][assignment-2]** in email subject):\n",
    "1. Maksym Andriushchenko s8mmandr@stud.uni-saarland.de\n",
    "2. Marius Mosbach s9msmosb@stud.uni-saarland.de\n",
    "3. Rajarshi Biswas rbisw17@gmail.com\n",
    "4. Marimuthu Kalimuthu s8makali@stud.uni-saarland.de\n",
    "\n",
    "**If you are in a team, please submit only 1 solution to only 1 tutor.**"
   ]
  }
 ],
 "metadata": {
  "kernelspec": {
   "display_name": "Python 3",
   "language": "python",
   "name": "python3"
  },
  "language_info": {
   "codemirror_mode": {
    "name": "ipython",
    "version": 3
   },
   "file_extension": ".py",
   "mimetype": "text/x-python",
   "name": "python",
   "nbconvert_exporter": "python",
   "pygments_lexer": "ipython3",
   "version": "3.6.2"
  }
 },
 "nbformat": 4,
 "nbformat_minor": 2
}
