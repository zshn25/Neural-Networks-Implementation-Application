{
 "cells": [
  {
   "cell_type": "markdown",
   "metadata": {},
   "source": [
    "# Assignment sheet 3: Numerical Computation and Prinicipal Component Analysis (Deadline: Nov 24, 23:59)"
   ]
  },
  {
   "cell_type": "code",
   "execution_count": 1,
   "metadata": {},
   "outputs": [
    {
     "data": {
      "text/html": [
       "<style>.container { width:100% !important; }</style>"
      ],
      "text/plain": [
       "<IPython.core.display.HTML object>"
      ]
     },
     "metadata": {},
     "output_type": "display_data"
    }
   ],
   "source": [
    "# Set notebook to full width\n",
    "from IPython.core.display import display, HTML\n",
    "display(HTML(\"<style>.container { width:100% !important; }</style>\"))"
   ]
  },
  {
   "cell_type": "markdown",
   "metadata": {},
   "source": [
    "### Computational Issues with Softmax $~$ (3 points)"
   ]
  },
  {
   "cell_type": "markdown",
   "metadata": {},
   "source": [
    "In the lecture you were introduced to the softmax function which is used to generate probabilities corresponding to the output labels. Typically, the input to the softmax function is a vector of numerical values over the labels and the output is a vector(of same dimension as the input vector) of corresponding probabilities.\n",
    "**Softmax function is given by,** $~$\n",
    "$$Softmax(x)_i = \\frac{exp(x_i)}{\\sum_{j=1}^n exp(x_j)}$$\n",
    "\n",
    "**Numerical issues might occur when computing softmax functions on a computer which can perform computations\n",
    "only upto a certain precision.** [Suggested reading $-$ [chapter 4.1 of DeepLearningBook](http://www.deeplearningbook.org/contents/numerical.html)]"
   ]
  },
  {
   "cell_type": "markdown",
   "metadata": {},
   "source": [
    "$1$. Name these numerical issues and explain them. ($1$ points)\n",
    "\n",
    "$\\frac{\\infty}{\\infty}$ occurs when the input to softmax $x_i \\xrightarrow{}\\infty $ and $x_i \\xrightarrow{} -\\infty $ i.e. when the absolute value of any input are very large. Even if each of them is not large but the sum is large due to huge size of data, then divide by zero error occurs"
   ]
  },
  {
   "cell_type": "markdown",
   "metadata": {},
   "source": [
    "$2$. Suggest a remedy (with explanation on why it works) to overcome these numerical issues occuring with Softmax computation. Prove that this remedy actually does not change the softmax criteria. Describe a situation where the proposed remedy still fails to remove instability. ($1$ point)\n",
    "\n",
    "$ x_i - max(x_i) $ brings the maximum to zero. So, this removes the problem when the large element of $x_i$ causes $ exp(x_i) \\xrightarrow{} \\infty $\n",
    "$ Softmax(x)_i = \\frac{exp(x_i - max(x_i))}{\\sum_{j=1}^n exp(x_j - max(x_i))} $\n",
    "$\\implies \\frac{\\frac{exp(x_i)}{exp(max(x_i))}}{\\frac{\\sum_{j=1}^n exp(x_j)}{exp(max(x_i))}} \\implies \\frac{exp(x_i)}{\\sum_{j=1}^n exp(x_j)} $\n",
    "\n",
    "This fails when we have very large negative values too. Then, when we take it's difference with a very large maximum value, then $ min(x_i) - max(x_i) $ blows up again. But atleast we may prevent Overflow. \n"
   ]
  },
  {
   "cell_type": "markdown",
   "metadata": {},
   "source": [
    "$3$. First write a naive Softmax implementation, in numpy, that can produce numerical instability. Then write a modified Softmax implementation which is numerically stable.  ($0.5 + 0.5 = 1$ points)"
   ]
  },
  {
   "cell_type": "code",
   "execution_count": 2,
   "metadata": {},
   "outputs": [
    {
     "name": "stdout",
     "output_type": "stream",
     "text": [
      "9.71445146547e-17\n"
     ]
    }
   ],
   "source": [
    "import numpy as np\n",
    "\n",
    "# TODO : Define inputs\n",
    "\n",
    "def softmax_naive(inputs):\n",
    "    \"\"\"Unstable Softmax function\"\"\"\n",
    "    inputs_exp = np.exp(inputs)\n",
    "    return inputs_exp / np.sum(inputs_exp)\n",
    "\n",
    "def softmax_modified(inputs):\n",
    "    \"\"\"Stable Softmax function\"\"\"\n",
    "    \n",
    "    inputs_exp = np.exp(inputs - np.max(inputs))\n",
    "    return inputs_exp / np.sum(inputs_exp)\n",
    "\n",
    "x = np.random.rand(10);\n",
    "y1 = softmax_naive(x)\n",
    "y2 = softmax_modified(x)\n",
    "print(np.sum(y1-y2))\n",
    "# print(y2)"
   ]
  },
  {
   "cell_type": "markdown",
   "metadata": {},
   "source": [
    "### Principal Component Analysis $~$ (7 points)"
   ]
  },
  {
   "cell_type": "markdown",
   "metadata": {},
   "source": [
    "$4$. Is PCA supervised or unsupervised, logically explain your answer. Which is the tunable parameter in PCA?\n",
    "Briefly explain the role of this parameter in PCA.  ($1+0.5+0.5 = 2$ points)\n",
    "\n",
    "PCA is unsupervised. Because the data is not labelled. PCA is just for reducing the dimensions and for lossy data compression. It shows the structure of data in lower dimensions\n",
    "The k number of dimensions to be returned as an output after compression is tunable. For example we can choose $ k \\in [1, n] $ as n then we have the same output as input. If we have k as 1 then we get the eigenvector belonging to largest eigenvlaue as output."
   ]
  },
  {
   "cell_type": "markdown",
   "metadata": {},
   "source": [
    "$5$. Consider the following data:\n",
    "\n",
    "setA: ${\\bf x}^{(1)}$=$(2, 4)^T$, ${\\bf x}^{(2)}$=$(2, 2)^T$, ${\\bf x}^{(3)}$=$(3, 1)^T$, ${\\bf x}^{(4)}$=$(5, 1)^T$ \n",
    "\n",
    "setB: ${\\bf x}^{(1)}$=$(-1, 1)^T$, ${\\bf x}^{(2)}$=$(-2, 2)^T$, ${\\bf x}^{(3)}$=$(-1, 3)^T$, ${\\bf x}^{(4)}$=$(-1, 4)^T$\n",
    "\n",
    "$(a)$ Compress the above sets of vectors into a one-dimensional set using PCA, i.e., derive the encoder function $f(x)=D^{T}x$ as defined in the lecture. Then apply f to the datasets inorder to compress them. ($1.5 + 1.5$ points)\n",
    "\n"
   ]
  },
  {
   "cell_type": "markdown",
   "metadata": {},
   "source": [
    "$(b)$. For both the above sets sketch the corresponding datasets in a separate figure. \n",
    "Also include the reconstructed vectors into the corresponding figures. ($2$ points)"
   ]
  },
  {
   "cell_type": "code",
   "execution_count": 7,
   "metadata": {},
   "outputs": [
    {
     "name": "stdout",
     "output_type": "stream",
     "text": [
      "[[ 0.70710677]\n",
      " [-0.70710677]]\n",
      "[[-1.41421354]\n",
      " [ 0.        ]\n",
      " [ 1.41421354]\n",
      " [ 2.82842708]]\n"
     ]
    },
    {
     "data": {
      "image/png": "[encoded data removed]",
      "text/plain": [
       "<matplotlib.figure.Figure at 0x7f83d69ce0f0>"
      ]
     },
     "metadata": {},
     "output_type": "display_data"
    },
    {
     "name": "stdout",
     "output_type": "stream",
     "text": [
      "[[ 1.46117603]\n",
      " [ 0.58313234]\n",
      " [-0.52548814]\n",
      " [-1.51882023]]\n"
     ]
    },
    {
     "data": {
      "image/png": "[encoded data removed]",
      "text/plain": [
       "<matplotlib.figure.Figure at 0x7f83d695a6d8>"
      ]
     },
     "metadata": {},
     "output_type": "display_data"
    }
   ],
   "source": [
    "import matplotlib.pyplot as plt\n",
    "\n",
    "A = np.array([[2, 4], [2, 2], [3, 1], [5, 1]], np.float32)\n",
    "B = np.array([[-1, 1], [-2, 2], [-1, 3], [-1, 4]], np.float32)\n",
    "nA = A.shape[0]\n",
    "nB = B.shape[0]\n",
    "\n",
    "def pca(array, dim):\n",
    "    # Mapping of d dimensional array to lesser dimensions\n",
    "    \n",
    "    n = array.shape[0]\n",
    "    d = array.shape[1]\n",
    "    mean = sum(array)/n\n",
    "    array = array - mean # Subtract mean\n",
    "    cov = np.matmul(array.T, array) # cov(X) = X'X\n",
    "    \n",
    "    # Compute the eigenvalues and eigenvectors of covariance matrix\n",
    "    eigVal, eigVec = np.linalg.eig(cov)\n",
    "    \n",
    "    # Indices of sorted eigenvalues\n",
    "    eigValSortInd = np.argsort(eigVal)\n",
    "    \n",
    "    # Reduction matrix D\n",
    "    D = np.ndarray([d, dim]);\n",
    "    \n",
    "    # Return the k eigenvectors corresponding to largest eigenvalues\n",
    "    for i in range(dim):\n",
    "        D[0:d, i] = eigVec[0:d, eigValSortInd[d-(i+1)]]\n",
    "\n",
    "    return D;\n",
    "\n",
    "DA = pca(A,1)\n",
    "print(DA)\n",
    "reduced = np.matmul(A, DA)\n",
    "print(reduced)\n",
    "recovered = np.matmul(reduced, DA.T)\n",
    "\n",
    "A = A - sum(A)/A.shape[0]\n",
    "B = B - sum(B)/B.shape[0]\n",
    "\n",
    "plt.figure(1)\n",
    "plt.plot(A[0:nA,0], A[0:nA,1], 'go', label = 'A (Normalized)')\n",
    "plt.plot(recovered[0:nA,0], recovered[0:nA,1], 'o-', label = 'A (Recovered)')\n",
    "plt.legend(loc='best')\n",
    "plt.show()\n",
    "\n",
    "DB = pca(B,1)\n",
    "reduced = np.matmul(B, DB)\n",
    "print(reduced)\n",
    "recovered = np.matmul(reduced, DB.T)\n",
    "\n",
    "plt.figure(2)\n",
    "plt.plot(B[0:nB,0], B[0:nB,1], 'go', label = 'B (Normalized)')\n",
    "plt.plot(recovered[0:nB,0], recovered[0:nB,1], 'o-', label = 'B (Recovered)')\n",
    "plt.legend(loc='best')\n",
    "plt.show()"
   ]
  },
  {
   "cell_type": "markdown",
   "metadata": {},
   "source": [
    "### Gradient descent and Newton's method $~$ (5 points)"
   ]
  },
  {
   "cell_type": "markdown",
   "metadata": {},
   "source": [
    "**Suppose $f(x) = 2x^3 - 5x + 6$ **\n",
    "\n",
    "$6$. Write down the mathematical expressions for minimizing f(x) using Gradient descent(GD) and then using Newton's Method(NM). ($1$ points)\n",
    "\n",
    "Gradient descent:\n",
    "$ x_{k+1} = x_k - \\epsilon \\nabla {f(x)}_k $ where $ \\nabla f(x) $ is the gradient of f with respect to x and $ \\epsilon $ is the learning rate\n",
    "\n",
    "Newton's Method:\n",
    "$ x_{k+1} = x_k - H_{f(x_k)}^{-1} \\nabla {f(x)}_k $ where $ H_{f(x)} $ is the Hessian matrix"
   ]
  },
  {
   "cell_type": "markdown",
   "metadata": {},
   "source": [
    "$7$. Report the updated values of x, both for GD and NM, at $x = 0$. what do you observe? ($1$ points)\n",
    "\n",
    "Gradient Descent:\n",
    "$ x_1 = x_0 - \\epsilon \\nabla {f(x)}_0 \\implies x_1 = 0 - \\epsilon (6x^2 - 5) \\implies x_1 = 5 \\epsilon $\n",
    "\n",
    "Newton's Method:\n",
    "$ x_{1} = x_0 - H_{f(x_0)}^{-1} \\nabla {f(x)}_0 \\implies x_1 = 0 - (12x)^{-1} (6x^2 - 5) \\xrightarrow{x=0} x_1 = \\frac{0}{0} Error! $"
   ]
  },
  {
   "cell_type": "markdown",
   "metadata": {},
   "source": [
    "$8$. Perform GD and NM for the above function using Tensorflow. ($1.5 + 1.5$ points)"
   ]
  },
  {
   "cell_type": "code",
   "execution_count": 13,
   "metadata": {},
   "outputs": [
    {
     "name": "stderr",
     "output_type": "stream",
     "text": [
      "/home/zee/miniconda3/envs/nnia/lib/python3.6/site-packages/matplotlib/figure.py:418: UserWarning: matplotlib is currently using a non-GUI backend, so cannot show the figure\n",
      "  \"matplotlib is currently using a non-GUI backend, \"\n"
     ]
    },
    {
     "data": {
      "image/png": "[encoded data removed]",
      "text/plain": [
       "<matplotlib.figure.Figure at 0x7f83d68bdf28>"
      ]
     },
     "metadata": {},
     "output_type": "display_data"
    }
   ],
   "source": [
    "%matplotlib inline\n",
    "import numpy as np\n",
    "import tensorflow as tf\n",
    "import matplotlib.pyplot as plt\n",
    "\n",
    "# TODO : Implement Gradient Descent with Tensorflow\n",
    "\n",
    "# Gradient Descent Parameters\n",
    "epsilon = 0.005\n",
    "x0 =  np.random.rand(1) # Random initialization\n",
    "step = 0\n",
    "\n",
    "# Specify an input x to the comp. graph\n",
    "values = np.arange(-10.0,10.0,0.1)\n",
    "_shape = values.shape\n",
    "x = tf.Variable(values, tf.float32)\n",
    "\n",
    "def f(x):\n",
    "    return 2*x**3 - 5*x + 6\n",
    "\n",
    "\n",
    "# Take derivative of f with respect to x\n",
    "gradient = tf.gradients(f(x), x)\n",
    "### Execute the comp. graph\n",
    "# Create a TensorFlow session\n",
    "init = tf.global_variables_initializer()\n",
    "sess = tf.Session()\n",
    "sess.run(init)\n",
    "\n",
    "# Evaluate the function value and its derivative for values from -10 to 10 with step 0.1\n",
    "fx = sess.run(f(x), {x: values})\n",
    "der = sess.run(gradient)\n",
    "der = np.array(der).reshape(_shape) # Reshape the der to be same as values\n",
    "\n",
    "#while(1):\n",
    "#    f = f(x0)\n",
    "#    x1 = x0 - epsilon * \n",
    "    \n",
    "# Plot the function f (use matplotlib library)\n",
    "fig1 = plt.figure(1)\n",
    "plt.plot(values, fx, label='f(x)')\n",
    "plt.legend(loc='best')\n",
    "fig1.show()\n",
    "\n",
    "# Plot the derivative of the function f\n",
    "plt.plot(values, der, label='derivative')\n",
    "plt.legend(loc='best')\n",
    "fig1.show()"
   ]
  },
  {
   "cell_type": "code",
   "execution_count": 15,
   "metadata": {
    "collapsed": true
   },
   "outputs": [],
   "source": [
    "import numpy as np\n",
    "import tensorflow as tf\n",
    "\n",
    "# TODO : Implement Newton's Method with Tensorflow"
   ]
  },
  {
   "cell_type": "markdown",
   "metadata": {},
   "source": [
    "### Gradient descent computation and visualisation $~$ (3 + 2 points)"
   ]
  },
  {
   "cell_type": "markdown",
   "metadata": {},
   "source": [
    "#### Now visualize the Gradient Descent algorithm to fit a straight line to data generated using  $y = \\theta_{true}x$ $~$, i.e., use this expression to first produce the data (see code below the lines starting with m=20 and following) and then try to fit a straight line to this data. Fitting a straight line means that you have to approximate this $\\theta_{true}$ parameter using the hypothesis or predictive model by minimizing the cost function defined below.\n",
    "\n",
    "**For this task you should minimize a cost function of the form:**\n",
    "$$\\frac{1}{2m}\\sum_{i=1}^m [h_{\\theta}(x^i)-y^i]^2$$\n",
    "where\n",
    "- $x^i$ is the $i^{th}$ input \n",
    "\n",
    "- $y^i$ is the true $i^{th}$ response or output\n",
    "\n",
    "- $h_{\\theta}(x)$ is the hypothesis or predictive model"
   ]
  },
  {
   "cell_type": "markdown",
   "metadata": {},
   "source": [
    "#### Assume $~$ $h_{\\theta}(x) = \\theta x$ $~$ to be the hypothesis or predictive model"
   ]
  },
  {
   "cell_type": "code",
   "execution_count": 16,
   "metadata": {
    "collapsed": true
   },
   "outputs": [],
   "source": [
    "# Import libraries\n",
    "import numpy as np\n",
    "import matplotlib.pyplot as plt\n",
    "\n",
    "# Generate the true data which is to be fitted\n",
    "m = 20                      # number of data points for x\n",
    "theta_true = 0.5            # corresponds to the true slope\n",
    "x = np.linspace(-1,1,m)     # x values or inputs\n",
    "y = theta_true * x          # True response\n",
    "\n",
    "\n",
    "# Create a subplot window\n",
    "# On the left window plot the true data and the approximation \n",
    "# that you obtain with different estimates of the slope theta_true\n",
    "# and on the right window plot the cost function \n",
    "\n",
    "# TODO : Create the subplot window\n",
    "\n",
    "def hypothesis(x, theta):\n",
    "    \"\"\"Our \"hypothesis or predictive model\", a straight line through the origin.\"\"\"\n",
    "    \n",
    "    # TODO : Implement\n",
    "    pass\n",
    "\n",
    "def cost_func(theta):\n",
    "    \"\"\"The cost function describing the goodness of fit.\"\"\"  \n",
    "    \n",
    "    # TODO : Implement\n",
    "    pass\n",
    "\n",
    "\n",
    "# First construct a grid of theta parameter and their corresponding\n",
    "# cost function values.\n",
    "theta_grid = np.linspace(-0.2,1,50)\n",
    "# Find the cost function values to be stored in J_grid\n",
    "# TODO : Create J_grid\n",
    "\n",
    "\n",
    "# Plot the cost function as a function of theta.\n",
    "# TODO : Do the plot\n",
    "\n",
    "\n",
    "# Take N steps with learning rate alpha down the steepest gradient,\n",
    "# starting at theta = 0.\n",
    "N = 10\n",
    "alpha = 1 \n",
    "# this is just a starting value of alpha, \n",
    "# you must consider different values of alpha (try using large values)\n",
    "# and redo the steps below to generate different plots\n",
    "theta = [0]\n",
    "\n",
    "\n",
    "# TODO :Compute the N steps down the steepest gradient\n",
    "\n",
    "# TODO : Annotate the cost function plot with coloured points indicating the\n",
    "# parameters chosen and red arrows indicating the steps down the gradient.\n",
    "# Also plot the fit function on the left window of the subplot in a matching colour.\n",
    "\n",
    "# TODO : Put the labels, titles and a legend."
   ]
  },
  {
   "cell_type": "markdown",
   "metadata": {},
   "source": [
    "#### Now assume that the data is generated using  $y = \\theta_1x + \\theta_0$\n",
    "** Following the same logic you applied for the above task define a predictive model \n",
    "and perform 5 steps of gradient descent with learning rate alpha = 0.7 **"
   ]
  },
  {
   "cell_type": "code",
   "execution_count": 17,
   "metadata": {
    "collapsed": true
   },
   "outputs": [],
   "source": [
    "# Generate the true data which is to be fitted\n",
    "m = 20\n",
    "theta0_true = 2\n",
    "theta1_true = 0.5\n",
    "x = np.linspace(-1,1,m)\n",
    "y = theta0_true + theta1_true * x\n",
    "\n",
    "# Create the sub-plot: left window is the data, right window will be the cost function.\n",
    "# TODO\n",
    "\n",
    "\n",
    "def hypothesis(x, theta0, theta1):\n",
    "    \"\"\"Our \"hypothesis function\", a straight line.\"\"\"\n",
    "    \n",
    "    # TODO : Implement\n",
    "    pass\n",
    "\n",
    "def cost_func(theta0, theta1):\n",
    "    \"\"\"The cost function, J(theta0, theta1) describing the goodness of fit.\"\"\"\n",
    "    \n",
    "    # TODO : Implement\n",
    "    pass\n",
    "\n",
    "\n",
    "# First construct a grid of (theta0, theta1) parameter pairs and their\n",
    "# corresponding cost function values.\n",
    "theta0_grid = np.linspace(-1,4,101)\n",
    "theta1_grid = np.linspace(-5,5,101)\n",
    "\n",
    "# TODO : Compute the cost function values\n",
    "\n",
    "\n",
    "# TODO : Do a labeled contour plot for the cost function on right window of the above subplot\n",
    "\n",
    "\n",
    "# TODO : Take 5 steps with learning rate alpha = 0.7 down the steepest gradient,\n",
    "# starting at (theta0, theta1) = (0, 0).\n",
    "\n",
    "\n",
    "# TODO : Annotate the cost function plot with coloured points indicating the\n",
    "# parameters chosen and red arrows indicating the steps down the gradient.\n",
    "# Also plot the fit function on the left window in a matching colour.\n",
    "\n",
    "\n",
    "# TODO : Add the labels, titles and a legend to the plot."
   ]
  },
  {
   "cell_type": "markdown",
   "metadata": {},
   "source": [
    "### Linear Algebra Bonus\n",
    "- [Additional material - Linear Algebra Basics](http://www.cs.ubc.ca/~schmidtm/Documents/2009_Notes_LinearAlgebra.pdf)"
   ]
  },
  {
   "cell_type": "markdown",
   "metadata": {},
   "source": [
    "#### Trace of a Matrix $~$ (3 points)\n",
    "- [Reading material on Trace](https://en.wikipedia.org/wiki/Trace_(linear_algebra)"
   ]
  },
  {
   "cell_type": "markdown",
   "metadata": {},
   "source": [
    "Prove that the trace of a ***symmetric positive definite*** matrix is the sum of its eigenvalues.    ($0.5$ points)\n",
    "\n",
    "$ tr(A) = \\sum_{i=1}^n a_{ii} $  A positive definite matrix has positive diagonal entries and thus trace is positive. $ \\implies a_{ii}>0 \\; \\forall i\\in [1,n] $\n",
    "\n",
    "The eigen-decomposition of $ A = V\\Lambda V^T$ where V is orthonormal $\\implies V^{-1} = V^T $ and $ ||v_i||_2^2 = 1 $\n",
    "\n",
    "$\\implies A = \\begin{bmatrix}\n",
    "\\Sigma_{i=1}^{n}\\lambda_i v_{1i}^2 &\\Sigma_{i=1}^{n}\\lambda_i v_{1i} v_{2i} &\\cdots &\\Sigma_{i=1}^{n}\\lambda_i v_{1i} v_{ni} \\\\\n",
    "\\Sigma_{i=1}^{n}\\lambda_i v_{2i} v_{1i} &\\Sigma_{i=1}^{n}\\lambda_i v_{2i}^2 &\\cdots &\\Sigma_{i=1}^{n}\\lambda_i v_{2i} v_{ni} \\\\\n",
    "\\vdots & \\vdots & \\ddots & \\vdots\\\\\n",
    "\\Sigma_{i=1}^{n}\\lambda_i v_{ni} v_{1i} &\\Sigma_{i=1}^{n}\\lambda_i v_{ni} v_{2i} &\\cdots &\\Sigma_{i=1}^{n}\\lambda_i v_{ni}^2\n",
    "\\end{bmatrix}$ and $tr(A) = \\Sigma_{j=1}^{n}(\\lambda_j \\Sigma_{i=1}^nv_{ij}^2) \\implies \\Sigma_{j=1}^n \\lambda_j||v_j||_2^2 \\implies $ $\\Sigma_{j=1}^n \\lambda_j\\ $\n",
    "\n",
    "Suppose $\\mathbf{Y}$ is a $n \\times m$ matrix with $m \\leq n$ and has ***full rank***, then\n",
    "\n",
    "$(a)$.   Give the rank of $\\mathbf{Y}$.                                                                 ($0.5$ points)\n",
    "\n",
    "Since $\\mathbf{Y}$ has full rank, the rank should be $m$"
   ]
  },
  {
   "cell_type": "markdown",
   "metadata": {},
   "source": [
    "$(b)$.  Show that trace of $\\mathbf{Y}(\\mathbf{Y}^T\\mathbf{Y})^{-1}\\mathbf{Y}^{T}$ = rank($\\mathbf{Y}$)                                     ($1$ points)\n",
    "\n",
    "Using the property of trace, $tr(AB) = tr(BA) \\implies tr(\\mathbf{Y}[(\\mathbf{Y}^T\\mathbf{Y})^{-1}\\mathbf{Y}^{T}]) \\implies tr((\\mathbf{Y}^T\\mathbf{Y})^{-1}[\\mathbf{Y}^{T}\\mathbf{Y}]) \\implies tr(\\mathbf{I}_{mxm}) \\implies m $ which is the rank of $\\mathbf{Y}$"
   ]
  },
  {
   "cell_type": "markdown",
   "metadata": {},
   "source": [
    "$(c)$. Prove that $\\mathbf{Y}(\\mathbf{Y}^T\\mathbf{Y})^{-1}\\mathbf{Y}^{T}$ is the projection matrix w.r.t space defined by $\\mathbf{Y}$.     ($1$ points)\n",
    "\n",
    "$ (\\mathbf{Y}(\\mathbf{Y}^T\\mathbf{Y})^{-1}\\mathbf{Y}^{T}) (\\mathbf{Y}(\\mathbf{Y}^T\\mathbf{Y})^{-1}\\mathbf{Y}^{T}) \\implies \\mathbf{Y}(\\mathbf{Y}^T\\mathbf{Y})^{-1}[\\mathbf{Y}^{T}\\mathbf{Y}](\\mathbf{Y}^T\\mathbf{Y})^{-1}\\mathbf{Y}^{T} \\implies \\mathbf{Y}(\\mathbf{Y}^T\\mathbf{Y})^{-1}\\underbrace{\\mathbf{Y}^{T}\\mathbf{Y}(\\mathbf{Y}^T\\mathbf{Y})^{-1}}_\\text{I}\\mathbf{Y}^{T} \\implies \\mathbf{Y}(\\mathbf{Y}^T\\mathbf{Y})^{-1}\\mathbf{Y}^{T} $\n",
    "\n",
    "Thus, it is a projection matrix w.r.t space defined by $\\mathbf{Y}$"
   ]
  },
  {
   "cell_type": "markdown",
   "metadata": {},
   "source": [
    "#### Jacobian $~$ (3 points)\n",
    "\n",
    "***[Reading material on Jacobian](https://en.wikipedia.org/wiki/Jacobian_matrix_and_determinant)***"
   ]
  },
  {
   "cell_type": "markdown",
   "metadata": {},
   "source": [
    "Show that the Jacobian determinant of $\\frac{\\partial(fg, h)}{\\partial(u, v)}$ is equal to $\\frac{\\partial(f, h)}{\\partial(u, v)}g + f\\frac{\\partial(g, h)}{\\partial(u, v)}$,\n",
    "\n",
    "where $f$,$g$, and $h$ are functions of $u$ and $v$ (i.e., $f(u,v)$, $g(u,v)$, and $h(u,v)$)   ($3$ points)\n",
    "\n",
    "Hint: Use the property $\\frac{\\partial(y, x)}{\\partial(u, v)} = \\frac{\\partial(y)}{\\partial(u)}\\frac{\\partial(x)}{\\partial(v)}-\\frac{\\partial(y)}{\\partial(v)}\\frac{\\partial(x)}{\\partial(u)}$\n",
    "\n",
    "$\\frac{\\partial(fg, h)}{\\partial(u, v)} = \\frac{\\partial(fg)}{\\partial(u)}\\frac{\\partial(h)}{\\partial(v)}-\\frac{\\partial(fg)}{\\partial(v)}\\frac{\\partial(h)}{\\partial(u)} \\implies (f\\frac{\\partial(g)}{\\partial(u)} + g\\frac{\\partial(f)}{\\partial(u)})\\frac{\\partial(h)}{\\partial(v)} - (f\\frac{\\partial(g)}{\\partial(v)} + g\\frac{\\partial(f)}{\\partial(v)})\\frac{\\partial(h)}{\\partial(u)} \\implies g(\\frac{\\partial(f)}{\\partial(u)}\\frac{\\partial(h)}{\\partial(v)} + \\frac{\\partial(f)}{\\partial(v)}\\frac{\\partial(h)}{\\partial(u)}) - f(\\frac{\\partial(g)}{\\partial(u)}\\frac{\\partial(h)}{\\partial(v)} + \\frac{\\partial(g)}{\\partial(v)}\\frac{\\partial(h)}{\\partial(u)}) \\implies g\\frac{\\partial(f, h)}{\\partial(u, v)} + f\\frac{\\partial(g, h)}{\\partial(u, v)} $"
   ]
  },
  {
   "cell_type": "markdown",
   "metadata": {},
   "source": [
    "#### Hessian $~$ (2 points)\n",
    "***[Reading material on Hessian](https://en.wikipedia.org/wiki/Hessian_matrix)***"
   ]
  },
  {
   "cell_type": "markdown",
   "metadata": {},
   "source": [
    "Let $\\mathbf{M}=\\left[\\begin{array}{cccc}\n",
    "   5 & 1 & 0 & 1\\\\\n",
    "   1 & 4 & 1 & 0\\\\\n",
    "   0 & 1 & 3 & 1\\\\\n",
    "   1 & 0 & 1 & 2\\\\\n",
    "  \\end{array}\\right]$\n",
    "  \n",
    "denote the Hessian matrix at particular point for a particular function.\n",
    "\n",
    "$(a)$. What properties of the functional can you infer from the above information.(give mathematical reasons) ($1$ point)\n",
    "\n",
    "$\\mathbf{M}$ is positive semi-definite since it is\n",
    "\n",
    "strictly diagonally dominant i.e. $m_{ii} \\geq \\Sigma_{i=1, i\\neq j}^n m_{ij} $, \n",
    "\n",
    "symmetric $\\mathbf{M} = \\mathbf{M}^T$, \n",
    "\n",
    "positive diagonals $m_{ii} > 0$\n",
    "\n",
    "Thus, it is convex at the particular point."
   ]
  },
  {
   "cell_type": "markdown",
   "metadata": {},
   "source": [
    "$(b)$. Provide a generic mathematical representation (e.g. the generic representation of a straight line is $ax+by+c=0$) for the above function. ($1$ point)"
   ]
  }
 ],
 "metadata": {
  "kernelspec": {
   "display_name": "Python 3",
   "language": "python",
   "name": "python3"
  },
  "language_info": {
   "codemirror_mode": {
    "name": "ipython",
    "version": 3
   },
   "file_extension": ".py",
   "mimetype": "text/x-python",
   "name": "python",
   "nbconvert_exporter": "python",
   "pygments_lexer": "ipython3",
   "version": "3.6.2"
  }
 },
 "nbformat": 4,
 "nbformat_minor": 2
}
