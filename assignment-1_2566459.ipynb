{
 "cells": [
  {
   "cell_type": "markdown",
   "metadata": {},
   "source": [
    "# Assignment Sheet 1:  Hands-on Linear Regression (deadline: 31 Oct, 14:00)"
   ]
  },
  {
   "cell_type": "markdown",
   "metadata": {},
   "source": [
    "## Introduction"
   ]
  },
  {
   "cell_type": "markdown",
   "metadata": {},
   "source": [
    "The goal of this first exercise sheet is to make you familiar with **jupyter notebook** which we will use to run part of the exercises in this class."
   ]
  },
  {
   "cell_type": "markdown",
   "metadata": {},
   "source": [
    "In order to do so you have to implement a very naive algorithm to solve a **linear regression** problem: **Grid Search**."
   ]
  },
  {
   "cell_type": "markdown",
   "metadata": {
    "collapsed": true
   },
   "source": [
    "## Linear Regression"
   ]
  },
  {
   "cell_type": "markdown",
   "metadata": {},
   "source": [
    "Linear regression is one of the simplest and also most widely used machine learning algorithms. It is used to model the relationship between a dependent variable $y$ and one or more independent (also called explanatory) variables $x$. Here, we will focus on the case where we just have a single indepenedent variable, so-called **simple linear regression**."
   ]
  },
  {
   "cell_type": "markdown",
   "metadata": {},
   "source": [
    "Given some inputs $x = \\{x_0, \\dots, x_n\\}$ and corresponding outputs $y = \\{y_0, \\dots, y_n\\}$. Linear regression assumes that there exists an (unknown!) linear relationship between the input and the output, i.e."
   ]
  },
  {
   "cell_type": "markdown",
   "metadata": {},
   "source": [
    "$$y = f(x) = \\beta_0 + \\beta_1x + \\epsilon$$"
   ]
  },
  {
   "cell_type": "markdown",
   "metadata": {},
   "source": [
    "where $\\epsilon$ is an unobserved noise variable. This relationship is approximated as"
   ]
  },
  {
   "cell_type": "markdown",
   "metadata": {},
   "source": [
    "$$\\hat{y} = \\hat{f}(x; w_0, w_1) = w_0 + w_1x$$."
   ]
  },
  {
   "cell_type": "markdown",
   "metadata": {},
   "source": [
    "Hence, the goal of linear regression is to estimate the unknown parameters $w_0$ and $w_1$ such that the error between the model prediction $\\hat{y}$ and the true output $y$ is minimized. Formaly, let the ith **residual** be"
   ]
  },
  {
   "cell_type": "markdown",
   "metadata": {},
   "source": [
    "$$r_i = y_i - \\hat{f}(x_i; w_0, w_1)$$"
   ]
  },
  {
   "cell_type": "markdown",
   "metadata": {},
   "source": [
    "i.e. the difference between the ith output and the ith prediction and let"
   ]
  },
  {
   "cell_type": "markdown",
   "metadata": {},
   "source": [
    "$$S = \\sum\\limits_{i=1}^n r_i^2$$"
   ]
  },
  {
   "cell_type": "markdown",
   "metadata": {},
   "source": [
    "be the sum of squared residuals. Then one tries to find the paramaters $w_0$ and $w_1$ that minimize"
   ]
  },
  {
   "cell_type": "markdown",
   "metadata": {},
   "source": [
    "$$MSE = \\frac{1}{n}~S$$"
   ]
  },
  {
   "cell_type": "markdown",
   "metadata": {},
   "source": [
    "the so called **mean squared error**."
   ]
  },
  {
   "cell_type": "markdown",
   "metadata": {},
   "source": [
    "### 1. Exercise: Fitting a Linear Regression Model"
   ]
  },
  {
   "cell_type": "markdown",
   "metadata": {},
   "source": [
    "In this exercise you will implement several functions which will help you to fit a simple linear regression model on training data using grid search."
   ]
  },
  {
   "cell_type": "markdown",
   "metadata": {},
   "source": [
    "**Before you start:**\n",
    "- Make sure that you use numpy arrays instead of python lists.\n",
    "- You can assume that all vectors are column vectors not row vectors.\n",
    "- Hint: Try to vectorize as much of your computations as possible."
   ]
  },
  {
   "cell_type": "markdown",
   "metadata": {},
   "source": [
    "#### Task 1: Implement a loss function which measures the average squared difference between the true data and the model prediction, i.e the mean squared error (MSE)."
   ]
  },
  {
   "cell_type": "markdown",
   "metadata": {},
   "source": [
    "**Points: 1.0**"
   ]
  },
  {
   "cell_type": "code",
   "execution_count": 1,
   "metadata": {
    "collapsed": true
   },
   "outputs": [],
   "source": [
    "# We will make use of numpy to vectorize most of the computations\n",
    "import numpy as np"
   ]
  },
  {
   "cell_type": "code",
   "execution_count": 2,
   "metadata": {
    "collapsed": true
   },
   "outputs": [],
   "source": [
    "def loss(y, prediction):\n",
    "    \"\"\"\n",
    "    :param y: The true outputs\n",
    "    :param prediction: The predictions of your model\n",
    "    :return: The MSE between the model predictions and the true outputs\n",
    "    \"\"\"\n",
    "    # TODO: implement\n",
    "    return np.sum(np.square(prediction - y)) / len(y)"
   ]
  },
  {
   "cell_type": "markdown",
   "metadata": {},
   "source": [
    "**Points**: 1.0 of 1.0\n",
    "**Comments**:\n",
    "- You should remove the pass statement. Please check the [python documentation](https://docs.python.org/3/reference/simple_stmts.html#pass) for when using it."
   ]
  },
  {
   "cell_type": "markdown",
   "metadata": {},
   "source": [
    "#### Task 2: Implement a function which describes a linear relationship between the input and output."
   ]
  },
  {
   "cell_type": "markdown",
   "metadata": {},
   "source": [
    "**Points: 0.5**"
   ]
  },
  {
   "cell_type": "code",
   "execution_count": 3,
   "metadata": {
    "collapsed": true
   },
   "outputs": [],
   "source": [
    "def linear_model(intercept, slope, x):\n",
    "    \"\"\"\n",
    "    :param intercept: The model intercept\n",
    "    :param slope: The model slope\n",
    "    :return: The model prediction on x\n",
    "    \"\"\"\n",
    "    # TODO: implement\n",
    "    return (x * slope) + intercept"
   ]
  },
  {
   "cell_type": "markdown",
   "metadata": {},
   "source": [
    "**Points**: 0.5 of 0.5\n",
    "**Comments**:\n",
    "- You should remove the pass statement. Please check the [python documentation](https://docs.python.org/3/reference/simple_stmts.html#pass) for when using it."
   ]
  },
  {
   "cell_type": "markdown",
   "metadata": {},
   "source": [
    "#### Task 3: Given different values for the slope and the intercept of your model. Implement a function which returns those that result in the best fit, i.e. minimizes the difference between the true data and the model prediction."
   ]
  },
  {
   "cell_type": "markdown",
   "metadata": {},
   "source": [
    "**Points: 4.0**"
   ]
  },
  {
   "cell_type": "code",
   "execution_count": 4,
   "metadata": {
    "collapsed": true
   },
   "outputs": [],
   "source": [
    "def grid_search(intercepts, slopes, x, y):\n",
    "    \"\"\"\n",
    "    :param intercepts: A numpy array of different intercepts\n",
    "    :param slopes: A numpy array of different slopes\n",
    "    :param x: The inputs\n",
    "    :param y: The true outputs\n",
    "    :return (intercept, slope): The intercept and slope that result in the best fit\n",
    "    \"\"\"\n",
    "    # TODO: implement\n",
    "    err = np.zeros((intercepts.size, slopes.size))\n",
    "    for i in range(len(slopes)):\n",
    "        for j in range(len(intercepts)):\n",
    "            prediction = linear_model(intercepts[j], slopes[i], x)\n",
    "            \n",
    "            err[i][j] = loss(y, prediction)\n",
    "            \n",
    "    index = np.unravel_index(np.argmin(err), err.shape)\n",
    "    \n",
    "    return (intercepts[index[1]], slopes[index[0]])"
   ]
  },
  {
   "cell_type": "code",
   "execution_count": 5,
   "metadata": {},
   "outputs": [
    {
     "ename": "SyntaxError",
     "evalue": "invalid syntax (<ipython-input-5-00fd629e6399>, line 1)",
     "output_type": "error",
     "traceback": [
      "\u001b[0;36m  File \u001b[0;32m\"<ipython-input-5-00fd629e6399>\"\u001b[0;36m, line \u001b[0;32m1\u001b[0m\n\u001b[0;31m    **Points**: 4.0 of 4.0\u001b[0m\n\u001b[0m     ^\u001b[0m\n\u001b[0;31mSyntaxError\u001b[0m\u001b[0;31m:\u001b[0m invalid syntax\n"
     ]
    }
   ],
   "source": [
    "**Points**: 4.0 of 4.0\n",
    "**Comments**:\n",
    "- You should remove the pass statement. Please check the [python documentation](https://docs.python.org/3/reference/simple_stmts.html#pass) for when using it."
   ]
  },
  {
   "cell_type": "markdown",
   "metadata": {},
   "source": [
    "#### Task 4: Fit a linear model over some training data and plot the resulting model using matplotlib."
   ]
  },
  {
   "cell_type": "markdown",
   "metadata": {},
   "source": [
    "**Points: 1.5**"
   ]
  },
  {
   "cell_type": "code",
   "execution_count": 6,
   "metadata": {
    "collapsed": true
   },
   "outputs": [],
   "source": [
    "# We will use the datasets functionality provided by sklearn to generate some training data\n",
    "from sklearn.datasets import make_regression, make_classification\n",
    "\n",
    "# Let's create some training data to fit our model on\n",
    "x_train, y_train = make_regression(n_samples=50, n_features=1, n_informative=1, noise=30.0)\n",
    "y_train = y_train[:, None] #  make y a column vector"
   ]
  },
  {
   "cell_type": "code",
   "execution_count": 7,
   "metadata": {
    "collapsed": true
   },
   "outputs": [],
   "source": [
    "# This is the test data on which we want to evaluate our fitted model\n",
    "x_test = np.linspace(start=-4, stop=4, num=20)\n",
    "x_test = x_test[:, None] #  make x_test a column vector"
   ]
  },
  {
   "cell_type": "code",
   "execution_count": 8,
   "metadata": {
    "collapsed": true
   },
   "outputs": [],
   "source": [
    "# These are the different values for the intercept and slope on which we want to perform a gridsearch\n",
    "intercepts = np.linspace(start=-10.0, stop=10.0, num=50)\n",
    "intercepts = intercepts[:, None] #  make intercepts a column vector\n",
    "slopes = np.linspace(start=0.0, stop=100.0, num=50)\n",
    "slopes = slopes[:, None] #  make slopes a column vector"
   ]
  },
  {
   "cell_type": "markdown",
   "metadata": {},
   "source": [
    "**Write code to fit a linear model on $x_{train}$.**"
   ]
  },
  {
   "cell_type": "code",
   "execution_count": 9,
   "metadata": {
    "collapsed": true
   },
   "outputs": [],
   "source": [
    "# TODO: fit a linear model on x_train\n",
    "parameters = grid_search(intercepts, slopes, x_train, y_train)"
   ]
  },
  {
   "cell_type": "markdown",
   "metadata": {},
   "source": [
    "**Points**: 1.0 of 1.0\n",
    "**Comments**:\n",
    "- None"
   ]
  },
  {
   "cell_type": "markdown",
   "metadata": {},
   "source": [
    "**Complete the code below to plot the training data together with the fitted linear model.**"
   ]
  },
  {
   "cell_type": "code",
   "execution_count": 11,
   "metadata": {},
   "outputs": [
    {
     "data": {
      "image/png": "[encoded data removed]",
      "text/plain": [
       "<matplotlib.figure.Figure at 0x7feb0034c668>"
      ]
     },
     "metadata": {},
     "output_type": "display_data"
    }
   ],
   "source": [
    "%matplotlib inline\n",
    "import matplotlib.pyplot as plt\n",
    "\n",
    "# Create a matplotlib figure for the training data and our fitted linear regression model\n",
    "fig, axes = plt.subplots(1, 1)\n",
    "axes.scatter(x_train, y_train, color='blue', marker='.', alpha=.6, s=2e2, label='Training Data')\n",
    "axes.plot(x_test, linear_model(parameters[0], parameters[1], x_test), color='red', ls='-', label='Linear Model')\n",
    "axes.legend(loc='upper left');"
   ]
  },
  {
   "cell_type": "markdown",
   "metadata": {},
   "source": [
    "**Points**: 0.0 of 0.5\n",
    "**Comments**:\n",
    "- You should plot the regression line using $x_{test}$ and not $x_{train}$."
   ]
  },
  {
   "cell_type": "markdown",
   "metadata": {},
   "source": [
    "#### Task 5: Run the code above several times. Each time the generated data will be different. How would you interpret the result? Is the obtained fit good enough? What are disadvantages of the grid search approach and what could be other (better) ways of fitting a linear model?"
   ]
  },
  {
   "cell_type": "markdown",
   "metadata": {},
   "source": [
    "**Points: 3.0**"
   ]
  },
  {
   "cell_type": "markdown",
   "metadata": {},
   "source": [
    "- The result sufficiently fits the data with decent results.\n",
    "- Grid search can be very slow if the data is large. As we go through each point and try to minimize the error\n",
    "- Better methods such as gradient descent, Newton's method, SVD fit the model in better way.\n",
    "\n",
    "\n"
   ]
  },
  {
   "cell_type": "markdown",
   "metadata": {},
   "source": [
    "**Points**: 2.5 of 3.0\n",
    "**Comments**:\n",
    "- Regarding your 1st point: What does this say about our assumption that the data follows a linear relationship?\n",
    "- Regarding your 2nd point: Is it really the size of the training data that matters? Or is it the size of the parameter space in which we search for the best solution?"
   ]
  },
  {
   "cell_type": "markdown",
   "metadata": {},
   "source": [
    "## Grading: 9.0 of 10.0 points."
   ]
  },
  {
   "cell_type": "markdown",
   "metadata": {},
   "source": [
    "## Submission instructions\n",
    "You should provide a single Jupyter notebook as a solution. The naming should include the assignment number and matriculation IDs of all team members in the following format:\n",
    "**assignment-1_matriculation1_matriculation_2_matriculation3.ipynb** (in case of 3 team members). \n",
    "Make sure to keep the order matriculation1_matriculation_2_matriculation3 the same for all assignments.\n",
    "\n",
    "Please, submit your solution to your tutor (with **[NNIA][assignment-1]** in email subject):\n",
    "1. Maksym Andriushchenko s8mmandr@stud.uni-saarland.de\n",
    "2. Marius Mosbach s9msmosb@stud.uni-saarland.de\n",
    "3. Rajarshi Biswas rbisw17@gmail.com\n",
    "\n",
    "**If you are in a team, please submit only 1 solution to only 1 tutor.**"
   ]
  },
  {
   "cell_type": "code",
   "execution_count": null,
   "metadata": {
    "collapsed": true
   },
   "outputs": [],
   "source": []
  }
 ],
 "metadata": {
  "kernelspec": {
   "display_name": "Python 3",
   "language": "python",
   "name": "python3"
  },
  "language_info": {
   "codemirror_mode": {
    "name": "ipython",
    "version": 3
   },
   "file_extension": ".py",
   "mimetype": "text/x-python",
   "name": "python",
   "nbconvert_exporter": "python",
   "pygments_lexer": "ipython3",
   "version": "3.6.2"
  }
 },
 "nbformat": 4,
 "nbformat_minor": 2
}
