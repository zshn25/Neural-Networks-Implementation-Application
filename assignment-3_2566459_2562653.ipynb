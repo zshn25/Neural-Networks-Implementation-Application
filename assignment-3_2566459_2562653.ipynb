{
 "cells": [
  {
   "cell_type": "markdown",
   "metadata": {},
   "source": [
    "# Assignment sheet 3: Numerical Computation and Prinicipal Component Analysis (Deadline: Nov 24, 23:59)"
   ]
  },
  {
   "cell_type": "code",
   "execution_count": 1,
   "metadata": {},
   "outputs": [
    {
     "data": {
      "text/html": [
       "<style>.container { width:100% !important; }</style>"
      ],
      "text/plain": [
       "<IPython.core.display.HTML object>"
      ]
     },
     "metadata": {},
     "output_type": "display_data"
    }
   ],
   "source": [
    "# Set notebook to full width\n",
    "from IPython.core.display import display, HTML\n",
    "display(HTML(\"<style>.container { width:100% !important; }</style>\"))"
   ]
  },
  {
   "cell_type": "markdown",
   "metadata": {},
   "source": [
    "### Computational Issues with Softmax $~$ (3 points)"
   ]
  },
  {
   "cell_type": "markdown",
   "metadata": {},
   "source": [
    "In the lecture you were introduced to the softmax function which is used to generate probabilities corresponding to the output labels. Typically, the input to the softmax function is a vector of numerical values over the labels and the output is a vector(of same dimension as the input vector) of corresponding probabilities.\n",
    "**Softmax function is given by,** $~$\n",
    "$$Softmax(x)_i = \\frac{exp(x_i)}{\\sum_{j=1}^n exp(x_j)}$$\n",
    "\n",
    "**Numerical issues might occur when computing softmax functions on a computer which can perform computations\n",
    "only upto a certain precision.** [Suggested reading $-$ [chapter 4.1 of DeepLearningBook](http://www.deeplearningbook.org/contents/numerical.html)]"
   ]
  },
  {
   "cell_type": "markdown",
   "metadata": {},
   "source": [
    "$1$. Name these numerical issues and explain them. ($1$ points)\n",
    "\n",
    "#### Answer\n",
    "\n",
    "The softmax function might underflow, when the denominator becomes close to 0. E.g. when all the inputs are very negative (division by zero because exp(x) is rounded to 0). It might also overflow, when the inputs are very large and positive.\n"
   ]
  },
  {
   "cell_type": "markdown",
   "metadata": {},
   "source": [
    "$2$. Suggest a remedy (with explanation on why it works) to overcome these numerical issues occuring with Softmax computation. Prove that this remedy actually does not change the softmax criteria. Describe a situation where the proposed remedy still fails to remove instability. ($1$ point)\n",
    "\n",
    "#### Answer\n",
    "\n",
    "The idea is to substract the same value $\\lambda$ of all inputs $x_i (i \\in N)$:\n",
    "\n",
    "$$Softmax(x)_i = \\frac{exp(x_i - \\lambda)}{\\sum_{j=1}^n exp(x_j - \\lambda)} = \\frac{\\frac{exp(x_i)}{exp(\\lambda)}}{\\sum_{j=1}^n\\frac{exp(x_j)}{exp(\\lambda)}} = \\frac{\\frac{1}{exp(\\lambda)}exp(x_i)}{\\frac{1}{exp(\\lambda)}\\sum_{j=1}^n exp(x_j)} = \\frac{exp(x_i)}{\\sum_{j=1}^n exp(x_j)}$$\n",
    "\n",
    "We can see that this does not change the output of the Softmax function. We now need to choose a value for $\\lambda$. The proposed solution is to set $\\lambda = \\max_j x_j$. The advantage of this is that the maximum element in the vector $\\textbf{x}$ becomes 0. Hence, the numerator becomes $exp(0) = 1$ for this case and the denominator $\\sum_{j=1}^n exp(x_j) > 1$ because there is at least one $exp(0) = 1$. This way, we can prevent an overflow. Additionally, the denominator becoming $\\sum_{j=1}^n exp(x_j) > 1$ also prevents an underflow of the denominator.\n",
    "\n",
    "However, when the difference between the smallest element of $\\textbf{x}$ and the largest element is large, then underflow can still happen when evaluation the numerator of the Softmax function. Then the Softmax function becomes 0 and if someone calculates the log probablity of it, it would again lead to an underflow."
   ]
  },
  {
   "cell_type": "markdown",
   "metadata": {},
   "source": [
    "$3$. First write a naive Softmax implementation, in numpy, that can produce numerical instability. Then write a modified Softmax implementation which is numerically stable.  ($0.5 + 0.5 = 1$ points)"
   ]
  },
  {
   "cell_type": "code",
   "execution_count": 2,
   "metadata": {
    "collapsed": true
   },
   "outputs": [],
   "source": [
    "import numpy as np\n",
    "\n",
    "# TODO : Define inputs\n",
    "\n",
    "def softmax_naive(inputs):\n",
    "    \"\"\"Unstable Softmax function\"\"\"\n",
    "    return np.exp(inputs)/np.sum(np.exp(inputs))\n",
    "\n",
    "def softmax_modified(inputs):\n",
    "    \"\"\"Stable Softmax function\"\"\"\n",
    "    return np.exp(inputs - np.max(inputs))/np.sum(np.exp(inputs - np.max(inputs)))\n"
   ]
  },
  {
   "cell_type": "markdown",
   "metadata": {},
   "source": [
    "**Points**: 3.0 of 3.0\n",
    "**Comments**:\n",
    "- Please present your solution at the blackboard. Thanks!"
   ]
  },
  {
   "cell_type": "markdown",
   "metadata": {},
   "source": [
    "### Principal Component Analysis $~$ (7 points)"
   ]
  },
  {
   "cell_type": "markdown",
   "metadata": {},
   "source": [
    "$4$. Is PCA supervised or unsupervised, logically explain your answer. Which is the tunable parameter in PCA?\n",
    "Briefly explain the role of this parameter in PCA.  ($1+0.5+0.5 = 2$ points)\n",
    "\n",
    "#### Answer\n",
    "\n",
    "PCA is an unsupervised learning algorithm because no labeled data is provided. Supervised learning algorithms require labeled data (usually provided by humans). Unsupervised learning algorithms (such as clustering or PCA) on the other hand, try to find patterns and regularities within the data without direct supervision by a human.\n",
    "\n",
    "The tunable parameter in PCA is the dimension of the decoding matrix $D$. $D$ contains the eigenvectors of the correlation matrix $X^T X$, starting with eigenvector of the largest eigenvalue in magnitude in descending order. Thus, if one wants to compress their data to some dimension $n$, one needs the first $n$ eigenvectors of the $n$ largest eigenvalues in magnitude. Using all the eigenvectors results in the input data and hence no compression."
   ]
  },
  {
   "cell_type": "markdown",
   "metadata": {},
   "source": [
    "$5$. Consider the following data:\n",
    "\n",
    "setA: ${\\bf x}^{(1)}$=$(2, 4)^T$, ${\\bf x}^{(2)}$=$(2, 2)^T$, ${\\bf x}^{(3)}$=$(3, 1)^T$, ${\\bf x}^{(4)}$=$(5, 1)^T$ \n",
    "\n",
    "setB: ${\\bf x}^{(1)}$=$(-1, 1)^T$, ${\\bf x}^{(2)}$=$(-2, 2)^T$, ${\\bf x}^{(3)}$=$(-1, 3)^T$, ${\\bf x}^{(4)}$=$(-1, 4)^T$\n",
    "\n",
    "$(a)$ Compress the above sets of vectors into a one-dimensional set using PCA, i.e., derive the encoder function $f(x)=D^{T}x$ as defined in the lecture. Then apply f to the datasets inorder to compress them. ($1.5 + 1.5$ points)\n",
    "\n",
    "#### Answer\n",
    "\n",
    "setA:\n",
    "\n",
    "$X = \\begin{pmatrix}2 & 4\\\\2 & 2\\\\3 & 1\\\\5 & 1\\end{pmatrix}$\n",
    "\n",
    "Mean substraction:\n",
    "\n",
    "$X_m = X - \\overline{X} = \\begin{pmatrix}2 & 4\\\\2 & 2\\\\3 & 1\\\\5 & 1\\end{pmatrix} - \\begin{pmatrix}3 & 2\\\\3 & 2\\\\3 & 2\\\\3 & 2\\end{pmatrix} = \\begin{pmatrix}-1 & 2\\\\-1 & 0\\\\0 & -1\\\\2 & -1\\end{pmatrix}$\n",
    "\n",
    "Correlation matrix of the mean subtracted $X_m$:\n",
    "\n",
    "$X_m^T X_m = \\begin{pmatrix}6 & -4\\\\-4 & 6\\end{pmatrix}$\n",
    "\n",
    "Eigenvalues of correlation matrix:\n",
    "\n",
    "$\\det\\left|\\lambda I - \\begin{pmatrix}6 & -4\\\\-4 & 6\\end{pmatrix}\\right| = 0 \\Leftrightarrow \\lambda_1 = 10, \\lambda_2 = 2$\n",
    "\n",
    "Since, we want to compress the data to 1-D, we only need the eigenvector correspoding to the largest eigenvalue:\n",
    "\n",
    "$X_m^T X_m \\textbf{v} = \\lambda \\textbf{v} \\Leftrightarrow \\textbf{v} = \\begin{pmatrix}-1\\\\1\\end{pmatrix}$\n",
    "\n",
    "Thus we have $D = \\begin{pmatrix}-1\\\\1\\end{pmatrix}$\n",
    "\n",
    "We have the following result of the mean-normalized data after encoding with $f(x) = D^T x$:\n",
    "$$\\begin{pmatrix}-1 & 1\\end{pmatrix} X_m^T = \\begin{pmatrix}3&1&-1&-3\\end{pmatrix}$$\n",
    "\n",
    "\n",
    "setB:\n",
    "\n",
    "$X = \\begin{pmatrix}-1 & 1\\\\-2 & 2\\\\-1 & 3\\\\-1 & 4\\end{pmatrix}$\n",
    "\n",
    "Mean substraction:\n",
    "\n",
    "$X_m = X - \\overline{X} = \\begin{pmatrix}-1 & 1\\\\-2 & 2\\\\-1 & 3\\\\-1 & 4\\end{pmatrix} - \\begin{pmatrix}-1.25 & 2.5\\\\-1.25 & 2.5\\\\-1.25 & 2.5\\\\-1.25 & 2.5\\end{pmatrix} = \\begin{pmatrix}0.25 & -1.5\\\\-0.75 & -0.5\\\\0.25 & 0.5\\\\0.25 & 1.5\\end{pmatrix}$\n",
    "\n",
    "Correlation matrix of the mean subtracted $X_m$:\n",
    "\n",
    "$X_m^T X_m = \\begin{pmatrix}0.75 & 0.5\\\\0.5 & 5\\end{pmatrix}$\n",
    "\n",
    "Eigenvalues of correlation matrix:\n",
    "\n",
    "$\\det\\left|\\lambda I - \\begin{pmatrix}0.75 & 0.5\\\\0.5 & 5\\end{pmatrix}\\right| = 0 \\Leftrightarrow \\lambda_1 \\approx 5.06, \\lambda_2 \\approx 0.69$\n",
    "\n",
    "Since, we want to compress the data to 1-D, we only need the eigenvector correspoding to the largest eigenvalue:\n",
    "\n",
    "$X_m^T X_m \\textbf{v} = \\lambda \\textbf{v} \\Leftrightarrow \\textbf{v} \\approx \\begin{pmatrix}0.12\\\\0.99\\end{pmatrix}$\n",
    "\n",
    "Thus we have $D \\approx \\begin{pmatrix}0.12\\\\0.99\\end{pmatrix}$\n",
    "\n",
    "We have the following result of the mean-normalized data after encoding with $f(x) = D^T x$:\n",
    "$$\\begin{pmatrix}0.12 & 0.99\\end{pmatrix} X_m^T \\approx \\begin{pmatrix}-1.46 & -0.58 & 0.53 & 1.52\\end{pmatrix}$$"
   ]
  },
  {
   "cell_type": "markdown",
   "metadata": {},
   "source": [
    "$(b)$. For both the above sets sketch the corresponding datasets in a separate figure. \n",
    "Also include the reconstructed vectors into the corresponding figures. ($2$ points)\n",
    "\n",
    "#### Answer\n",
    "\n",
    "setA:\n",
    "\n",
    "Reconstructed data: $DD^T X_m^T = \\begin{pmatrix}-1\\\\1\\end{pmatrix}\\begin{pmatrix}3&1&-1&-3\\end{pmatrix} = \\begin{pmatrix}-3&-1&1&3\\\\3&1&-1&-3\\end{pmatrix}$\n",
    "\n",
    "setB:\n",
    "\n",
    "Reconstructed data: $DD^T X_m^T = \\begin{pmatrix}0.12\\\\0.99\\end{pmatrix}\\begin{pmatrix}-1.46 & -0.58 & 0.53 & 1.52\\end{pmatrix} = \\begin{pmatrix}-0.17 & -0.07 & 0.06 & 0.18 \\\\ -1.45 & -0.58 & 0.52 & 1.51\\end{pmatrix}$"
   ]
  },
  {
   "cell_type": "code",
   "execution_count": 3,
   "metadata": {},
   "outputs": [
    {
     "data": {
      "image/png": "[encoded data removed]",
      "text/plain": [
       "<matplotlib.figure.Figure at 0x7fb225cbe080>"
      ]
     },
     "metadata": {},
     "output_type": "display_data"
    },
    {
     "data": {
      "image/png": "[encoded data removed]",
      "text/plain": [
       "<matplotlib.figure.Figure at 0x7fb21c100cc0>"
      ]
     },
     "metadata": {},
     "output_type": "display_data"
    }
   ],
   "source": [
    "import numpy as np\n",
    "import matplotlib.pyplot as plt\n",
    "\n",
    "setA = np.matrix([[-1, 2],[-1, 0],[0, -1],[2, -1]])\n",
    "setB = np.matrix([[0.25, -1.5],[-0.75,-0.5],[0.25, 0.5],[0.25, 1.5]])\n",
    "\n",
    "D_A = np.matrix([-1,1]).T\n",
    "D_B = np.matrix([0.12,0.99]).T\n",
    "\n",
    "setARe = D_A * D_A.T * setA.T\n",
    "setBRe = D_B * D_B.T * setB.T\n",
    "\n",
    "plt.plot(np.array(setA[:,0]),np.array(setA[:,1]),'-*')\n",
    "plt.plot(np.array(setARe.T[:,0]),np.array(setARe.T[:,1]),'-*')\n",
    "plt.legend(['Mean shifted A', 'Reconstructed A'])\n",
    "plt.show()\n",
    "plt.plot(np.array(setB[:,0]),np.array(setB[:,1]),'-*')\n",
    "plt.plot(np.array(setBRe.T[:,0]),np.array(setBRe.T[:,1]),'-*')\n",
    "plt.legend(['Mean shifted B', 'Reconstructed B'])\n",
    "plt.show()"
   ]
  },
  {
   "cell_type": "markdown",
   "metadata": {},
   "source": [
    "**Points**: 6.0 of 7.0\n",
    "**Comments**:\n",
    "- Your reconstruction of set A is not correct. "
   ]
  },
  {
   "cell_type": "markdown",
   "metadata": {},
   "source": [
    "### Gradient descent and Newton's method $~$ (5 points)"
   ]
  },
  {
   "cell_type": "markdown",
   "metadata": {},
   "source": [
    "**Suppose $f(x) = 2x^3 - 5x + 6$ **\n",
    "\n",
    "$6$. Write down the mathematical expressions for minimizing f(x) using Gradient descent(GD) and then using Newton's Method(NM). ($1$ points)\n",
    "\n",
    "#### Answer\n",
    "\n",
    "Gradient descent:\n",
    "\n",
    "$x_{i+1} = x_i - \\epsilon \\frac{\\partial f(x)}{\\partial x} = x_i - \\epsilon (6x^2 - 5)$\n",
    "\n",
    "Newton's Method:\n",
    "\n",
    "$x = x^{(0)} - \\frac{f'(x^{(0)})}{f''(x^{(0)})} = x^{(0)} - \\frac{6(x^{(0)})^2 - 5}{12 x^{(0)}}$"
   ]
  },
  {
   "cell_type": "markdown",
   "metadata": {},
   "source": [
    "$7$. Report the updated values of x, both for GD and NM, at $x = 0$. what do you observe? ($1$ points)\n",
    "\n",
    "Gradient descent:\n",
    "\n",
    "$x_{i+1} = 0 - \\epsilon (0 - 5) = 5 \\epsilon$\n",
    "\n",
    "Newton's Method:\n",
    "\n",
    "$x = 0 - \\frac{-5}{0} = \\frac{5}{0} = \\infty$\n",
    "\n",
    "With Newton's Method, we run into an error because we devide by zero."
   ]
  },
  {
   "cell_type": "markdown",
   "metadata": {},
   "source": [
    "**Points**: 2.0 of 2.0\n",
    "**Comments**:\n",
    "- None"
   ]
  },
  {
   "cell_type": "markdown",
   "metadata": {},
   "source": [
    "$8$. Perform GD and NM for the above function using Tensorflow. ($1.5 + 1.5$ points)"
   ]
  },
  {
   "cell_type": "code",
   "execution_count": 4,
   "metadata": {},
   "outputs": [
    {
     "name": "stdout",
     "output_type": "stream",
     "text": [
      "step 1 x: [ 1.04999995] function: [ 3.06524968]\n",
      "step 2 x: [ 0.96925002] function: [ 2.97486544]\n",
      "step 3 x: [ 0.93741632] function: [ 2.96042657]\n",
      "step 4 x: [ 0.92379153] function: [ 2.9577527]\n",
      "step 5 x: [ 0.91777426] function: [ 2.95722866]\n",
      "step 6 x: [ 0.91508138] function: [ 2.95712352]\n",
      "step 7 x: [ 0.9138692] function: [ 2.9571023]\n",
      "step 8 x: [ 0.91332215] function: [ 2.95709801]\n",
      "step 9 x: [ 0.91307497] function: [ 2.95709705]\n",
      "step 10 x: [ 0.91296321] function: [ 2.95709705]\n",
      "step 11 x: [ 0.91291267] function: [ 2.95709705]\n",
      "step 12 x: [ 0.91288978] function: [ 2.95709705]\n",
      "step 13 x: [ 0.91287947] function: [ 2.95709705]\n",
      "step 14 x: [ 0.91287482] function: [ 2.95709705]\n",
      "step 15 x: [ 0.91287267] function: [ 2.95709682]\n",
      "step 16 x: [ 0.91287172] function: [ 2.95709682]\n",
      "step 17 x: [ 0.9128713] function: [ 2.95709705]\n",
      "step 18 x: [ 0.91287106] function: [ 2.95709682]\n",
      "step 19 x: [ 0.912871] function: [ 2.95709705]\n",
      "step 20 x: [ 0.91287094] function: [ 2.95709658]\n"
     ]
    }
   ],
   "source": [
    "import numpy as np\n",
    "import tensorflow as tf\n",
    "\n",
    "x = tf.Variable([2], dtype=tf.float32)\n",
    "model = 2 * x**3 - 5 * x + 6\n",
    "\n",
    "num_itr = 20\n",
    "\n",
    "eps = 0.05\n",
    "optimizer = tf.train.GradientDescentOptimizer(eps)\n",
    "\n",
    "train = optimizer.minimize(model)\n",
    "\n",
    "init = tf.global_variables_initializer()\n",
    "sess = tf.Session()\n",
    "\n",
    "sess.run(init)\n",
    "sess.run(model)\n",
    "for i in range(num_itr):  \n",
    "    sess.run(train)\n",
    "    print(\"step\", i+1, \"x:\", sess.run(x), \"function:\", sess.run(model))\n"
   ]
  },
  {
   "cell_type": "code",
   "execution_count": 5,
   "metadata": {},
   "outputs": [
    {
     "name": "stdout",
     "output_type": "stream",
     "text": [
      "step: 0 x:  [ 2.]  f(x):  [ 12.]\n",
      "step: 1 x:  [ 1.20833325]  f(x):  [ 3.48683453]\n",
      "step: 2 x:  [ 0.94899416]  f(x):  [ 2.9643383]\n",
      "step: 3 x:  [ 0.91355842]  f(x):  [ 2.95709968]\n",
      "step: 4 x:  [ 0.91287118]  f(x):  [ 2.95709705]\n",
      "step: 5 x:  [ 0.91287094]  f(x):  [ 2.95709658]\n",
      "step: 6 x:  [ 0.91287094]  f(x):  [ 2.95709658]\n",
      "step: 7 x:  [ 0.91287094]  f(x):  [ 2.95709658]\n",
      "step: 8 x:  [ 0.91287094]  f(x):  [ 2.95709658]\n",
      "step: 9 x:  [ 0.91287094]  f(x):  [ 2.95709658]\n",
      "step: 10 x:  [ 0.91287094]  f(x):  [ 2.95709658]\n",
      "step: 11 x:  [ 0.91287094]  f(x):  [ 2.95709658]\n",
      "step: 12 x:  [ 0.91287094]  f(x):  [ 2.95709658]\n",
      "step: 13 x:  [ 0.91287094]  f(x):  [ 2.95709658]\n",
      "step: 14 x:  [ 0.91287094]  f(x):  [ 2.95709658]\n",
      "step: 15 x:  [ 0.91287094]  f(x):  [ 2.95709658]\n",
      "step: 16 x:  [ 0.91287094]  f(x):  [ 2.95709658]\n",
      "step: 17 x:  [ 0.91287094]  f(x):  [ 2.95709658]\n",
      "step: 18 x:  [ 0.91287094]  f(x):  [ 2.95709658]\n",
      "step: 19 x:  [ 0.91287094]  f(x):  [ 2.95709658]\n"
     ]
    }
   ],
   "source": [
    "import numpy as np\n",
    "import tensorflow as tf\n",
    "\n",
    "num_itr = 20\n",
    "\n",
    "x = tf.Variable([2], dtype=tf.float32)\n",
    "model = 2 * x**3 - 5 * x + 6\n",
    "\n",
    "x_grad = tf.gradients(model, x)\n",
    "x_hess = tf.gradients(x_grad, x)\n",
    "\n",
    "newton = x - tf.div(x_grad, x_hess)\n",
    "\n",
    "init = tf.global_variables_initializer()\n",
    "sess = tf.Session()\n",
    "\n",
    "sess.run(init)\n",
    "\n",
    "for step in range(0, num_itr):\n",
    "    print (\"step:\",step, \"x: \", sess.run(x), \" f(x): \", sess.run(model))\n",
    "    sess.run(tf.assign(x,sess.run(newton[0])))"
   ]
  },
  {
   "cell_type": "markdown",
   "metadata": {},
   "source": [
    "**Points**: 2.0 of 3.0\n",
    "**Comments**:\n",
    "- You should implement the gradient descent update rule by hand instead of using a predefined optimizer."
   ]
  },
  {
   "cell_type": "markdown",
   "metadata": {},
   "source": [
    "### Gradient descent computation and visualisation $~$ (3 + 2 points)"
   ]
  },
  {
   "cell_type": "markdown",
   "metadata": {},
   "source": [
    "#### Now visualize the Gradient Descent algorithm to fit a straight line to data generated using  $y = \\theta_{true}x$ $~$, i.e., use this expression to first produce the data (see code below the lines starting with m=20 and following) and then try to fit a straight line to this data. Fitting a straight line means that you have to approximate this $\\theta_{true}$ parameter using the hypothesis or predictive model by minimizing the cost function defined below.\n",
    "\n",
    "**For this task you should minimize a cost function of the form:**\n",
    "$$\\frac{1}{2m}\\sum_{i=1}^m [h_{\\theta}(x^i)-y^i]^2$$\n",
    "where\n",
    "- $x^i$ is the $i^{th}$ input \n",
    "\n",
    "- $y^i$ is the true $i^{th}$ response or output\n",
    "\n",
    "- $h_{\\theta}(x)$ is the hypothesis or predictive model"
   ]
  },
  {
   "cell_type": "markdown",
   "metadata": {},
   "source": [
    "#### Assume $~$ $h_{\\theta}(x) = \\theta x$ $~$ to be the hypothesis or predictive model"
   ]
  },
  {
   "cell_type": "code",
   "execution_count": 6,
   "metadata": {},
   "outputs": [
    {
     "data": {
      "image/png": "[encoded data removed]",
      "text/plain": [
       "<matplotlib.figure.Figure at 0x7fb20c10e5c0>"
      ]
     },
     "metadata": {},
     "output_type": "display_data"
    },
    {
     "data": {
      "image/png": "[encoded data removed]",
      "text/plain": [
       "<matplotlib.figure.Figure at 0x7fb20c097e80>"
      ]
     },
     "metadata": {},
     "output_type": "display_data"
    }
   ],
   "source": [
    "# Import libraries\n",
    "import numpy as np\n",
    "import matplotlib.pyplot as plt\n",
    "\n",
    "# Generate the true data which is to be fitted\n",
    "m = 20                      # number of data points for x\n",
    "theta_true = 0.5            # corresponds to the true slope\n",
    "x = np.linspace(-1,1,m)     # x values or inputs\n",
    "y = theta_true * x          # True response\n",
    "\n",
    "\n",
    "# Create a subplot window\n",
    "# On the left window plot the true data and the approximation \n",
    "# that you obtain with different estimates of the slope theta_true\n",
    "# and on the right window plot the cost function \n",
    "\n",
    "# TODO : Create the subplot window\n",
    "\n",
    "def hypothesis(x, theta):\n",
    "    \"\"\"Our \"hypothesis or predictive model\", a straight line through the origin.\"\"\"\n",
    "    return np.dot(np.matrix(theta).T, np.matrix(x))\n",
    "\n",
    "def cost_func(theta):\n",
    "    \"\"\"The cost function describing the goodness of fit.\"\"\"  \n",
    "    return 1.0/(2.0 * m) * np.sum((np.square(hypothesis(x, theta) - y)), 1)\n",
    "\n",
    "# First construct a grid of theta parameter and their corresponding\n",
    "# cost function values.\n",
    "theta_grid = np.linspace(-0.2,1,50)\n",
    "\n",
    "# Find the cost function values to be stored in J_grid\n",
    "# TODO : Create J_grid\n",
    "J_grid = cost_func(theta_grid)\n",
    "\n",
    "# Plot the cost function as a function of theta.\n",
    "# TODO : Do the plot\n",
    "\n",
    "plt.subplot(121)\n",
    "plt.plot(x, y)\n",
    "plt.plot(x, hypothesis(x, theta_grid).T)\n",
    "plt.subplot(122)\n",
    "plt.plot(theta_grid, J_grid)\n",
    "plt.show()\n",
    "\n",
    "\n",
    "# Take N steps with learning rate alpha down the steepest gradient,\n",
    "# starting at theta = 0.\n",
    "N = 10\n",
    "\n",
    "alpha = 1 \n",
    "# this is just a starting value of alpha, \n",
    "# you must consider different values of alpha (try using large values)\n",
    "# and redo the steps below to generate different plots\n",
    "theta = [0]\n",
    "\n",
    "\n",
    "# TODO :Compute the N steps down the steepest gradient\n",
    "for i in range(N):\n",
    "    theta.append(theta[i] - alpha * sum((theta[i] * x - y)/m * x))\n",
    "\n",
    "# TODO : Annotate the cost function plot with coloured points indicating the\n",
    "# parameters chosen and red arrows indicating the steps down the gradient.\n",
    "# Also plot the fit function on the left window of the subplot in a matching colour.\n",
    "\n",
    "plt.subplot(121)\n",
    "plt.plot(x, hypothesis(x, theta).T)\n",
    "plt.subplot(122)\n",
    "plt.plot(theta_grid, J_grid)\n",
    "plt.scatter(np.array(theta), np.array(cost_func(theta)).reshape(-1), c=theta)\n",
    "plt.show()\n",
    "\n",
    "# TODO : Put the labels, titles and a legend."
   ]
  },
  {
   "cell_type": "markdown",
   "metadata": {},
   "source": [
    "**Points**: 3.0 of 3.0\n",
    "**Comments**:\n",
    "- None"
   ]
  },
  {
   "cell_type": "markdown",
   "metadata": {},
   "source": [
    "#### Now assume that the data is generated using  $y = \\theta_1x + \\theta_0$\n",
    "** Following the same logic you applied for the above task define a predictive model \n",
    "and perform 5 steps of gradient descent with learning rate alpha = 0.7 **"
   ]
  },
  {
   "cell_type": "code",
   "execution_count": 7,
   "metadata": {},
   "outputs": [
    {
     "ename": "TypeError",
     "evalue": "Shape of x does not match that of z: found (101, 101) instead of (101, 1).",
     "output_type": "error",
     "traceback": [
      "\u001b[0;31m---------------------------------------------------------------------------\u001b[0m",
      "\u001b[0;31mTypeError\u001b[0m                                 Traceback (most recent call last)",
      "\u001b[0;32m<ipython-input-7-45de8b3fc7cf>\u001b[0m in \u001b[0;36m<module>\u001b[0;34m()\u001b[0m\n\u001b[1;32m     29\u001b[0m \u001b[0mX\u001b[0m\u001b[0;34m,\u001b[0m \u001b[0mY\u001b[0m \u001b[0;34m=\u001b[0m \u001b[0mnp\u001b[0m\u001b[0;34m.\u001b[0m\u001b[0mmeshgrid\u001b[0m\u001b[0;34m(\u001b[0m\u001b[0mtheta0_grid\u001b[0m\u001b[0;34m,\u001b[0m \u001b[0mtheta1_grid\u001b[0m\u001b[0;34m)\u001b[0m\u001b[0;34m\u001b[0m\u001b[0m\n\u001b[1;32m     30\u001b[0m \u001b[0;34m\u001b[0m\u001b[0m\n\u001b[0;32m---> 31\u001b[0;31m \u001b[0mplt\u001b[0m\u001b[0;34m.\u001b[0m\u001b[0mcontour\u001b[0m\u001b[0;34m(\u001b[0m\u001b[0mX\u001b[0m\u001b[0;34m,\u001b[0m \u001b[0mY\u001b[0m\u001b[0;34m,\u001b[0m \u001b[0mJ_grid\u001b[0m\u001b[0;34m)\u001b[0m\u001b[0;34m\u001b[0m\u001b[0m\n\u001b[0m\u001b[1;32m     32\u001b[0m \u001b[0mplt\u001b[0m\u001b[0;34m.\u001b[0m\u001b[0mshow\u001b[0m\u001b[0;34m(\u001b[0m\u001b[0;34m)\u001b[0m\u001b[0;34m\u001b[0m\u001b[0m\n\u001b[1;32m     33\u001b[0m \u001b[0;34m\u001b[0m\u001b[0m\n",
      "\u001b[0;32m~/miniconda3/envs/nnia/lib/python3.6/site-packages/matplotlib/pyplot.py\u001b[0m in \u001b[0;36mcontour\u001b[0;34m(*args, **kwargs)\u001b[0m\n\u001b[1;32m   2851\u001b[0m                       mplDeprecation)\n\u001b[1;32m   2852\u001b[0m     \u001b[0;32mtry\u001b[0m\u001b[0;34m:\u001b[0m\u001b[0;34m\u001b[0m\u001b[0m\n\u001b[0;32m-> 2853\u001b[0;31m         \u001b[0mret\u001b[0m \u001b[0;34m=\u001b[0m \u001b[0max\u001b[0m\u001b[0;34m.\u001b[0m\u001b[0mcontour\u001b[0m\u001b[0;34m(\u001b[0m\u001b[0;34m*\u001b[0m\u001b[0margs\u001b[0m\u001b[0;34m,\u001b[0m \u001b[0;34m**\u001b[0m\u001b[0mkwargs\u001b[0m\u001b[0;34m)\u001b[0m\u001b[0;34m\u001b[0m\u001b[0m\n\u001b[0m\u001b[1;32m   2854\u001b[0m     \u001b[0;32mfinally\u001b[0m\u001b[0;34m:\u001b[0m\u001b[0;34m\u001b[0m\u001b[0m\n\u001b[1;32m   2855\u001b[0m         \u001b[0max\u001b[0m\u001b[0;34m.\u001b[0m\u001b[0m_hold\u001b[0m \u001b[0;34m=\u001b[0m \u001b[0mwashold\u001b[0m\u001b[0;34m\u001b[0m\u001b[0m\n",
      "\u001b[0;32m~/miniconda3/envs/nnia/lib/python3.6/site-packages/matplotlib/__init__.py\u001b[0m in \u001b[0;36minner\u001b[0;34m(ax, *args, **kwargs)\u001b[0m\n\u001b[1;32m   1896\u001b[0m                     warnings.warn(msg % (label_namer, func.__name__),\n\u001b[1;32m   1897\u001b[0m                                   RuntimeWarning, stacklevel=2)\n\u001b[0;32m-> 1898\u001b[0;31m             \u001b[0;32mreturn\u001b[0m \u001b[0mfunc\u001b[0m\u001b[0;34m(\u001b[0m\u001b[0max\u001b[0m\u001b[0;34m,\u001b[0m \u001b[0;34m*\u001b[0m\u001b[0margs\u001b[0m\u001b[0;34m,\u001b[0m \u001b[0;34m**\u001b[0m\u001b[0mkwargs\u001b[0m\u001b[0;34m)\u001b[0m\u001b[0;34m\u001b[0m\u001b[0m\n\u001b[0m\u001b[1;32m   1899\u001b[0m         \u001b[0mpre_doc\u001b[0m \u001b[0;34m=\u001b[0m \u001b[0minner\u001b[0m\u001b[0;34m.\u001b[0m\u001b[0m__doc__\u001b[0m\u001b[0;34m\u001b[0m\u001b[0m\n\u001b[1;32m   1900\u001b[0m         \u001b[0;32mif\u001b[0m \u001b[0mpre_doc\u001b[0m \u001b[0;32mis\u001b[0m \u001b[0;32mNone\u001b[0m\u001b[0;34m:\u001b[0m\u001b[0;34m\u001b[0m\u001b[0m\n",
      "\u001b[0;32m~/miniconda3/envs/nnia/lib/python3.6/site-packages/matplotlib/axes/_axes.py\u001b[0m in \u001b[0;36mcontour\u001b[0;34m(self, *args, **kwargs)\u001b[0m\n\u001b[1;32m   5823\u001b[0m             \u001b[0mself\u001b[0m\u001b[0;34m.\u001b[0m\u001b[0mcla\u001b[0m\u001b[0;34m(\u001b[0m\u001b[0;34m)\u001b[0m\u001b[0;34m\u001b[0m\u001b[0m\n\u001b[1;32m   5824\u001b[0m         \u001b[0mkwargs\u001b[0m\u001b[0;34m[\u001b[0m\u001b[0;34m'filled'\u001b[0m\u001b[0;34m]\u001b[0m \u001b[0;34m=\u001b[0m \u001b[0;32mFalse\u001b[0m\u001b[0;34m\u001b[0m\u001b[0m\n\u001b[0;32m-> 5825\u001b[0;31m         \u001b[0mcontours\u001b[0m \u001b[0;34m=\u001b[0m \u001b[0mmcontour\u001b[0m\u001b[0;34m.\u001b[0m\u001b[0mQuadContourSet\u001b[0m\u001b[0;34m(\u001b[0m\u001b[0mself\u001b[0m\u001b[0;34m,\u001b[0m \u001b[0;34m*\u001b[0m\u001b[0margs\u001b[0m\u001b[0;34m,\u001b[0m \u001b[0;34m**\u001b[0m\u001b[0mkwargs\u001b[0m\u001b[0;34m)\u001b[0m\u001b[0;34m\u001b[0m\u001b[0m\n\u001b[0m\u001b[1;32m   5826\u001b[0m         \u001b[0mself\u001b[0m\u001b[0;34m.\u001b[0m\u001b[0mautoscale_view\u001b[0m\u001b[0;34m(\u001b[0m\u001b[0;34m)\u001b[0m\u001b[0;34m\u001b[0m\u001b[0m\n\u001b[1;32m   5827\u001b[0m         \u001b[0;32mreturn\u001b[0m \u001b[0mcontours\u001b[0m\u001b[0;34m\u001b[0m\u001b[0m\n",
      "\u001b[0;32m~/miniconda3/envs/nnia/lib/python3.6/site-packages/matplotlib/contour.py\u001b[0m in \u001b[0;36m__init__\u001b[0;34m(self, ax, *args, **kwargs)\u001b[0m\n\u001b[1;32m    862\u001b[0m         \u001b[0mself\u001b[0m\u001b[0;34m.\u001b[0m\u001b[0m_transform\u001b[0m \u001b[0;34m=\u001b[0m \u001b[0mkwargs\u001b[0m\u001b[0;34m.\u001b[0m\u001b[0mget\u001b[0m\u001b[0;34m(\u001b[0m\u001b[0;34m'transform'\u001b[0m\u001b[0;34m,\u001b[0m \u001b[0;32mNone\u001b[0m\u001b[0;34m)\u001b[0m\u001b[0;34m\u001b[0m\u001b[0m\n\u001b[1;32m    863\u001b[0m \u001b[0;34m\u001b[0m\u001b[0m\n\u001b[0;32m--> 864\u001b[0;31m         \u001b[0mself\u001b[0m\u001b[0;34m.\u001b[0m\u001b[0m_process_args\u001b[0m\u001b[0;34m(\u001b[0m\u001b[0;34m*\u001b[0m\u001b[0margs\u001b[0m\u001b[0;34m,\u001b[0m \u001b[0;34m**\u001b[0m\u001b[0mkwargs\u001b[0m\u001b[0;34m)\u001b[0m\u001b[0;34m\u001b[0m\u001b[0m\n\u001b[0m\u001b[1;32m    865\u001b[0m         \u001b[0mself\u001b[0m\u001b[0;34m.\u001b[0m\u001b[0m_process_levels\u001b[0m\u001b[0;34m(\u001b[0m\u001b[0;34m)\u001b[0m\u001b[0;34m\u001b[0m\u001b[0m\n\u001b[1;32m    866\u001b[0m \u001b[0;34m\u001b[0m\u001b[0m\n",
      "\u001b[0;32m~/miniconda3/envs/nnia/lib/python3.6/site-packages/matplotlib/contour.py\u001b[0m in \u001b[0;36m_process_args\u001b[0;34m(self, *args, **kwargs)\u001b[0m\n\u001b[1;32m   1427\u001b[0m                 \u001b[0mself\u001b[0m\u001b[0;34m.\u001b[0m\u001b[0m_corner_mask\u001b[0m \u001b[0;34m=\u001b[0m \u001b[0mmpl\u001b[0m\u001b[0;34m.\u001b[0m\u001b[0mrcParams\u001b[0m\u001b[0;34m[\u001b[0m\u001b[0;34m'contour.corner_mask'\u001b[0m\u001b[0;34m]\u001b[0m\u001b[0;34m\u001b[0m\u001b[0m\n\u001b[1;32m   1428\u001b[0m \u001b[0;34m\u001b[0m\u001b[0m\n\u001b[0;32m-> 1429\u001b[0;31m             \u001b[0mx\u001b[0m\u001b[0;34m,\u001b[0m \u001b[0my\u001b[0m\u001b[0;34m,\u001b[0m \u001b[0mz\u001b[0m \u001b[0;34m=\u001b[0m \u001b[0mself\u001b[0m\u001b[0;34m.\u001b[0m\u001b[0m_contour_args\u001b[0m\u001b[0;34m(\u001b[0m\u001b[0margs\u001b[0m\u001b[0;34m,\u001b[0m \u001b[0mkwargs\u001b[0m\u001b[0;34m)\u001b[0m\u001b[0;34m\u001b[0m\u001b[0m\n\u001b[0m\u001b[1;32m   1430\u001b[0m \u001b[0;34m\u001b[0m\u001b[0m\n\u001b[1;32m   1431\u001b[0m             \u001b[0m_mask\u001b[0m \u001b[0;34m=\u001b[0m \u001b[0mma\u001b[0m\u001b[0;34m.\u001b[0m\u001b[0mgetmask\u001b[0m\u001b[0;34m(\u001b[0m\u001b[0mz\u001b[0m\u001b[0;34m)\u001b[0m\u001b[0;34m\u001b[0m\u001b[0m\n",
      "\u001b[0;32m~/miniconda3/envs/nnia/lib/python3.6/site-packages/matplotlib/contour.py\u001b[0m in \u001b[0;36m_contour_args\u001b[0;34m(self, args, kwargs)\u001b[0m\n\u001b[1;32m   1506\u001b[0m             \u001b[0margs\u001b[0m \u001b[0;34m=\u001b[0m \u001b[0margs\u001b[0m\u001b[0;34m[\u001b[0m\u001b[0;36m1\u001b[0m\u001b[0;34m:\u001b[0m\u001b[0;34m]\u001b[0m\u001b[0;34m\u001b[0m\u001b[0m\n\u001b[1;32m   1507\u001b[0m         \u001b[0;32melif\u001b[0m \u001b[0mNargs\u001b[0m \u001b[0;34m<=\u001b[0m \u001b[0;36m4\u001b[0m\u001b[0;34m:\u001b[0m\u001b[0;34m\u001b[0m\u001b[0m\n\u001b[0;32m-> 1508\u001b[0;31m             \u001b[0mx\u001b[0m\u001b[0;34m,\u001b[0m \u001b[0my\u001b[0m\u001b[0;34m,\u001b[0m \u001b[0mz\u001b[0m \u001b[0;34m=\u001b[0m \u001b[0mself\u001b[0m\u001b[0;34m.\u001b[0m\u001b[0m_check_xyz\u001b[0m\u001b[0;34m(\u001b[0m\u001b[0margs\u001b[0m\u001b[0;34m[\u001b[0m\u001b[0;34m:\u001b[0m\u001b[0;36m3\u001b[0m\u001b[0;34m]\u001b[0m\u001b[0;34m,\u001b[0m \u001b[0mkwargs\u001b[0m\u001b[0;34m)\u001b[0m\u001b[0;34m\u001b[0m\u001b[0m\n\u001b[0m\u001b[1;32m   1509\u001b[0m             \u001b[0margs\u001b[0m \u001b[0;34m=\u001b[0m \u001b[0margs\u001b[0m\u001b[0;34m[\u001b[0m\u001b[0;36m3\u001b[0m\u001b[0;34m:\u001b[0m\u001b[0;34m]\u001b[0m\u001b[0;34m\u001b[0m\u001b[0m\n\u001b[1;32m   1510\u001b[0m         \u001b[0;32melse\u001b[0m\u001b[0;34m:\u001b[0m\u001b[0;34m\u001b[0m\u001b[0m\n",
      "\u001b[0;32m~/miniconda3/envs/nnia/lib/python3.6/site-packages/matplotlib/contour.py\u001b[0m in \u001b[0;36m_check_xyz\u001b[0;34m(self, args, kwargs)\u001b[0m\n\u001b[1;32m   1564\u001b[0m             \u001b[0;32mif\u001b[0m \u001b[0mx\u001b[0m\u001b[0;34m.\u001b[0m\u001b[0mshape\u001b[0m \u001b[0;34m!=\u001b[0m \u001b[0mz\u001b[0m\u001b[0;34m.\u001b[0m\u001b[0mshape\u001b[0m\u001b[0;34m:\u001b[0m\u001b[0;34m\u001b[0m\u001b[0m\n\u001b[1;32m   1565\u001b[0m                 raise TypeError(\"Shape of x does not match that of z: found \"\n\u001b[0;32m-> 1566\u001b[0;31m                                 \"{0} instead of {1}.\".format(x.shape, z.shape))\n\u001b[0m\u001b[1;32m   1567\u001b[0m \u001b[0;34m\u001b[0m\u001b[0m\n\u001b[1;32m   1568\u001b[0m             \u001b[0;32mif\u001b[0m \u001b[0my\u001b[0m\u001b[0;34m.\u001b[0m\u001b[0mshape\u001b[0m \u001b[0;34m!=\u001b[0m \u001b[0mz\u001b[0m\u001b[0;34m.\u001b[0m\u001b[0mshape\u001b[0m\u001b[0;34m:\u001b[0m\u001b[0;34m\u001b[0m\u001b[0m\n",
      "\u001b[0;31mTypeError\u001b[0m: Shape of x does not match that of z: found (101, 101) instead of (101, 1)."
     ]
    }
   ],
   "source": [
    "# Generate the true data which is to be fitted\n",
    "m = 20\n",
    "theta0_true = 2\n",
    "theta1_true = 0.5\n",
    "x = np.linspace(-1,1,m)\n",
    "y = theta0_true + theta1_true * x\n",
    "\n",
    "# Create the sub-plot: left window is the data, right window will be the cost function.\n",
    "# TODO\n",
    "\n",
    "\n",
    "def hypothesis(x, theta0, theta1):\n",
    "    \"\"\"Our \"hypothesis function\", a straight line.\"\"\"\n",
    "    return np.dot(np.matrix(theta1).T, np.matrix(x)) +  np.matrix(theta0).T\n",
    "\n",
    "def cost_func(theta0, theta1):\n",
    "    \"\"\"The cost function, J(theta0, theta1) describing the goodness of fit.\"\"\"\n",
    "    return 1.0/(2.0 * m) * np.sum((np.square(hypothesis(x, theta0, theta1) - y)), 1)\n",
    "\n",
    "\n",
    "# First construct a grid of (theta0, theta1) parameter pairs and their\n",
    "# corresponding cost function values.\n",
    "theta0_grid = np.linspace(-1,4,101)\n",
    "theta1_grid = np.linspace(-5,5,101)\n",
    "\n",
    "# TODO : Compute the cost function values\n",
    "\n",
    "J_grid = cost_func(theta0_grid, theta1_grid)\n",
    "X, Y = np.meshgrid(theta0_grid, theta1_grid)\n",
    "\n",
    "plt.contour(X, Y, J_grid)\n",
    "plt.show()\n",
    "\n",
    "\n",
    "# TODO : Do a labeled contour plot for the cost function on right window of the above subplot\n",
    "\n",
    "\n",
    "# TODO : Take 5 steps with learning rate alpha = 0.7 down the steepest gradient,\n",
    "# starting at (theta0, theta1) = (0, 0).\n",
    "\n",
    "\n",
    "# TODO : Annotate the cost function plot with coloured points indicating the\n",
    "# parameters chosen and red arrows indicating the steps down the gradient.\n",
    "# Also plot the fit function on the left window in a matching colour.\n",
    "\n",
    "\n",
    "# TODO : Add the labels, titles and a legend to the plot."
   ]
  },
  {
   "cell_type": "markdown",
   "metadata": {},
   "source": [
    "**Points**: 0.0 of 2.0\n",
    "**Comments**:\n",
    "- Your code produced an error."
   ]
  },
  {
   "cell_type": "markdown",
   "metadata": {},
   "source": [
    "### Linear Algebra Bonus\n",
    "- [Additional material - Linear Algebra Basics](http://www.cs.ubc.ca/~schmidtm/Documents/2009_Notes_LinearAlgebra.pdf)"
   ]
  },
  {
   "cell_type": "markdown",
   "metadata": {},
   "source": [
    "#### Trace of a Matrix $~$ (3 points)\n",
    "- [Reading material on Trace](https://en.wikipedia.org/wiki/Trace_(linear_algebra)"
   ]
  },
  {
   "cell_type": "markdown",
   "metadata": {},
   "source": [
    "Prove that the trace of a ***symmetric positive definite*** matrix is the sum of its eigenvalues.    ($0.5$ points)\n",
    "\n",
    "##### Answer\n",
    "$ tr(A) = \\sum_{i=1}^n a_{ii} $  A positive definite matrix has positive diagonal entries and thus trace is positive. $ \\implies a_{ii}>0 \\; \\forall i\\in [1,n] $\n",
    "\n",
    "The eigen-decomposition of $ A = V\\Lambda V^T$ where V is orthonormal $\\implies V^{-1} = V^T $ and $ ||v_i||_2^2 = 1 $\n",
    "\n",
    "$\\implies A = \\begin{bmatrix}\n",
    "\\Sigma_{i=1}^{n}\\lambda_i v_{1i}^2 &\\Sigma_{i=1}^{n}\\lambda_i v_{1i} v_{2i} &\\cdots &\\Sigma_{i=1}^{n}\\lambda_i v_{1i} v_{ni} \\\\\n",
    "\\Sigma_{i=1}^{n}\\lambda_i v_{2i} v_{1i} &\\Sigma_{i=1}^{n}\\lambda_i v_{2i}^2 &\\cdots &\\Sigma_{i=1}^{n}\\lambda_i v_{2i} v_{ni} \\\\\n",
    "\\vdots & \\vdots & \\ddots & \\vdots\\\\\n",
    "\\Sigma_{i=1}^{n}\\lambda_i v_{ni} v_{1i} &\\Sigma_{i=1}^{n}\\lambda_i v_{ni} v_{2i} &\\cdots &\\Sigma_{i=1}^{n}\\lambda_i v_{ni}^2\n",
    "\\end{bmatrix}$ and $tr(A) = \\Sigma_{j=1}^{n}(\\lambda_j \\Sigma_{i=1}^nv_{ij}^2) \\implies \\Sigma_{j=1}^n \\lambda_j||v_j||_2^2 \\implies $ $\\Sigma_{j=1}^n \\lambda_j\\ $\n",
    "\n",
    "Suppose $\\mathbf{Y}$ is a $n \\times m$ matrix with $m \\leq n$ and has ***full rank***, then\n",
    "\n",
    "$(a)$.   Give the rank of $\\mathbf{Y}$.                                                                 ($0.5$ points)\n",
    "\n",
    "Since $\\mathbf{Y}$ has full rank, the rank should be $m$"
   ]
  },
  {
   "cell_type": "markdown",
   "metadata": {},
   "source": [
    "$(b)$.  Show that trace of $\\mathbf{Y}^{T}(\\mathbf{Y}^T\\mathbf{Y})^{-1}\\mathbf{Y}$ = rank($\\mathbf{Y}$)                                     ($1$ points)\n",
    "\n",
    "Using the property of trace, $tr(AB) = tr(BA) \\implies tr(\\mathbf{Y}[(\\mathbf{Y}^T\\mathbf{Y})^{-1}\\mathbf{Y}^{T}]) \\implies tr((\\mathbf{Y}^T\\mathbf{Y})^{-1}[\\mathbf{Y}^{T}\\mathbf{Y}]) \\implies tr(\\mathbf{I}_{mxm}) \\implies m $ which is the rank of $\\mathbf{Y}$"
   ]
  },
  {
   "cell_type": "markdown",
   "metadata": {},
   "source": [
    "$(c)$. Prove that $\\mathbf{Y}^{T}(\\mathbf{Y}^T\\mathbf{Y})^{-1}\\mathbf{Y}$ is the projection matrix w.r.t space defined by $\\mathbf{Y}$.     ($1$ points)\n",
    "\n",
    "$ (\\mathbf{Y}(\\mathbf{Y}^T\\mathbf{Y})^{-1}\\mathbf{Y}^{T}) (\\mathbf{Y}(\\mathbf{Y}^T\\mathbf{Y})^{-1}\\mathbf{Y}^{T}) \\implies \\mathbf{Y}(\\mathbf{Y}^T\\mathbf{Y})^{-1}[\\mathbf{Y}^{T}\\mathbf{Y}](\\mathbf{Y}^T\\mathbf{Y})^{-1}\\mathbf{Y}^{T} \\implies \\mathbf{Y}(\\mathbf{Y}^T\\mathbf{Y})^{-1}\\underbrace{\\mathbf{Y}^{T}\\mathbf{Y}(\\mathbf{Y}^T\\mathbf{Y})^{-1}}_\\text{I}\\mathbf{Y}^{T} \\implies \\mathbf{Y}(\\mathbf{Y}^T\\mathbf{Y})^{-1}\\mathbf{Y}^{T} $\n",
    "\n",
    "Thus, it is a projection matrix w.r.t space defined by $\\mathbf{Y}$"
   ]
  },
  {
   "cell_type": "markdown",
   "metadata": {},
   "source": [
    "**Points**: 3.0 of 3.0\n",
    "**Comments**:\n",
    "- Please present your solution at the blackboard. Thanks!\n",
    "- You get full points here but there is an issue with your proof for $b)$. The problem was however, that there was a typo in to exercise. $\\mathbf{Y}$ should have been defined as follows:\n",
    "$\\mathbf{Y}$ is a $m \\times n$ matrix with $n \\leq m$. "
   ]
  },
  {
   "cell_type": "markdown",
   "metadata": {},
   "source": [
    "#### Jacobian $~$ (3 points)\n",
    "\n",
    "***[Reading material on Jacobian](https://en.wikipedia.org/wiki/Jacobian_matrix_and_determinant)***"
   ]
  },
  {
   "cell_type": "markdown",
   "metadata": {},
   "source": [
    "Show that the Jacobian determinant of $\\frac{\\partial(fg, h)}{\\partial(u, v)}$ is equal to $\\frac{\\partial(f, h)}{\\partial(u, v)}g + f\\frac{\\partial(g, h)}{\\partial(u, v)}$,\n",
    "\n",
    "where $f$,$g$, and $h$ are functions of $u$ and $v$ (i.e., $f(u,v)$, $g(u,v)$, and $h(u,v)$)   ($3$ points)\n",
    "\n",
    "Hint: Use the property $\\frac{\\partial(y, x)}{\\partial(u, v)} = \\frac{\\partial(y)}{\\partial(u)}\\frac{\\partial(x)}{\\partial(v)}-\\frac{\\partial(y)}{\\partial(v)}\\frac{\\partial(x)}{\\partial(u)}$\n",
    "\n",
    "$\\frac{\\partial(fg, h)}{\\partial(u, v)} = \\frac{\\partial(fg)}{\\partial(u)}\\frac{\\partial(h)}{\\partial(v)}-\\frac{\\partial(fg)}{\\partial(v)}\\frac{\\partial(h)}{\\partial(u)} \\implies (f\\frac{\\partial(g)}{\\partial(u)} + g\\frac{\\partial(f)}{\\partial(u)})\\frac{\\partial(h)}{\\partial(v)} - (f\\frac{\\partial(g)}{\\partial(v)} + g\\frac{\\partial(f)}{\\partial(v)})\\frac{\\partial(h)}{\\partial(u)} \\implies g(\\frac{\\partial(f)}{\\partial(u)}\\frac{\\partial(h)}{\\partial(v)} - \\frac{\\partial(f)}{\\partial(v)}\\frac{\\partial(h)}{\\partial(u)}) + f(\\frac{\\partial(g)}{\\partial(u)}\\frac{\\partial(h)}{\\partial(v)} - \\frac{\\partial(g)}{\\partial(v)}\\frac{\\partial(h)}{\\partial(u)}) \\implies g\\frac{\\partial(f, h)}{\\partial(u, v)} + f\\frac{\\partial(g, h)}{\\partial(u, v)} $"
   ]
  },
  {
   "cell_type": "markdown",
   "metadata": {},
   "source": [
    "**Points**: 3.0 of 3.0\n",
    "**Comments**:\n",
    "- Thanks for presenting your solution in the tutorial. Of course you get full points. The issue was that *jupyter lab* did cut off the right most part of your solution. That's why I was not able to follow your proof. "
   ]
  },
  {
   "cell_type": "markdown",
   "metadata": {},
   "source": [
    "#### Hessian $~$ (2 points)\n",
    "***[Reading material on Hessian](https://en.wikipedia.org/wiki/Hessian_matrix)***"
   ]
  },
  {
   "cell_type": "markdown",
   "metadata": {},
   "source": [
    "Let $\\mathbf{M}=\\left[\\begin{array}{cccc}\n",
    "   5 & 1 & 0 & 1\\\\\n",
    "   1 & 4 & 1 & 0\\\\\n",
    "   0 & 1 & 3 & 1\\\\\n",
    "   1 & 0 & 1 & 2\\\\\n",
    "  \\end{array}\\right]$\n",
    "  \n",
    "denote the Hessian matrix at particular point for a particular function.\n",
    "\n",
    "$(a)$. What properties of the functional can you infer from the above information.(give mathematical reasons) ($1$ point)\n",
    "\n",
    "$\\mathbf{M}$ is positive semi-definite since it is\n",
    "\n",
    "strictly diagonally dominant i.e. $m_{ii} \\geq \\Sigma_{i=1, i\\neq j}^n m_{ij} $, \n",
    "\n",
    "symmetric $\\mathbf{M} = \\mathbf{M}^T$, \n",
    "\n",
    "positive diagonals $m_{ii} > 0$\n",
    "\n",
    "Thus, it is convex at the particular point."
   ]
  },
  {
   "cell_type": "markdown",
   "metadata": {},
   "source": [
    "$(b)$. Provide a generic mathematical representation (e.g. the generic representation of a straight line is $ax+by+c=0$) for the above function. ($1$ point)"
   ]
  },
  {
   "cell_type": "markdown",
   "metadata": {},
   "source": [
    "**Points**: 1.0 of 2.0\n",
    "**Comments**:\n",
    "- None"
   ]
  },
  {
   "cell_type": "markdown",
   "metadata": {},
   "source": [
    "## Grading: 16.0 of 20.0 points + 7.0 bonus points. Well done."
   ]
  }
 ],
 "metadata": {
  "kernelspec": {
   "display_name": "Python 3",
   "language": "python",
   "name": "python3"
  },
  "language_info": {
   "codemirror_mode": {
    "name": "ipython",
    "version": 3
   },
   "file_extension": ".py",
   "mimetype": "text/x-python",
   "name": "python",
   "nbconvert_exporter": "python",
   "pygments_lexer": "ipython3",
   "version": "3.6.2"
  }
 },
 "nbformat": 4,
 "nbformat_minor": 2
}
